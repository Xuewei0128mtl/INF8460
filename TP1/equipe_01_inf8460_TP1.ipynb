{
 "cells": [
  {
   "cell_type": "markdown",
   "metadata": {
    "id": "znlt8jyJKg-5"
   },
   "source": [
    "##### INF8460 – Traitement automatique de la langue naturelle - Automne 2024\n",
    "### TP1 - Recherche de documents avec une métrique de similarité\n"
   ]
  },
  {
   "cell_type": "markdown",
   "metadata": {},
   "source": [
    "## Identification de l'équipe:\n",
    "\n",
    "### Groupe de laboratoire: G01_B1\n",
    "\n",
    "### Equipe numéro : Eq01\n",
    "\n",
    "### Membres:\n",
    "\n",
    "- Zoé Paradis 2008732 (33% de contribution. nature de la contribution : Elle a réalisé tous les excercice du tp individuellement comme chaque coéquipière. Puis les codes réalisé ont été comparé avec les autres membres pour valider les réponses obtenues. Finalement, une version propre du tp a été réaliseé ensemble en combinant le code de tous les coéquipières.)\n",
    "- Mahacine Ettahri 2312965 (33% de contribution. nature de la contribution : Elle a réalisé tous les excercice du tp individuellement comme chaque coéquipière. Puis les codes réalisé ont été comparé avec les autres membres pour valider les réponses obtenues. Finalement, une version propre du tp a été réaliseé ensemble en combinant le code de tous les coéquipières.)\n",
    "- Xuewei Li 1879356 (33% de contribution, nature de la contribution : Elle a réalisé tous les excercice du tp individuellement comme chaque coéquipière. Puis les codes réalisé ont été comparé avec les autres membres pour valider les réponses obtenues. Finalement, une version propre du tp a été réaliseé ensemble en combinant le code de tous les coéquipières.)\n",
    "\n",
    "* nature de la contribution: Décrivez brièvement ce qui a été fait par chaque membre de l’équipe. Tous les membres sont censés contribuer au développement. Bien que chaque membre puisse effectuer différentes tâches, vous devez vous efforcer d’obtenir une répartition égale du travail. Soyez précis ! N'indiquez pas seulement : travail réparti équitablement"
   ]
  },
  {
   "cell_type": "markdown",
   "metadata": {},
   "source": [
    "## Mise en place"
   ]
  },
  {
   "cell_type": "markdown",
   "metadata": {},
   "source": [
    "### Objectif du TP\n",
    "\n",
    "La recherche d'information est le processus d'accès aux données, généralement des documents ou d'autres données non structurées, à partir d'une requête. Dans ce TP, vous aurez en entrée une requête textuelle sous forme d'affirmation. Il faudra retrouver dans un corpus de littérature scientifique les documents pertinents qui justifient ou infirment la véracité de cette affirmation. Vous utiliserez des modèles vectoriels et des métriques de similarité pour cette tâche."
   ]
  },
  {
   "cell_type": "markdown",
   "metadata": {},
   "source": [
    "### Jeux de données\n",
    "\n",
    "Dans ce TP, vous utiliserez le jeu de données dans le répertoire _data_. Il s'agit d'un ensemble de données comprenant 809 affirmations rédigées par des experts et 5183 documents de références pour ces affirmations. Ces documents contiennent des phrases qui confirment ou infirment (contredisent) les affirmations. L'objectif est donc de trouver un document pertinent, c'est-à-dire contenant la ou les phrases qui permettent d'évaluer une affirmation donnée en entrée en utilisant une similarité sémantique. \n",
    "\n",
    "Le jeu de données comprend :\n",
    "\n",
    "1. Un corpus (_corpus.jsonl_) qui contient des documents décrits avec les informations suivantes :\n",
    "    - 'doc_id' : permet d'identifier le document en entrée\n",
    "    - 'title' : donne le titre du document\n",
    "    - 'abstract': est le résumé du document\n",
    "    - 'structured': indique si le document est structuré ou pas\n",
    "\n",
    "2. Un ensemble d'affirmations (_claims.jsonl_) qui contient des documents décrits avec les informations suivantes :\n",
    "    - 'id' : identifie l'affirmation.\n",
    "    - 'claim' : est l'affirmation en tant que telle.\n",
    "    - 'evidence' : précise quelles phrases du document sont pertinentes pour l'affirmation. Chaque phrase est accompagnée d'une étiquette de véracité (confirm/contradict) pour indiquer si la phrase confirme ou contredit l'affirmation.  \n",
    "    - 'cited_doc_ids' : indique les identifiants des documents cités.\n",
    "\n",
    "\n",
    "\n",
    "Dans _claims.jsonl_, seuls les identifiants des documents sont renseignés. Pour avoir les détails d'un document tel que le titre (\"title\") et le résumé (\"abstract\"), il faudra consulter le fichier _corpus.jsonl_. \n",
    "\n",
    "Voici un exemple :\n",
    "\n",
    "- **Affirmation (claim)** : Consumption of whole fruits increases the risk of type 2 diabetes.\n",
    "- **Cited document(s) ID(s)** : 1974176\n",
    "- **Evidence (sentence in the document containing the proof)** : [{'sentences': [11], 'label': 'CONTRADICT'}]\n",
    "\n",
    "  Ici [11] constitue le numéro de la phrase qui contredit l'affirmation.\n",
    "\n",
    "- **Cited document(s) title(s)** : Fruit consumption and risk of type 2 diabetes: results from three prospective longitudinal cohort studies\n",
    "- **Cited document(s) abstract(s) (list of sentences)** : \n",
    "    - [0] 'OBJECTIVE To determine whether individual fruits are differentially associated with risk of type 2 diabetes.\\n'\n",
    "    - [1] 'DESIGN Prospective longitudinal cohort study.'\n",
    "    - ...\n",
    "    - [10] 'CONCLUSION Our findings suggest the presence of heterogeneity in the associations between individual fruit consumption and risk of type 2 diabetes.'\n",
    "    - [11] 'Greater consumption of specific whole fruits, particularly blueberries, grapes, and apples, is significantly associated with a lower risk of type 2 diabetes, whereas greater consumption of fruit juice is associated with a higher risk.'\n",
    "\n",
    "Le champ \"evidence\" indique la phrase au niveau du résumé du document qui confirme ou infirme l'affirmation, d'où le numéro de la phrase et le label qui y sont renseignés. Dans le cas particulier de l'exemple ci-dessus, on voit bien que la onzième phrase du résumé du document est la plus pertinente pour l'affirmation et qu'elle la contredit, ce qui explique le label \"CONTRADICT\" dans \"evidence\". Cependant, dans le cadre de ce TP, on ne s'intéresse qu'à la présence de cette phrase pertinente dans le document, donc on ne considérera pas cette colonne \"evidence\" dans la suite du TP."
   ]
  },
  {
   "cell_type": "markdown",
   "metadata": {
    "id": "26Qe_-7z25EE"
   },
   "source": [
    "### Librairies permises\n",
    "- Jupyter notebook\n",
    "- NLTK\n",
    "- Numpy \n",
    "- Pandas\n",
    "- Sklearn\n",
    "- PowerLaw\n",
    "- Matplotlib\n",
    "- TQDM\n",
    "- BM25\n",
    "- Pour toute autre librairie, demandez à votre chargé de laboratoire"
   ]
  },
  {
   "cell_type": "markdown",
   "metadata": {
    "id": "zupXN9tr3oEa"
   },
   "source": [
    "## Étapes du TP\n",
    "A partir du notebook _INF8460_A24_TP1_ qui est distribué, vous devez réaliser les étapes suivantes. (Notez que les cellules dans le squelette sont là à titre informatif - il est fort probable que vous rajoutiez des sections au fur et à mesure de votre TP)."
   ]
  },
  {
   "cell_type": "code",
   "execution_count": 63,
   "metadata": {},
   "outputs": [],
   "source": [
    "# Lien vers les fichiers à utiliser\n",
    "# Ne pas modifier\n",
    "\n",
    "PATH = 'data/ai2_data/'"
   ]
  },
  {
   "cell_type": "code",
   "execution_count": 64,
   "metadata": {},
   "outputs": [
    {
     "name": "stdout",
     "output_type": "stream",
     "text": [
      "Defaulting to user installation because normal site-packages is not writeable\n",
      "Requirement already satisfied: rank_bm25 in c:\\users\\xueweili\\appdata\\roaming\\python\\python311\\site-packages (0.2.2)\n",
      "Requirement already satisfied: numpy in c:\\programdata\\anaconda3\\lib\\site-packages (from rank_bm25) (1.24.3)\n",
      "Defaulting to user installation because normal site-packages is not writeable\n",
      "Requirement already satisfied: powerlaw in c:\\users\\xueweili\\appdata\\roaming\\python\\python311\\site-packages (1.5)\n",
      "Requirement already satisfied: scipy in c:\\programdata\\anaconda3\\lib\\site-packages (from powerlaw) (1.11.1)\n",
      "Requirement already satisfied: numpy in c:\\programdata\\anaconda3\\lib\\site-packages (from powerlaw) (1.24.3)\n",
      "Requirement already satisfied: matplotlib in c:\\programdata\\anaconda3\\lib\\site-packages (from powerlaw) (3.7.2)\n",
      "Requirement already satisfied: mpmath in c:\\programdata\\anaconda3\\lib\\site-packages (from powerlaw) (1.3.0)\n",
      "Requirement already satisfied: contourpy>=1.0.1 in c:\\programdata\\anaconda3\\lib\\site-packages (from matplotlib->powerlaw) (1.0.5)\n",
      "Requirement already satisfied: cycler>=0.10 in c:\\programdata\\anaconda3\\lib\\site-packages (from matplotlib->powerlaw) (0.11.0)\n",
      "Requirement already satisfied: fonttools>=4.22.0 in c:\\programdata\\anaconda3\\lib\\site-packages (from matplotlib->powerlaw) (4.25.0)\n",
      "Requirement already satisfied: kiwisolver>=1.0.1 in c:\\programdata\\anaconda3\\lib\\site-packages (from matplotlib->powerlaw) (1.4.4)\n",
      "Requirement already satisfied: packaging>=20.0 in c:\\programdata\\anaconda3\\lib\\site-packages (from matplotlib->powerlaw) (23.1)\n",
      "Requirement already satisfied: pillow>=6.2.0 in c:\\programdata\\anaconda3\\lib\\site-packages (from matplotlib->powerlaw) (9.4.0)\n",
      "Requirement already satisfied: pyparsing<3.1,>=2.3.1 in c:\\programdata\\anaconda3\\lib\\site-packages (from matplotlib->powerlaw) (3.0.9)\n",
      "Requirement already satisfied: python-dateutil>=2.7 in c:\\programdata\\anaconda3\\lib\\site-packages (from matplotlib->powerlaw) (2.8.2)\n",
      "Requirement already satisfied: six>=1.5 in c:\\programdata\\anaconda3\\lib\\site-packages (from python-dateutil>=2.7->matplotlib->powerlaw) (1.16.0)\n"
     ]
    }
   ],
   "source": [
    "!pip install rank_bm25 \n",
    "!pip install powerlaw"
   ]
  },
  {
   "cell_type": "code",
   "execution_count": 65,
   "metadata": {},
   "outputs": [],
   "source": [
    "# Import des librairies\n",
    "\n",
    "import numpy as np\n",
    "import pandas as pd\n",
    "import powerlaw\n",
    "from collections import defaultdict, Counter\n",
    "from tqdm import tqdm\n",
    "import matplotlib.pyplot as plt\n",
    "from typing import List, Dict\n",
    "\n",
    "import nltk\n",
    "from nltk.tokenize import word_tokenize\n",
    "from nltk.stem.porter import PorterStemmer\n",
    "from nltk.corpus import stopwords\n",
    "from string import punctuation\n",
    "\n",
    "import sklearn\n",
    "from sklearn.feature_extraction.text import TfidfVectorizer\n",
    "from sklearn.metrics.pairwise import cosine_similarity\n",
    "\n",
    "from rank_bm25 import BM25Okapi"
   ]
  },
  {
   "cell_type": "code",
   "execution_count": 66,
   "metadata": {},
   "outputs": [
    {
     "name": "stderr",
     "output_type": "stream",
     "text": [
      "[nltk_data] Downloading package punkt to\n",
      "[nltk_data]     C:\\Users\\XueweiLi\\AppData\\Roaming\\nltk_data...\n",
      "[nltk_data]   Package punkt is already up-to-date!\n",
      "[nltk_data] Downloading package stopwords to\n",
      "[nltk_data]     C:\\Users\\XueweiLi\\AppData\\Roaming\\nltk_data...\n",
      "[nltk_data]   Package stopwords is already up-to-date!\n"
     ]
    }
   ],
   "source": [
    "nltk.download('punkt')\n",
    "nltk.download('stopwords')\n",
    "stop_words = stopwords.words('english')"
   ]
  },
  {
   "cell_type": "markdown",
   "metadata": {},
   "source": [
    "### 1. Traitement des données (15 points)\n",
    "Vous allez effectuer une analyse afin d'avoir une idée claire des données que vous aurez à manipuler."
   ]
  },
  {
   "cell_type": "markdown",
   "metadata": {},
   "source": [
    "#### 1.1 Chargement des données (2 points)"
   ]
  },
  {
   "cell_type": "markdown",
   "metadata": {},
   "source": [
    "##### 1.1.1 Chargement et affichage des données (1 point)\n",
    "\n",
    "Chargez les données '_claims.jsonl_' et '_corpus.jsonl_' puis affichez-les dans des dataframes en utilisant panda."
   ]
  },
  {
   "cell_type": "code",
   "execution_count": 67,
   "metadata": {},
   "outputs": [],
   "source": [
    "df_claims = pd.read_json(PATH + 'claims.jsonl',lines=True)\n",
    "df_corpus = pd.read_json(PATH +'corpus.jsonl',lines=True)"
   ]
  },
  {
   "cell_type": "code",
   "execution_count": 68,
   "metadata": {},
   "outputs": [
    {
     "data": {
      "text/html": [
       "<div>\n",
       "<style scoped>\n",
       "    .dataframe tbody tr th:only-of-type {\n",
       "        vertical-align: middle;\n",
       "    }\n",
       "\n",
       "    .dataframe tbody tr th {\n",
       "        vertical-align: top;\n",
       "    }\n",
       "\n",
       "    .dataframe thead th {\n",
       "        text-align: right;\n",
       "    }\n",
       "</style>\n",
       "<table border=\"1\" class=\"dataframe\">\n",
       "  <thead>\n",
       "    <tr style=\"text-align: right;\">\n",
       "      <th></th>\n",
       "      <th>id</th>\n",
       "      <th>claim</th>\n",
       "      <th>evidence</th>\n",
       "      <th>cited_doc_ids</th>\n",
       "    </tr>\n",
       "  </thead>\n",
       "  <tbody>\n",
       "    <tr>\n",
       "      <th>0</th>\n",
       "      <td>0</td>\n",
       "      <td>0-dimensional biomaterials lack inductive prop...</td>\n",
       "      <td>{}</td>\n",
       "      <td>[31715818]</td>\n",
       "    </tr>\n",
       "    <tr>\n",
       "      <th>1</th>\n",
       "      <td>2</td>\n",
       "      <td>1 in 5 million in UK have abnormal PrP positiv...</td>\n",
       "      <td>{'13734012': [{'sentences': [4], 'label': 'CON...</td>\n",
       "      <td>[13734012]</td>\n",
       "    </tr>\n",
       "    <tr>\n",
       "      <th>2</th>\n",
       "      <td>4</td>\n",
       "      <td>1-1% of colorectal cancer patients are diagnos...</td>\n",
       "      <td>{}</td>\n",
       "      <td>[22942787]</td>\n",
       "    </tr>\n",
       "    <tr>\n",
       "      <th>3</th>\n",
       "      <td>6</td>\n",
       "      <td>10% of sudden infant death syndrome (SIDS) dea...</td>\n",
       "      <td>{}</td>\n",
       "      <td>[2613775]</td>\n",
       "    </tr>\n",
       "    <tr>\n",
       "      <th>4</th>\n",
       "      <td>9</td>\n",
       "      <td>32% of liver transplantation programs required...</td>\n",
       "      <td>{'44265107': [{'sentences': [15], 'label': 'SU...</td>\n",
       "      <td>[44265107]</td>\n",
       "    </tr>\n",
       "    <tr>\n",
       "      <th>5</th>\n",
       "      <td>10</td>\n",
       "      <td>4-PBA treatment decreases endoplasmic reticulu...</td>\n",
       "      <td>{}</td>\n",
       "      <td>[32587939]</td>\n",
       "    </tr>\n",
       "    <tr>\n",
       "      <th>6</th>\n",
       "      <td>11</td>\n",
       "      <td>4-PBA treatment raises endoplasmic reticulum s...</td>\n",
       "      <td>{}</td>\n",
       "      <td>[32587939]</td>\n",
       "    </tr>\n",
       "    <tr>\n",
       "      <th>7</th>\n",
       "      <td>12</td>\n",
       "      <td>40mg/day dosage of folic acid and 2mg/day dosa...</td>\n",
       "      <td>{'33409100': [{'sentences': [8], 'label': 'SUP...</td>\n",
       "      <td>[33409100]</td>\n",
       "    </tr>\n",
       "    <tr>\n",
       "      <th>8</th>\n",
       "      <td>14</td>\n",
       "      <td>5'-nucleotidase metabolizes 6MP.</td>\n",
       "      <td>{}</td>\n",
       "      <td>[641786]</td>\n",
       "    </tr>\n",
       "    <tr>\n",
       "      <th>9</th>\n",
       "      <td>15</td>\n",
       "      <td>50% of patients exposed to radiation have acti...</td>\n",
       "      <td>{}</td>\n",
       "      <td>[22080671]</td>\n",
       "    </tr>\n",
       "  </tbody>\n",
       "</table>\n",
       "</div>"
      ],
      "text/plain": [
       "   id                                              claim  \\\n",
       "0   0  0-dimensional biomaterials lack inductive prop...   \n",
       "1   2  1 in 5 million in UK have abnormal PrP positiv...   \n",
       "2   4  1-1% of colorectal cancer patients are diagnos...   \n",
       "3   6  10% of sudden infant death syndrome (SIDS) dea...   \n",
       "4   9  32% of liver transplantation programs required...   \n",
       "5  10  4-PBA treatment decreases endoplasmic reticulu...   \n",
       "6  11  4-PBA treatment raises endoplasmic reticulum s...   \n",
       "7  12  40mg/day dosage of folic acid and 2mg/day dosa...   \n",
       "8  14                   5'-nucleotidase metabolizes 6MP.   \n",
       "9  15  50% of patients exposed to radiation have acti...   \n",
       "\n",
       "                                            evidence cited_doc_ids  \n",
       "0                                                 {}    [31715818]  \n",
       "1  {'13734012': [{'sentences': [4], 'label': 'CON...    [13734012]  \n",
       "2                                                 {}    [22942787]  \n",
       "3                                                 {}     [2613775]  \n",
       "4  {'44265107': [{'sentences': [15], 'label': 'SU...    [44265107]  \n",
       "5                                                 {}    [32587939]  \n",
       "6                                                 {}    [32587939]  \n",
       "7  {'33409100': [{'sentences': [8], 'label': 'SUP...    [33409100]  \n",
       "8                                                 {}      [641786]  \n",
       "9                                                 {}    [22080671]  "
      ]
     },
     "execution_count": 68,
     "metadata": {},
     "output_type": "execute_result"
    }
   ],
   "source": [
    "df_claims.head(10)"
   ]
  },
  {
   "cell_type": "code",
   "execution_count": 69,
   "metadata": {},
   "outputs": [
    {
     "data": {
      "text/html": [
       "<div>\n",
       "<style scoped>\n",
       "    .dataframe tbody tr th:only-of-type {\n",
       "        vertical-align: middle;\n",
       "    }\n",
       "\n",
       "    .dataframe tbody tr th {\n",
       "        vertical-align: top;\n",
       "    }\n",
       "\n",
       "    .dataframe thead th {\n",
       "        text-align: right;\n",
       "    }\n",
       "</style>\n",
       "<table border=\"1\" class=\"dataframe\">\n",
       "  <thead>\n",
       "    <tr style=\"text-align: right;\">\n",
       "      <th></th>\n",
       "      <th>doc_id</th>\n",
       "      <th>title</th>\n",
       "      <th>abstract</th>\n",
       "      <th>structured</th>\n",
       "    </tr>\n",
       "  </thead>\n",
       "  <tbody>\n",
       "    <tr>\n",
       "      <th>0</th>\n",
       "      <td>4983</td>\n",
       "      <td>Microstructural development of human newborn c...</td>\n",
       "      <td>[Alterations of the architecture of cerebral w...</td>\n",
       "      <td>False</td>\n",
       "    </tr>\n",
       "    <tr>\n",
       "      <th>1</th>\n",
       "      <td>5836</td>\n",
       "      <td>Induction of myelodysplasia by myeloid-derived...</td>\n",
       "      <td>[Myelodysplastic syndromes (MDS) are age-depen...</td>\n",
       "      <td>False</td>\n",
       "    </tr>\n",
       "    <tr>\n",
       "      <th>2</th>\n",
       "      <td>7912</td>\n",
       "      <td>BC1 RNA, the transcript from a master gene for...</td>\n",
       "      <td>[ID elements are short interspersed elements (...</td>\n",
       "      <td>False</td>\n",
       "    </tr>\n",
       "    <tr>\n",
       "      <th>3</th>\n",
       "      <td>18670</td>\n",
       "      <td>The DNA Methylome of Human Peripheral Blood Mo...</td>\n",
       "      <td>[DNA methylation plays an important role in bi...</td>\n",
       "      <td>False</td>\n",
       "    </tr>\n",
       "    <tr>\n",
       "      <th>4</th>\n",
       "      <td>19238</td>\n",
       "      <td>The human myelin basic protein gene is include...</td>\n",
       "      <td>[Two human Golli (for gene expressed in the ol...</td>\n",
       "      <td>False</td>\n",
       "    </tr>\n",
       "    <tr>\n",
       "      <th>5</th>\n",
       "      <td>33370</td>\n",
       "      <td>Targeting A20 Decreases Glioma Stem Cell Survi...</td>\n",
       "      <td>[Glioblastomas are deadly cancers that display...</td>\n",
       "      <td>False</td>\n",
       "    </tr>\n",
       "    <tr>\n",
       "      <th>6</th>\n",
       "      <td>36474</td>\n",
       "      <td>Efficient targeting of expressed and silent ge...</td>\n",
       "      <td>[Realizing the full potential of human embryon...</td>\n",
       "      <td>False</td>\n",
       "    </tr>\n",
       "    <tr>\n",
       "      <th>7</th>\n",
       "      <td>54440</td>\n",
       "      <td>Empirical Bayesian models for analysing molecu...</td>\n",
       "      <td>[BACKGROUND Microarrays offer great potential ...</td>\n",
       "      <td>True</td>\n",
       "    </tr>\n",
       "    <tr>\n",
       "      <th>8</th>\n",
       "      <td>70115</td>\n",
       "      <td>Bayesian measures of model complexity and fit</td>\n",
       "      <td>[Summary., We consider the problem of comparin...</td>\n",
       "      <td>False</td>\n",
       "    </tr>\n",
       "    <tr>\n",
       "      <th>9</th>\n",
       "      <td>70490</td>\n",
       "      <td>Simplifying likelihood ratios</td>\n",
       "      <td>[Likelihood ratios are one of the best measure...</td>\n",
       "      <td>False</td>\n",
       "    </tr>\n",
       "  </tbody>\n",
       "</table>\n",
       "</div>"
      ],
      "text/plain": [
       "   doc_id                                              title  \\\n",
       "0    4983  Microstructural development of human newborn c...   \n",
       "1    5836  Induction of myelodysplasia by myeloid-derived...   \n",
       "2    7912  BC1 RNA, the transcript from a master gene for...   \n",
       "3   18670  The DNA Methylome of Human Peripheral Blood Mo...   \n",
       "4   19238  The human myelin basic protein gene is include...   \n",
       "5   33370  Targeting A20 Decreases Glioma Stem Cell Survi...   \n",
       "6   36474  Efficient targeting of expressed and silent ge...   \n",
       "7   54440  Empirical Bayesian models for analysing molecu...   \n",
       "8   70115      Bayesian measures of model complexity and fit   \n",
       "9   70490                      Simplifying likelihood ratios   \n",
       "\n",
       "                                            abstract  structured  \n",
       "0  [Alterations of the architecture of cerebral w...       False  \n",
       "1  [Myelodysplastic syndromes (MDS) are age-depen...       False  \n",
       "2  [ID elements are short interspersed elements (...       False  \n",
       "3  [DNA methylation plays an important role in bi...       False  \n",
       "4  [Two human Golli (for gene expressed in the ol...       False  \n",
       "5  [Glioblastomas are deadly cancers that display...       False  \n",
       "6  [Realizing the full potential of human embryon...       False  \n",
       "7  [BACKGROUND Microarrays offer great potential ...        True  \n",
       "8  [Summary., We consider the problem of comparin...       False  \n",
       "9  [Likelihood ratios are one of the best measure...       False  "
      ]
     },
     "execution_count": 69,
     "metadata": {},
     "output_type": "execute_result"
    }
   ],
   "source": [
    "df_corpus.head(10)"
   ]
  },
  {
   "cell_type": "markdown",
   "metadata": {},
   "source": [
    "##### 1.1.2 Statistique sur les évidences (1 point)\n",
    "\n",
    "Calculez les pourcentages d'apparition de chaque label des évidences dans \"_df_claims_\" (CONTRADICT ou SUPPORT). Pour rappel les évidences sont les extraits pertinents des résumés qui supportent ou contredisent les affirmations. "
   ]
  },
  {
   "cell_type": "code",
   "execution_count": 70,
   "metadata": {},
   "outputs": [
    {
     "name": "stdout",
     "output_type": "stream",
     "text": [
      "CONTRADICT  35.63 %\n",
      "SUPPORT  64.37 %\n"
     ]
    }
   ],
   "source": [
    "# On calcule les pourcentages des labels presents dans evidence\n",
    "support_count = 0\n",
    "contradict_count = 0\n",
    "for _ , claim in df_claims.iterrows():\n",
    "    if len(claim.evidence) != 0:\n",
    "        # On incrémente le compte par la longueur de la liste contenant SUPPORT ou CONTRADICT dans le label des évidences \n",
    "        support_count += len([1 for key,elements in claim.evidence.items() for element in elements if element['label'] == 'SUPPORT'])\n",
    "        contradict_count += len([1 for key,elements in claim.evidence.items() for element in elements if element['label'] == 'CONTRADICT'])\n",
    "        \n",
    "\n",
    "# On divise le compte par le nombre total pour obtenir les pourcentages\n",
    "total_count = support_count + contradict_count\n",
    "support_percentage = support_count/total_count * 100\n",
    "contradict_percentage = contradict_count/total_count * 100\n",
    "\n",
    "print(\"CONTRADICT \", \"{:.2f}\".format(contradict_percentage), \"%\")\n",
    "print(\"SUPPORT \", \"{:.2f}\".format(support_percentage), \"%\")"
   ]
  },
  {
   "cell_type": "markdown",
   "metadata": {},
   "source": [
    "> Réponse attendue:\n",
    "> \n",
    "> CONTRADICT: 35.63%\n",
    "> \n",
    "> SUPPORT: 64.37%"
   ]
  },
  {
   "cell_type": "markdown",
   "metadata": {},
   "source": [
    "#### 1.2 Analyse statistique des données (7 points)\n",
    "\n",
    "Nous allons faire une suite de transformations sur les données pour les rendre plus faciles à manipuler."
   ]
  },
  {
   "cell_type": "markdown",
   "metadata": {},
   "source": [
    "##### 1.2.1 Implémentation de la fonction \"_list_to_string_\" \n",
    "\n",
    "Nous mettons à votre disposition la fonction \"_list_to_string_\" qui transforme une liste de phrases en un texte en les concaténant et enlèvant tous les caractères de nouvelle ligne (`\\n`) pour s'assurer que nous avons un texte complet. "
   ]
  },
  {
   "cell_type": "code",
   "execution_count": 71,
   "metadata": {},
   "outputs": [],
   "source": [
    "# On transforme la liste de phrases en un texte\n",
    "def list_to_string(x):\n",
    "    if isinstance(x, list):\n",
    "        return ' '.join(str(i).replace(\"\\n\",\"\").replace(\"  \",\" \") for i in x)  # Enlève les caractère de retour à la ligne et convertit les éléments de la liste en chaînes et les joint\n",
    "    return str(x)"
   ]
  },
  {
   "cell_type": "markdown",
   "metadata": {},
   "source": [
    "##### 1.2.2 Utilisation de la fonction \"_list_to_string_\" \n",
    "\n",
    "Appliquons cette fonction \"_list_to_string_\" aux colonnes \"_title_\" et \"abstract\" du dataframe \"_df_corpus_\"."
   ]
  },
  {
   "cell_type": "code",
   "execution_count": 72,
   "metadata": {},
   "outputs": [],
   "source": [
    "# On applique la fonction aux colonnes \"title\" et \"abstract\"\n",
    "df_corpus['title']    = df_corpus['title'].apply(list_to_string)\n",
    "df_corpus['abstract'] = df_corpus['abstract'].apply(list_to_string)"
   ]
  },
  {
   "cell_type": "markdown",
   "metadata": {},
   "source": [
    "##### 1.2.3 Ajout de la colonne \"_text_\" dans \"df_corpus\"\n",
    "\n",
    "\n",
    "Ajoutons maintenant une colonne \"_text_\" qui est la concaténation du titre (\"_title_\") et du résumé (\"_abstract_\") au niveau du dataframe \"df_corpus\"."
   ]
  },
  {
   "cell_type": "code",
   "execution_count": 73,
   "metadata": {},
   "outputs": [],
   "source": [
    "# On concatene les textes dans \"title\" et \"abstract\"\n",
    "df_corpus['text'] = df_corpus['title'] + \" \" + df_corpus['abstract']"
   ]
  },
  {
   "cell_type": "code",
   "execution_count": 74,
   "metadata": {},
   "outputs": [
    {
     "data": {
      "text/html": [
       "<div>\n",
       "<style scoped>\n",
       "    .dataframe tbody tr th:only-of-type {\n",
       "        vertical-align: middle;\n",
       "    }\n",
       "\n",
       "    .dataframe tbody tr th {\n",
       "        vertical-align: top;\n",
       "    }\n",
       "\n",
       "    .dataframe thead th {\n",
       "        text-align: right;\n",
       "    }\n",
       "</style>\n",
       "<table border=\"1\" class=\"dataframe\">\n",
       "  <thead>\n",
       "    <tr style=\"text-align: right;\">\n",
       "      <th></th>\n",
       "      <th>doc_id</th>\n",
       "      <th>title</th>\n",
       "      <th>abstract</th>\n",
       "      <th>structured</th>\n",
       "      <th>text</th>\n",
       "    </tr>\n",
       "  </thead>\n",
       "  <tbody>\n",
       "    <tr>\n",
       "      <th>0</th>\n",
       "      <td>4983</td>\n",
       "      <td>Microstructural development of human newborn c...</td>\n",
       "      <td>Alterations of the architecture of cerebral wh...</td>\n",
       "      <td>False</td>\n",
       "      <td>Microstructural development of human newborn c...</td>\n",
       "    </tr>\n",
       "    <tr>\n",
       "      <th>1</th>\n",
       "      <td>5836</td>\n",
       "      <td>Induction of myelodysplasia by myeloid-derived...</td>\n",
       "      <td>Myelodysplastic syndromes (MDS) are age-depend...</td>\n",
       "      <td>False</td>\n",
       "      <td>Induction of myelodysplasia by myeloid-derived...</td>\n",
       "    </tr>\n",
       "    <tr>\n",
       "      <th>2</th>\n",
       "      <td>7912</td>\n",
       "      <td>BC1 RNA, the transcript from a master gene for...</td>\n",
       "      <td>ID elements are short interspersed elements (S...</td>\n",
       "      <td>False</td>\n",
       "      <td>BC1 RNA, the transcript from a master gene for...</td>\n",
       "    </tr>\n",
       "    <tr>\n",
       "      <th>3</th>\n",
       "      <td>18670</td>\n",
       "      <td>The DNA Methylome of Human Peripheral Blood Mo...</td>\n",
       "      <td>DNA methylation plays an important role in bio...</td>\n",
       "      <td>False</td>\n",
       "      <td>The DNA Methylome of Human Peripheral Blood Mo...</td>\n",
       "    </tr>\n",
       "    <tr>\n",
       "      <th>4</th>\n",
       "      <td>19238</td>\n",
       "      <td>The human myelin basic protein gene is include...</td>\n",
       "      <td>Two human Golli (for gene expressed in the oli...</td>\n",
       "      <td>False</td>\n",
       "      <td>The human myelin basic protein gene is include...</td>\n",
       "    </tr>\n",
       "    <tr>\n",
       "      <th>...</th>\n",
       "      <td>...</td>\n",
       "      <td>...</td>\n",
       "      <td>...</td>\n",
       "      <td>...</td>\n",
       "      <td>...</td>\n",
       "    </tr>\n",
       "    <tr>\n",
       "      <th>5178</th>\n",
       "      <td>195689316</td>\n",
       "      <td>Body-mass index and cause-specific mortality i...</td>\n",
       "      <td>BACKGROUND The main associations of body-mass ...</td>\n",
       "      <td>True</td>\n",
       "      <td>Body-mass index and cause-specific mortality i...</td>\n",
       "    </tr>\n",
       "    <tr>\n",
       "      <th>5179</th>\n",
       "      <td>195689757</td>\n",
       "      <td>Targeting metabolic remodeling in glioblastoma...</td>\n",
       "      <td>A key aberrant biological difference between t...</td>\n",
       "      <td>False</td>\n",
       "      <td>Targeting metabolic remodeling in glioblastoma...</td>\n",
       "    </tr>\n",
       "    <tr>\n",
       "      <th>5180</th>\n",
       "      <td>196664003</td>\n",
       "      <td>Signaling architectures that transmit unidirec...</td>\n",
       "      <td>A signaling pathway transmits information from...</td>\n",
       "      <td>False</td>\n",
       "      <td>Signaling architectures that transmit unidirec...</td>\n",
       "    </tr>\n",
       "    <tr>\n",
       "      <th>5181</th>\n",
       "      <td>198133135</td>\n",
       "      <td>Association between pre-diabetes, type 2 diabe...</td>\n",
       "      <td>AIMS Trabecular bone score (TBS) is a surrogat...</td>\n",
       "      <td>True</td>\n",
       "      <td>Association between pre-diabetes, type 2 diabe...</td>\n",
       "    </tr>\n",
       "    <tr>\n",
       "      <th>5182</th>\n",
       "      <td>198309074</td>\n",
       "      <td>Adhesion molecules and chemokines: relation to...</td>\n",
       "      <td>Introduction: Among the inflammatory mediators...</td>\n",
       "      <td>False</td>\n",
       "      <td>Adhesion molecules and chemokines: relation to...</td>\n",
       "    </tr>\n",
       "  </tbody>\n",
       "</table>\n",
       "<p>5183 rows × 5 columns</p>\n",
       "</div>"
      ],
      "text/plain": [
       "         doc_id                                              title  \\\n",
       "0          4983  Microstructural development of human newborn c...   \n",
       "1          5836  Induction of myelodysplasia by myeloid-derived...   \n",
       "2          7912  BC1 RNA, the transcript from a master gene for...   \n",
       "3         18670  The DNA Methylome of Human Peripheral Blood Mo...   \n",
       "4         19238  The human myelin basic protein gene is include...   \n",
       "...         ...                                                ...   \n",
       "5178  195689316  Body-mass index and cause-specific mortality i...   \n",
       "5179  195689757  Targeting metabolic remodeling in glioblastoma...   \n",
       "5180  196664003  Signaling architectures that transmit unidirec...   \n",
       "5181  198133135  Association between pre-diabetes, type 2 diabe...   \n",
       "5182  198309074  Adhesion molecules and chemokines: relation to...   \n",
       "\n",
       "                                               abstract  structured  \\\n",
       "0     Alterations of the architecture of cerebral wh...       False   \n",
       "1     Myelodysplastic syndromes (MDS) are age-depend...       False   \n",
       "2     ID elements are short interspersed elements (S...       False   \n",
       "3     DNA methylation plays an important role in bio...       False   \n",
       "4     Two human Golli (for gene expressed in the oli...       False   \n",
       "...                                                 ...         ...   \n",
       "5178  BACKGROUND The main associations of body-mass ...        True   \n",
       "5179  A key aberrant biological difference between t...       False   \n",
       "5180  A signaling pathway transmits information from...       False   \n",
       "5181  AIMS Trabecular bone score (TBS) is a surrogat...        True   \n",
       "5182  Introduction: Among the inflammatory mediators...       False   \n",
       "\n",
       "                                                   text  \n",
       "0     Microstructural development of human newborn c...  \n",
       "1     Induction of myelodysplasia by myeloid-derived...  \n",
       "2     BC1 RNA, the transcript from a master gene for...  \n",
       "3     The DNA Methylome of Human Peripheral Blood Mo...  \n",
       "4     The human myelin basic protein gene is include...  \n",
       "...                                                 ...  \n",
       "5178  Body-mass index and cause-specific mortality i...  \n",
       "5179  Targeting metabolic remodeling in glioblastoma...  \n",
       "5180  Signaling architectures that transmit unidirec...  \n",
       "5181  Association between pre-diabetes, type 2 diabe...  \n",
       "5182  Adhesion molecules and chemokines: relation to...  \n",
       "\n",
       "[5183 rows x 5 columns]"
      ]
     },
     "execution_count": 74,
     "metadata": {},
     "output_type": "execute_result"
    }
   ],
   "source": [
    "df_corpus"
   ]
  },
  {
   "cell_type": "markdown",
   "metadata": {},
   "source": [
    "##### 1.2.4 Ajout de colonnes dans \"_df_claims_\" (1 point)\n",
    "\n",
    "Ajoutez les colonnes \"_claim_length_\" et \"_num_cited_doc_\" qui donnent, pour chaque affirmation, le nombre de mots dans la colonne \"_claim_\" et le nombre de documents cités au niveau de la colonne \"_cited_doc_ids_\" pour le dataframe \"_df_claims_\". Vous pouvez considérer que des mots sont simplement une séquence de caractères séparés par un espace."
   ]
  },
  {
   "cell_type": "code",
   "execution_count": 75,
   "metadata": {},
   "outputs": [
    {
     "data": {
      "text/html": [
       "<div>\n",
       "<style scoped>\n",
       "    .dataframe tbody tr th:only-of-type {\n",
       "        vertical-align: middle;\n",
       "    }\n",
       "\n",
       "    .dataframe tbody tr th {\n",
       "        vertical-align: top;\n",
       "    }\n",
       "\n",
       "    .dataframe thead th {\n",
       "        text-align: right;\n",
       "    }\n",
       "</style>\n",
       "<table border=\"1\" class=\"dataframe\">\n",
       "  <thead>\n",
       "    <tr style=\"text-align: right;\">\n",
       "      <th></th>\n",
       "      <th>id</th>\n",
       "      <th>claim</th>\n",
       "      <th>evidence</th>\n",
       "      <th>cited_doc_ids</th>\n",
       "      <th>claim_length</th>\n",
       "      <th>num_cited_doc</th>\n",
       "    </tr>\n",
       "  </thead>\n",
       "  <tbody>\n",
       "    <tr>\n",
       "      <th>0</th>\n",
       "      <td>0</td>\n",
       "      <td>0-dimensional biomaterials lack inductive prop...</td>\n",
       "      <td>{}</td>\n",
       "      <td>[31715818]</td>\n",
       "      <td>5</td>\n",
       "      <td>1</td>\n",
       "    </tr>\n",
       "    <tr>\n",
       "      <th>1</th>\n",
       "      <td>2</td>\n",
       "      <td>1 in 5 million in UK have abnormal PrP positiv...</td>\n",
       "      <td>{'13734012': [{'sentences': [4], 'label': 'CON...</td>\n",
       "      <td>[13734012]</td>\n",
       "      <td>10</td>\n",
       "      <td>1</td>\n",
       "    </tr>\n",
       "    <tr>\n",
       "      <th>2</th>\n",
       "      <td>4</td>\n",
       "      <td>1-1% of colorectal cancer patients are diagnos...</td>\n",
       "      <td>{}</td>\n",
       "      <td>[22942787]</td>\n",
       "      <td>12</td>\n",
       "      <td>1</td>\n",
       "    </tr>\n",
       "    <tr>\n",
       "      <th>3</th>\n",
       "      <td>6</td>\n",
       "      <td>10% of sudden infant death syndrome (SIDS) dea...</td>\n",
       "      <td>{}</td>\n",
       "      <td>[2613775]</td>\n",
       "      <td>16</td>\n",
       "      <td>1</td>\n",
       "    </tr>\n",
       "    <tr>\n",
       "      <th>4</th>\n",
       "      <td>9</td>\n",
       "      <td>32% of liver transplantation programs required...</td>\n",
       "      <td>{'44265107': [{'sentences': [15], 'label': 'SU...</td>\n",
       "      <td>[44265107]</td>\n",
       "      <td>13</td>\n",
       "      <td>1</td>\n",
       "    </tr>\n",
       "    <tr>\n",
       "      <th>...</th>\n",
       "      <td>...</td>\n",
       "      <td>...</td>\n",
       "      <td>...</td>\n",
       "      <td>...</td>\n",
       "      <td>...</td>\n",
       "      <td>...</td>\n",
       "    </tr>\n",
       "    <tr>\n",
       "      <th>804</th>\n",
       "      <td>1403</td>\n",
       "      <td>siRNA knockdown of A20 accelerates tumor progr...</td>\n",
       "      <td>{'33370': [{'sentences': [6], 'label': 'CONTRA...</td>\n",
       "      <td>[33370, 38355793]</td>\n",
       "      <td>14</td>\n",
       "      <td>2</td>\n",
       "    </tr>\n",
       "    <tr>\n",
       "      <th>805</th>\n",
       "      <td>1404</td>\n",
       "      <td>siRNA knockdown of A20 slows tumor progression...</td>\n",
       "      <td>{'33370': [{'sentences': [6], 'label': 'SUPPOR...</td>\n",
       "      <td>[33370, 38355793]</td>\n",
       "      <td>14</td>\n",
       "      <td>2</td>\n",
       "    </tr>\n",
       "    <tr>\n",
       "      <th>806</th>\n",
       "      <td>1405</td>\n",
       "      <td>taa1 tar1 tar2 triple mutants in Arabidopsis d...</td>\n",
       "      <td>{}</td>\n",
       "      <td>[10504681]</td>\n",
       "      <td>14</td>\n",
       "      <td>1</td>\n",
       "    </tr>\n",
       "    <tr>\n",
       "      <th>807</th>\n",
       "      <td>1406</td>\n",
       "      <td>β-sheet opening occurs during pleurotolysin po...</td>\n",
       "      <td>{'2617858': [{'sentences': [4], 'label': 'SUPP...</td>\n",
       "      <td>[2617858]</td>\n",
       "      <td>7</td>\n",
       "      <td>1</td>\n",
       "    </tr>\n",
       "    <tr>\n",
       "      <th>808</th>\n",
       "      <td>1407</td>\n",
       "      <td>β1/Ketel is able to bind microtubules.</td>\n",
       "      <td>{}</td>\n",
       "      <td>[8087082, 29863668]</td>\n",
       "      <td>6</td>\n",
       "      <td>2</td>\n",
       "    </tr>\n",
       "  </tbody>\n",
       "</table>\n",
       "<p>809 rows × 6 columns</p>\n",
       "</div>"
      ],
      "text/plain": [
       "       id                                              claim  \\\n",
       "0       0  0-dimensional biomaterials lack inductive prop...   \n",
       "1       2  1 in 5 million in UK have abnormal PrP positiv...   \n",
       "2       4  1-1% of colorectal cancer patients are diagnos...   \n",
       "3       6  10% of sudden infant death syndrome (SIDS) dea...   \n",
       "4       9  32% of liver transplantation programs required...   \n",
       "..    ...                                                ...   \n",
       "804  1403  siRNA knockdown of A20 accelerates tumor progr...   \n",
       "805  1404  siRNA knockdown of A20 slows tumor progression...   \n",
       "806  1405  taa1 tar1 tar2 triple mutants in Arabidopsis d...   \n",
       "807  1406  β-sheet opening occurs during pleurotolysin po...   \n",
       "808  1407             β1/Ketel is able to bind microtubules.   \n",
       "\n",
       "                                              evidence        cited_doc_ids  \\\n",
       "0                                                   {}           [31715818]   \n",
       "1    {'13734012': [{'sentences': [4], 'label': 'CON...           [13734012]   \n",
       "2                                                   {}           [22942787]   \n",
       "3                                                   {}            [2613775]   \n",
       "4    {'44265107': [{'sentences': [15], 'label': 'SU...           [44265107]   \n",
       "..                                                 ...                  ...   \n",
       "804  {'33370': [{'sentences': [6], 'label': 'CONTRA...    [33370, 38355793]   \n",
       "805  {'33370': [{'sentences': [6], 'label': 'SUPPOR...    [33370, 38355793]   \n",
       "806                                                 {}           [10504681]   \n",
       "807  {'2617858': [{'sentences': [4], 'label': 'SUPP...            [2617858]   \n",
       "808                                                 {}  [8087082, 29863668]   \n",
       "\n",
       "     claim_length  num_cited_doc  \n",
       "0               5              1  \n",
       "1              10              1  \n",
       "2              12              1  \n",
       "3              16              1  \n",
       "4              13              1  \n",
       "..            ...            ...  \n",
       "804            14              2  \n",
       "805            14              2  \n",
       "806            14              1  \n",
       "807             7              1  \n",
       "808             6              2  \n",
       "\n",
       "[809 rows x 6 columns]"
      ]
     },
     "execution_count": 75,
     "metadata": {},
     "output_type": "execute_result"
    }
   ],
   "source": [
    "# On calcule pour chaque affirmation le nombre de termes après avoir segmenté la phrase\n",
    "df_claims['claim_length'] = df_claims['claim'].apply(lambda x: len(x.split()))\n",
    "# On calcule la longueur du tableau de documents asscociés à chaque affirmation\n",
    "df_claims['num_cited_doc'] = df_claims['cited_doc_ids'].apply(lambda x: len(x))\n",
    "\n",
    "df_claims"
   ]
  },
  {
   "cell_type": "markdown",
   "metadata": {},
   "source": [
    "##### 1.2.5 Ajout des colonnes de mesures de longeurs de textes (documents) (1 point)\n",
    "\n",
    "Ajoutez les colonnes \"_title_length_\", \"_abstract_length_\" et \"_text_length_\" qui donnent le nombre de mots dans les colonnes \"_title_\", \"_abstract_\" et \"_text_\" du dataframe \"_df_corpus_\". Pour le reste du TP, nous définirons la longueur du \"_title_\", \"_abstract_\" et du \"_text_\" comme étant le nombre de mots dans les chaînes de caractères respectives. Encore une fois, vous pouvez considérer que des mots sont simplement une séquence de caractères séparés par un espace."
   ]
  },
  {
   "cell_type": "code",
   "execution_count": 76,
   "metadata": {},
   "outputs": [
    {
     "data": {
      "text/html": [
       "<div>\n",
       "<style scoped>\n",
       "    .dataframe tbody tr th:only-of-type {\n",
       "        vertical-align: middle;\n",
       "    }\n",
       "\n",
       "    .dataframe tbody tr th {\n",
       "        vertical-align: top;\n",
       "    }\n",
       "\n",
       "    .dataframe thead th {\n",
       "        text-align: right;\n",
       "    }\n",
       "</style>\n",
       "<table border=\"1\" class=\"dataframe\">\n",
       "  <thead>\n",
       "    <tr style=\"text-align: right;\">\n",
       "      <th></th>\n",
       "      <th>doc_id</th>\n",
       "      <th>title</th>\n",
       "      <th>abstract</th>\n",
       "      <th>structured</th>\n",
       "      <th>text</th>\n",
       "      <th>title_length</th>\n",
       "      <th>abstract_length</th>\n",
       "      <th>text_length</th>\n",
       "    </tr>\n",
       "  </thead>\n",
       "  <tbody>\n",
       "    <tr>\n",
       "      <th>0</th>\n",
       "      <td>4983</td>\n",
       "      <td>Microstructural development of human newborn c...</td>\n",
       "      <td>Alterations of the architecture of cerebral wh...</td>\n",
       "      <td>False</td>\n",
       "      <td>Microstructural development of human newborn c...</td>\n",
       "      <td>17</td>\n",
       "      <td>278</td>\n",
       "      <td>295</td>\n",
       "    </tr>\n",
       "    <tr>\n",
       "      <th>1</th>\n",
       "      <td>5836</td>\n",
       "      <td>Induction of myelodysplasia by myeloid-derived...</td>\n",
       "      <td>Myelodysplastic syndromes (MDS) are age-depend...</td>\n",
       "      <td>False</td>\n",
       "      <td>Induction of myelodysplasia by myeloid-derived...</td>\n",
       "      <td>7</td>\n",
       "      <td>201</td>\n",
       "      <td>208</td>\n",
       "    </tr>\n",
       "    <tr>\n",
       "      <th>2</th>\n",
       "      <td>7912</td>\n",
       "      <td>BC1 RNA, the transcript from a master gene for...</td>\n",
       "      <td>ID elements are short interspersed elements (S...</td>\n",
       "      <td>False</td>\n",
       "      <td>BC1 RNA, the transcript from a master gene for...</td>\n",
       "      <td>20</td>\n",
       "      <td>180</td>\n",
       "      <td>200</td>\n",
       "    </tr>\n",
       "    <tr>\n",
       "      <th>3</th>\n",
       "      <td>18670</td>\n",
       "      <td>The DNA Methylome of Human Peripheral Blood Mo...</td>\n",
       "      <td>DNA methylation plays an important role in bio...</td>\n",
       "      <td>False</td>\n",
       "      <td>The DNA Methylome of Human Peripheral Blood Mo...</td>\n",
       "      <td>9</td>\n",
       "      <td>238</td>\n",
       "      <td>247</td>\n",
       "    </tr>\n",
       "    <tr>\n",
       "      <th>4</th>\n",
       "      <td>19238</td>\n",
       "      <td>The human myelin basic protein gene is include...</td>\n",
       "      <td>Two human Golli (for gene expressed in the oli...</td>\n",
       "      <td>False</td>\n",
       "      <td>The human myelin basic protein gene is include...</td>\n",
       "      <td>21</td>\n",
       "      <td>241</td>\n",
       "      <td>262</td>\n",
       "    </tr>\n",
       "    <tr>\n",
       "      <th>...</th>\n",
       "      <td>...</td>\n",
       "      <td>...</td>\n",
       "      <td>...</td>\n",
       "      <td>...</td>\n",
       "      <td>...</td>\n",
       "      <td>...</td>\n",
       "      <td>...</td>\n",
       "      <td>...</td>\n",
       "    </tr>\n",
       "    <tr>\n",
       "      <th>5178</th>\n",
       "      <td>195689316</td>\n",
       "      <td>Body-mass index and cause-specific mortality i...</td>\n",
       "      <td>BACKGROUND The main associations of body-mass ...</td>\n",
       "      <td>True</td>\n",
       "      <td>Body-mass index and cause-specific mortality i...</td>\n",
       "      <td>15</td>\n",
       "      <td>413</td>\n",
       "      <td>428</td>\n",
       "    </tr>\n",
       "    <tr>\n",
       "      <th>5179</th>\n",
       "      <td>195689757</td>\n",
       "      <td>Targeting metabolic remodeling in glioblastoma...</td>\n",
       "      <td>A key aberrant biological difference between t...</td>\n",
       "      <td>False</td>\n",
       "      <td>Targeting metabolic remodeling in glioblastoma...</td>\n",
       "      <td>6</td>\n",
       "      <td>159</td>\n",
       "      <td>165</td>\n",
       "    </tr>\n",
       "    <tr>\n",
       "      <th>5180</th>\n",
       "      <td>196664003</td>\n",
       "      <td>Signaling architectures that transmit unidirec...</td>\n",
       "      <td>A signaling pathway transmits information from...</td>\n",
       "      <td>False</td>\n",
       "      <td>Signaling architectures that transmit unidirec...</td>\n",
       "      <td>8</td>\n",
       "      <td>246</td>\n",
       "      <td>254</td>\n",
       "    </tr>\n",
       "    <tr>\n",
       "      <th>5181</th>\n",
       "      <td>198133135</td>\n",
       "      <td>Association between pre-diabetes, type 2 diabe...</td>\n",
       "      <td>AIMS Trabecular bone score (TBS) is a surrogat...</td>\n",
       "      <td>True</td>\n",
       "      <td>Association between pre-diabetes, type 2 diabe...</td>\n",
       "      <td>14</td>\n",
       "      <td>233</td>\n",
       "      <td>247</td>\n",
       "    </tr>\n",
       "    <tr>\n",
       "      <th>5182</th>\n",
       "      <td>198309074</td>\n",
       "      <td>Adhesion molecules and chemokines: relation to...</td>\n",
       "      <td>Introduction: Among the inflammatory mediators...</td>\n",
       "      <td>False</td>\n",
       "      <td>Adhesion molecules and chemokines: relation to...</td>\n",
       "      <td>13</td>\n",
       "      <td>233</td>\n",
       "      <td>246</td>\n",
       "    </tr>\n",
       "  </tbody>\n",
       "</table>\n",
       "<p>5183 rows × 8 columns</p>\n",
       "</div>"
      ],
      "text/plain": [
       "         doc_id                                              title  \\\n",
       "0          4983  Microstructural development of human newborn c...   \n",
       "1          5836  Induction of myelodysplasia by myeloid-derived...   \n",
       "2          7912  BC1 RNA, the transcript from a master gene for...   \n",
       "3         18670  The DNA Methylome of Human Peripheral Blood Mo...   \n",
       "4         19238  The human myelin basic protein gene is include...   \n",
       "...         ...                                                ...   \n",
       "5178  195689316  Body-mass index and cause-specific mortality i...   \n",
       "5179  195689757  Targeting metabolic remodeling in glioblastoma...   \n",
       "5180  196664003  Signaling architectures that transmit unidirec...   \n",
       "5181  198133135  Association between pre-diabetes, type 2 diabe...   \n",
       "5182  198309074  Adhesion molecules and chemokines: relation to...   \n",
       "\n",
       "                                               abstract  structured  \\\n",
       "0     Alterations of the architecture of cerebral wh...       False   \n",
       "1     Myelodysplastic syndromes (MDS) are age-depend...       False   \n",
       "2     ID elements are short interspersed elements (S...       False   \n",
       "3     DNA methylation plays an important role in bio...       False   \n",
       "4     Two human Golli (for gene expressed in the oli...       False   \n",
       "...                                                 ...         ...   \n",
       "5178  BACKGROUND The main associations of body-mass ...        True   \n",
       "5179  A key aberrant biological difference between t...       False   \n",
       "5180  A signaling pathway transmits information from...       False   \n",
       "5181  AIMS Trabecular bone score (TBS) is a surrogat...        True   \n",
       "5182  Introduction: Among the inflammatory mediators...       False   \n",
       "\n",
       "                                                   text  title_length  \\\n",
       "0     Microstructural development of human newborn c...            17   \n",
       "1     Induction of myelodysplasia by myeloid-derived...             7   \n",
       "2     BC1 RNA, the transcript from a master gene for...            20   \n",
       "3     The DNA Methylome of Human Peripheral Blood Mo...             9   \n",
       "4     The human myelin basic protein gene is include...            21   \n",
       "...                                                 ...           ...   \n",
       "5178  Body-mass index and cause-specific mortality i...            15   \n",
       "5179  Targeting metabolic remodeling in glioblastoma...             6   \n",
       "5180  Signaling architectures that transmit unidirec...             8   \n",
       "5181  Association between pre-diabetes, type 2 diabe...            14   \n",
       "5182  Adhesion molecules and chemokines: relation to...            13   \n",
       "\n",
       "      abstract_length  text_length  \n",
       "0                 278          295  \n",
       "1                 201          208  \n",
       "2                 180          200  \n",
       "3                 238          247  \n",
       "4                 241          262  \n",
       "...               ...          ...  \n",
       "5178              413          428  \n",
       "5179              159          165  \n",
       "5180              246          254  \n",
       "5181              233          247  \n",
       "5182              233          246  \n",
       "\n",
       "[5183 rows x 8 columns]"
      ]
     },
     "execution_count": 76,
     "metadata": {},
     "output_type": "execute_result"
    }
   ],
   "source": [
    "# On calcule pour chaque document le nombre de termes (titres, résumés et textes) après avoir segmenté la phrase\n",
    "df_corpus['title_length'] = df_corpus['title'].apply(lambda x: len(x.split()))\n",
    "df_corpus['abstract_length'] = df_corpus['abstract'].apply(lambda x: len(x.split()))\n",
    "df_corpus['text_length'] = df_corpus['text'].apply(lambda x: len(x.split()))\n",
    "\n",
    "df_corpus"
   ]
  },
  {
   "cell_type": "markdown",
   "metadata": {},
   "source": [
    "##### 1.2.6 Analyse statistique (1.5 point)\n",
    "\n",
    "Faites l'analyse statistique des données en affichant le \"_min_\", le \"_max_\" et la \"_moyenne_\" pour les deux colonnes \"_claim_length_\" et \"_num_cited_doc_\" que vous venez de créer."
   ]
  },
  {
   "cell_type": "code",
   "execution_count": 77,
   "metadata": {},
   "outputs": [
    {
     "name": "stdout",
     "output_type": "stream",
     "text": [
      "claim_length\n",
      "min: 3   max: 39   moyenne: 12.332509270704573\n",
      "num_cited_doc\n",
      "min: 1   max: 5    moyenne: 1.1359703337453646\n"
     ]
    }
   ],
   "source": [
    "print('claim_length')\n",
    "print('min:', min(df_claims['claim_length']),' ','max:', max(df_claims['claim_length']),' ','moyenne:', df_claims['claim_length'].mean())\n",
    "\n",
    "print('num_cited_doc')\n",
    "print('min:', min(df_claims['num_cited_doc']),' ','max:', max(df_claims['num_cited_doc']),'  ','moyenne:', df_claims['num_cited_doc'].mean())"
   ]
  },
  {
   "cell_type": "markdown",
   "metadata": {},
   "source": [
    "##### 1.2.7 Histogrammes (2 points)\n",
    "\n",
    "En considérant le dataframe du corpus de résumés (\"_df_corpus_\"), affichez dans 3 histogrammes les distributions suivantes:\n",
    "\n",
    "- Fréquence des titres ('_title_') en fonction de leur longueur\n",
    "- Fréquence des résumés ('_abstract_') en fonction de leur longueur\n",
    "- Fréquence des textes ('_text_') en fonction de leur longueur\n",
    "\n",
    "Utilisez la valeur de 30 pour le paramètre \"_bins_\""
   ]
  },
  {
   "cell_type": "code",
   "execution_count": 78,
   "metadata": {},
   "outputs": [
    {
     "data": {
      "text/plain": [
       "Text(0.5, 0, 'Longueur des textes')"
      ]
     },
     "execution_count": 78,
     "metadata": {},
     "output_type": "execute_result"
    },
    {
     "data": {
      "image/png": "[encoded data removed]",
      "text/plain": [
       "<Figure size 1200x400 with 3 Axes>"
      ]
     },
     "metadata": {},
     "output_type": "display_data"
    }
   ],
   "source": [
    "# On affiche les fréquences des longeurs des trois représentations des documents\n",
    "fig, ax = plt.subplots(1,3,figsize=(12,4),sharey=True)\n",
    "for i, j in zip([0,1,2], ['title','abstract','text']):\n",
    "    ax[i].hist(df_corpus[f'{j}_length'], bins=30, rwidth=0.8)\n",
    "\n",
    "ax[0].set_ylabel('Fréquence') \n",
    "\n",
    "ax[0].set_xlabel('Longueur des titres')\n",
    "ax[1].set_xlabel('Longueur des résumés')\n",
    "ax[2].set_xlabel('Longueur des textes')"
   ]
  },
  {
   "cell_type": "markdown",
   "metadata": {},
   "source": [
    "##### 1.2.8 Quelles remarques faites-vous sur les affirmations (claims) et les documents ? (1.5 points) \n",
    "\n",
    "En observant les maximums, les minimums et les moyennes, que remarquez-vous à propos des affirmations ('_claims_') ? À l'aide des graphiques générés, comparez également les documents."
   ]
  },
  {
   "cell_type": "markdown",
   "metadata": {},
   "source": [
    "En observant les données concernant les affirmations (claims), nous remarquons une variabilité modérée dans la longueur des affirmations (minimum : 3 mots Vs maximum : 39 mots). La moyenne suggère que la plupart des affirmations tendent à être brèves, mais il existe des cas exceptionnels avec une longueur beaucoup plus importante. Par contre, le nombre de documents cités par affirmation varie de manière faible (un petit intervalle de 1 à 5 inclus). On remarque également que la moyenne est à peu près 1.13, ce qui veut dire que la majorité des affirmations ont entre 1 et 2 documents associés.\n",
    "\n",
    "En observant le graphique des titres, on remarque une distribution similaire à celle des longueurs des affirmations. La plupart des titres se composent de moins de 30 mots. \n",
    "\n",
    "En ce qui concerne les résumés et les textes (fusion des résumés et titres), les graphiques montrent que la majorité des documents se composent de 200 à 400 mots. Ces documents sont généralement plus longs que les affirmations, car ils fournissent des informations supplémentaires par rapport à celles-ci."
   ]
  },
  {
   "cell_type": "markdown",
   "metadata": {},
   "source": [
    "#### 1.3 Pré-traitement (6 points)\n",
    "Les affirmations et résumés de texte de votre ensemble de données doivent d’abord être représentés et indexés pour ensuite pouvoir effectuer une recherche de document (pouvant être \"_title_\", \"_abstract_\" ou la fusion des deux représentée par \"_text_\") qui justifie/contredit une affirmation. Vous devez donc implémenter une étape de pré-traitement des données."
   ]
  },
  {
   "cell_type": "markdown",
   "metadata": {},
   "source": [
    "##### 1.3.1 Implémentation de la fonction \"_tokenize_sentence_\" (1 point)\n",
    "\n",
    "Implémentez la fonction \"_tokenize_sentence_\" pour la segmentation d'une phrase en une liste de jetons. Utilisez la librarie `nltk`."
   ]
  },
  {
   "cell_type": "code",
   "execution_count": 79,
   "metadata": {},
   "outputs": [],
   "source": [
    "# On segmente d'une phrase en une liste de jetons\n",
    "def tokenize_sentence (phrase):\n",
    "    return word_tokenize(phrase)"
   ]
  },
  {
   "cell_type": "code",
   "execution_count": 80,
   "metadata": {},
   "outputs": [
    {
     "data": {
      "text/plain": [
       "['Jane', 'Doe', 'is', 'wearing', 'a', 'dress', '.']"
      ]
     },
     "execution_count": 80,
     "metadata": {},
     "output_type": "execute_result"
    }
   ],
   "source": [
    "tokenize_sentence('Jane Doe is wearing a dress.')"
   ]
  },
  {
   "cell_type": "markdown",
   "metadata": {},
   "source": [
    "##### 1.3.2 Implémentation de la fonction \"_tokenize_text_\" (1 point)\n",
    "Implémentez la fonction \"_tokenize_text_\" qui utilise \"_tokenize_sentence_\" pour faire la segmentation d'un texte (liste de phrases)."
   ]
  },
  {
   "cell_type": "code",
   "execution_count": 81,
   "metadata": {},
   "outputs": [],
   "source": [
    "# On segmente un texte en une liste de phrases\n",
    "def tokenize_text (list_phrases):\n",
    "    return tokenize_sentence(' '.join(list_phrases))"
   ]
  },
  {
   "cell_type": "code",
   "execution_count": 82,
   "metadata": {},
   "outputs": [
    {
     "data": {
      "text/plain": [
       "['Jane',\n",
       " 'Doe',\n",
       " 'is',\n",
       " 'wearing',\n",
       " 'a',\n",
       " 'dress',\n",
       " '.',\n",
       " 'Tom',\n",
       " 'is',\n",
       " 'eating',\n",
       " 'an',\n",
       " 'apple']"
      ]
     },
     "execution_count": 82,
     "metadata": {},
     "output_type": "execute_result"
    }
   ],
   "source": [
    "tokenize_text(['Jane Doe is wearing a dress.', 'Tom is eating an apple'])"
   ]
  },
  {
   "cell_type": "markdown",
   "metadata": {},
   "source": [
    "##### 1.3.3 Implémentation de la fonction \"_stem_tokens_\" (1 point)\n",
    "\n",
    "Implémentez la fonction \"_stem_tokens_\" qui prend une liste de jetons (tokens) en entrée et retourne une liste contenant leur forme racinisée (stems) en utilisant l'algorithme de racinisation PorterStemmer de la bibliothèque nltk."
   ]
  },
  {
   "cell_type": "code",
   "execution_count": 83,
   "metadata": {},
   "outputs": [],
   "source": [
    "# On transforme les jetons en leur forme racinisée\n",
    "def stem_tokens(tokens):\n",
    "    stemmer = PorterStemmer()\n",
    "    return [stemmer.stem(i) for i in tokens]"
   ]
  },
  {
   "cell_type": "code",
   "execution_count": 84,
   "metadata": {},
   "outputs": [
    {
     "data": {
      "text/plain": [
       "['sing', 'singer', 'singer', 'sing']"
      ]
     },
     "execution_count": 84,
     "metadata": {},
     "output_type": "execute_result"
    }
   ],
   "source": [
    "stem_tokens([\"sing\", \"singers\", \"singer\", \"singing\"])"
   ]
  },
  {
   "cell_type": "markdown",
   "metadata": {},
   "source": [
    "##### 1.3.4 Pré-traitement (2 points)\n",
    "\n",
    "En utilisant vos précédentes fonctions, faites maintenant le pré-traitement des champs \"_text_\", \"_title_\" et \"_abstract_\" du dataframe \"_df_corpus_\" et \"_claim_\" du dataframe \"_df_claims_\" en suivant les étapes suivantes:\n",
    "- conversion en minuscules\n",
    "- segmentation (tokenization) des passages\n",
    "- suppression des stop-words et ponctuation\n",
    "- racinisation (stemming) des jetons\n",
    "\n",
    "Nommez la liste des affirmations pré-traitées par \"_claims_preprocessed_\". Pour le corpus de documents considérez les ensembles de titres \"_title_\", de résumés \"abstract\" et la fusion des deux \"_text_\" et nommez les listes correspondantes par \"_titles_preprocessed_\", \"_abstracts_preprocessed_\" et \"_texts_preprocessed_\" respectivement."
   ]
  },
  {
   "cell_type": "code",
   "execution_count": 85,
   "metadata": {},
   "outputs": [],
   "source": [
    "# On fait appel à l'ensemble des fonctions de prétraitement\n",
    "def preprocessing(dataframe, column_name, result_list):\n",
    "    for index , row in dataframe.iterrows():\n",
    "        sentence = row[column_name]\n",
    "        \n",
    "        # conversion en minuscules\n",
    "        sentence_lower = sentence.lower()\n",
    "        \n",
    "        # segmentation (tokenization) des passages\n",
    "        tokens = tokenize_sentence(sentence_lower)\n",
    "        \n",
    "        # suppression des stop-words et ponctuation\n",
    "        tokens_wo_stops_punctuation = [token for token in tokens if token not in stop_words and token not in punctuation]\n",
    "        \n",
    "        # racinisation (stemming) des jetons\n",
    "        tokens_stem = stem_tokens(tokens_wo_stops_punctuation)\n",
    "\n",
    "        result_list.append(tokens_stem)\n",
    "    return result_list"
   ]
  },
  {
   "cell_type": "code",
   "execution_count": 86,
   "metadata": {
    "scrolled": true
   },
   "outputs": [
    {
     "name": "stdout",
     "output_type": "stream",
     "text": [
      " \n"
     ]
    }
   ],
   "source": [
    "claims_preprocessed = []\n",
    "preprocessing(df_claims, 'claim', claims_preprocessed)\n",
    "\n",
    "titles_preprocessed = []\n",
    "preprocessing(df_corpus, 'title', titles_preprocessed)\n",
    "\n",
    "abstracts_preprocessed = []\n",
    "preprocessing(df_corpus, 'abstract', abstracts_preprocessed)\n",
    "\n",
    "texts_preprocessed = []\n",
    "preprocessing(df_corpus, 'text', texts_preprocessed)\n",
    "\n",
    "print(' ')"
   ]
  },
  {
   "cell_type": "markdown",
   "metadata": {},
   "source": [
    "##### 1.3.5 Jetons uniques (types) (1 point)\n",
    "\n",
    "Affichez maintenant le nombre total de jetons dans tous les textes (_text_) et affirmations (_claim_) (en les considérant comme un seul corpus) après le pré-traitement. Puis, affichez le nombre de jetons uniques (types) dans les textes (_text_) et les affirmations (_claim_). "
   ]
  },
  {
   "cell_type": "code",
   "execution_count": 87,
   "metadata": {},
   "outputs": [
    {
     "name": "stdout",
     "output_type": "stream",
     "text": [
      "nombre total de jetons : 742202\n",
      "nombre de types: 45195\n"
     ]
    }
   ],
   "source": [
    "# On calcule le nombre total de jetons dans tous les textes (text) et affirmations (claim) \n",
    "claims_list = [token for line in claims_preprocessed for token in line]\n",
    "texts_list = [token for line in texts_preprocessed for token in line]\n",
    "\n",
    "print('nombre total de jetons :', len(texts_list) + len(claims_list))\n",
    "\n",
    "print('nombre de types:',len(set(texts_list + claims_list)))"
   ]
  },
  {
   "cell_type": "markdown",
   "metadata": {
    "id": "3qH8-QAw8BEV"
   },
   "source": [
    "### 2. Représentation des affirmations et des documents  (45 points)"
   ]
  },
  {
   "cell_type": "markdown",
   "metadata": {},
   "source": [
    "#### 2.1  Vocabulaire (15 points)"
   ]
  },
  {
   "cell_type": "markdown",
   "metadata": {},
   "source": [
    "##### 2.1.1 Implémentation de la fonction \"_get_vocab_\" (3 points)\n",
    "\n",
    "Implémentez la fonction \"_get_vocab_\" qui prend une liste de textes composés chacun d'une liste de jetons et retourne un dictionnaire dont les clés sont les jetons uniques et les valeurs sont leur fréquence dans l'ensemble des textes."
   ]
  },
  {
   "cell_type": "code",
   "execution_count": 88,
   "metadata": {},
   "outputs": [],
   "source": [
    "def get_vocab(text_list):\n",
    "    # On récupère les jetons dans chaque liste de textes  \n",
    "    all_tokens = [token for text in text_list for token in text] \n",
    "    # On initialise le dictionnaire de vocabulaire\n",
    "    dict_tokens = dict.fromkeys(set(all_tokens),0)\n",
    "    # On incrémente le compte pour chaque jeton \n",
    "    for token in all_tokens:\n",
    "        dict_tokens[token]+=1\n",
    "    return dict_tokens"
   ]
  },
  {
   "cell_type": "code",
   "execution_count": 89,
   "metadata": {},
   "outputs": [
    {
     "data": {
      "text/plain": [
       "{'test1': 1, 'test2': 3, 'test3': 1}"
      ]
     },
     "execution_count": 89,
     "metadata": {},
     "output_type": "execute_result"
    }
   ],
   "source": [
    "texts = [['test1', 'test2'],['test3','test2','test2']]\n",
    "get_vocab(texts)"
   ]
  },
  {
   "cell_type": "markdown",
   "metadata": {},
   "source": [
    "##### 2.1.2 Implémentez la fonction \"_show_top_N_types_\" (3 points)\n",
    "\n",
    "Implémentez la fonction \"show_top_N_types\" qui affiche les N jetons les plus fréquents à partir d'un dictionnaire comme celui retourné par la fonction \"_get_vocab_\".\n",
    "\n",
    "La fonction prend deux arguments: le dictionnaire \"_dictionary_\" et le paramètre \"_N_\". "
   ]
  },
  {
   "cell_type": "code",
   "execution_count": 90,
   "metadata": {},
   "outputs": [],
   "source": [
    "def show_top_N_types(dict_tokens, n):\n",
    "    # On ordonne les jetons par ordre décroissant de fréquence         \n",
    "    tokens_sorted = sorted(dict_tokens.items(), key=lambda x: x[1], reverse = True)\n",
    "    # On retourne les n premiers jetons   \n",
    "    return tokens_sorted[:n]"
   ]
  },
  {
   "cell_type": "code",
   "execution_count": 91,
   "metadata": {},
   "outputs": [
    {
     "data": {
      "text/plain": [
       "[('test2', 3), ('test62', 1)]"
      ]
     },
     "execution_count": 91,
     "metadata": {},
     "output_type": "execute_result"
    }
   ],
   "source": [
    "show_top_N_types({'test62': 1, 'test23': 1, 'test3': 1, 'test12': 1, 'test1': 1, 'test2': 3}, 2)"
   ]
  },
  {
   "cell_type": "markdown",
   "metadata": {},
   "source": [
    "##### 2.1.3 Construction du vocabulaire (1 point)\n",
    "\n",
    "Construisez maintenant le vocabulaire pour les affirmations et le corpus de documents à partir des listes \"texts_preprocessed\" et \"claims_preprocessed\". \n",
    "\n",
    "Ensuite affichez les 15 jetons les plus fréquents ainsi que leur fréquence."
   ]
  },
  {
   "cell_type": "code",
   "execution_count": 92,
   "metadata": {},
   "outputs": [
    {
     "name": "stdout",
     "output_type": "stream",
     "text": [
      "Nombre de types composant le vocabulaire:  45195\n",
      "Les 15 types les plus fréquents: [('cell', 10464), ('patient', 4175), ('activ', 4145), ('studi', 4014), ('use', 3799), ('express', 3626), ('result', 3213), ('protein', 3083), ('gene', 3004), ('cancer', 2945), ('increas', 2794), ('associ', 2659), ('effect', 2567), ('function', 2515), ('human', 2464)]\n"
     ]
    }
   ],
   "source": [
    "list_texts_claims = list(texts_preprocessed)+ list(claims_preprocessed)\n",
    "\n",
    "print('Nombre de types composant le vocabulaire: ', len(get_vocab(list_texts_claims)))\n",
    "print('Les 15 types les plus fréquents:', show_top_N_types(get_vocab(list_texts_claims),15))"
   ]
  },
  {
   "cell_type": "markdown",
   "metadata": {},
   "source": [
    "Sortie attendue:\n",
    "\n",
    "```Nombre de types composant le vocabulaire: 45195\n",
    "Les 15 types les plus fréquents:\n",
    "('cell', 10464)\n",
    "('patient', 4175)\n",
    "('activ', 4145)\n",
    "('studi', 4014)\n",
    "('use', 3799)\n",
    "('express', 3626)\n",
    "('result', 3213)\n",
    "('protein', 3083)\n",
    "('gene', 3004)\n",
    "('cancer', 2945)\n",
    "('increas', 2794)\n",
    "('associ', 2659)\n",
    "('effect', 2567)\n",
    "('function', 2515)\n",
    "('human', 2464)"
   ]
  },
  {
   "cell_type": "markdown",
   "metadata": {},
   "source": [
    "##### 2.1.4 Implémentation de la fonction \"_show_distribution_\" (4 points)\n",
    "\n",
    "Implémentez la fonction \"__show_distribution__\" qui permet de visualiser la distribution des fréquences des jetons à partir d'un dictionnaire comme celui retourné par la fonction \"_get_vocab_\", en utilisant un graphique où l'axe des abscisses représente le rang d'un type (après un tri par ordre de fréquence décroissante) et l'axe des ordonnées représente sa fréquence sur une échelle logarithmique.  \n",
    "\n",
    "Par exemple, le point (10000, 10) voudrait dire que le 10000ème mot le plus fréquent a une fréquence à peu prés egale à 10 dans le vocabulaire."
   ]
  },
  {
   "cell_type": "code",
   "execution_count": 93,
   "metadata": {},
   "outputs": [
    {
     "data": {
      "image/png": "[encoded data removed]",
      "text/plain": [
       "<Figure size 900x450 with 1 Axes>"
      ]
     },
     "metadata": {},
     "output_type": "display_data"
    }
   ],
   "source": [
    "def show_distribution(dict_tokens):\n",
    "    tokens_sorted = sorted(dict_tokens.items(), key=lambda x: x[1], reverse = True)\n",
    "    \n",
    "    fig, ax = plt.subplots(figsize = (6,3),dpi=150)\n",
    "    \n",
    "    ax.plot(range(1,len(tokens_sorted)+1),[token[1] for token in tokens_sorted])\n",
    "    \n",
    "    ax.set_ylabel('Fréquence log', fontsize=10)\n",
    "    ax.set_yscale('log')\n",
    "        \n",
    "    ax.set_xlabel('Rang', fontsize=10)\n",
    "    \n",
    "    ax.set_title('Distribution des fréquences des jetons',fontsize=10)\n",
    "\n",
    "show_distribution(get_vocab(list_texts_claims))"
   ]
  },
  {
   "cell_type": "markdown",
   "metadata": {},
   "source": [
    "##### 2.1.5 Vérification de la loi de Zipf (4 points)\n",
    "\n",
    "Afin de vérifier la loi de Zipf, donnez une estimation de la valeur de la constante k de cette loi définie comme suit: \n",
    "\n",
    "$$ f \\approx \\frac{k}{r^\\alpha} $$ \n",
    "\n",
    "où $ f $ est la fréquence d'un mot, $ r $ est le rang de ce mot dans la liste triée par fréquence décroissante, et $ k $ est une constante. Etant données les fluctuations sur les valeurs de fréquence, vous pouvez utiliser la librairie ['powerlaw'](https://pypi.org/project/powerlaw/) conçue pour analyser et ajuster des distributions de loi de puissance aux données et qui peut être utile dans l'estimation de $ \\alpha $.\n",
    "\n",
    "Affichez la constante $ k $ trouvée, les fréquences réelles des mots avec celles qui sont prédites par la loi de Zipf."
   ]
  },
  {
   "cell_type": "code",
   "execution_count": 94,
   "metadata": {},
   "outputs": [
    {
     "name": "stdout",
     "output_type": "stream",
     "text": [
      "Calculating best minimal value for power law fit\n",
      "xmin progress: 00%\r",
      "xmin progress: 00%\r",
      "xmin progress: 00%\r",
      "xmin progress: 00%\r",
      "xmin progress: 00%\r",
      "xmin progress: 00%\r",
      "xmin progress: 00%\r",
      "xmin progress: 01%\r",
      "xmin progress: 01%\r",
      "xmin progress: 01%\r",
      "xmin progress: 01%\r",
      "xmin progress: 01%\r",
      "xmin progress: 01%\r",
      "xmin progress: 02%\r",
      "xmin progress: 02%\r",
      "xmin progress: 02%\r",
      "xmin progress: 02%\r",
      "xmin progress: 02%\r",
      "xmin progress: 02%\r",
      "xmin progress: 02%\r",
      "xmin progress: 03%\r",
      "xmin progress: 03%\r",
      "xmin progress: 03%\r",
      "xmin progress: 03%\r",
      "xmin progress: 03%\r",
      "xmin progress: 03%\r",
      "xmin progress: 04%\r",
      "xmin progress: 04%\r",
      "xmin progress: 04%\r",
      "xmin progress: 04%\r",
      "xmin progress: 04%\r",
      "xmin progress: 04%\r",
      "xmin progress: 04%\r",
      "xmin progress: 05%\r",
      "xmin progress: 05%\r",
      "xmin progress: 05%\r",
      "xmin progress: 05%\r",
      "xmin progress: 05%\r",
      "xmin progress: 05%\r",
      "xmin progress: 06%\r",
      "xmin progress: 06%\r",
      "xmin progress: 06%\r",
      "xmin progress: 06%\r",
      "xmin progress: 06%\r",
      "xmin progress: 06%\r",
      "xmin progress: 06%\r",
      "xmin progress: 07%\r",
      "xmin progress: 07%\r",
      "xmin progress: 07%\r",
      "xmin progress: 07%\r",
      "xmin progress: 07%\r",
      "xmin progress: 07%\r",
      "xmin progress: 08%\r",
      "xmin progress: 08%\r",
      "xmin progress: 08%\r",
      "xmin progress: 08%\r",
      "xmin progress: 08%\r",
      "xmin progress: 08%\r",
      "xmin progress: 09%\r",
      "xmin progress: 09%\r",
      "xmin progress: 09%\r",
      "xmin progress: 09%\r",
      "xmin progress: 09%\r",
      "xmin progress: 09%\r",
      "xmin progress: 09%\r",
      "xmin progress: 10%\r",
      "xmin progress: 10%\r",
      "xmin progress: 10%\r",
      "xmin progress: 10%\r",
      "xmin progress: 10%\r",
      "xmin progress: 10%\r",
      "xmin progress: 11%\r",
      "xmin progress: 11%\r",
      "xmin progress: 11%\r",
      "xmin progress: 11%\r",
      "xmin progress: 11%\r",
      "xmin progress: 11%\r",
      "xmin progress: 11%\r",
      "xmin progress: 12%\r",
      "xmin progress: 12%\r",
      "xmin progress: 12%\r",
      "xmin progress: 12%\r",
      "xmin progress: 12%\r",
      "xmin progress: 12%\r",
      "xmin progress: 13%\r",
      "xmin progress: 13%\r",
      "xmin progress: 13%\r",
      "xmin progress: 13%\r",
      "xmin progress: 13%\r",
      "xmin progress: 13%\r",
      "xmin progress: 13%\r",
      "xmin progress: 14%\r",
      "xmin progress: 14%\r",
      "xmin progress: 14%\r",
      "xmin progress: 14%\r",
      "xmin progress: 14%\r",
      "xmin progress: 14%\r",
      "xmin progress: 15%\r",
      "xmin progress: 15%\r",
      "xmin progress: 15%\r",
      "xmin progress: 15%\r",
      "xmin progress: 15%\r",
      "xmin progress: 15%\r",
      "xmin progress: 15%\r",
      "xmin progress: 16%\r",
      "xmin progress: 16%\r",
      "xmin progress: 16%\r",
      "xmin progress: 16%\r",
      "xmin progress: 16%\r",
      "xmin progress: 16%\r",
      "xmin progress: 17%\r",
      "xmin progress: 17%\r",
      "xmin progress: 17%\r",
      "xmin progress: 17%\r",
      "xmin progress: 17%\r",
      "xmin progress: 17%\r",
      "xmin progress: 18%\r",
      "xmin progress: 18%\r",
      "xmin progress: 18%\r",
      "xmin progress: 18%\r",
      "xmin progress: 18%\r",
      "xmin progress: 18%\r",
      "xmin progress: 18%\r",
      "xmin progress: 19%\r",
      "xmin progress: 19%\r",
      "xmin progress: 19%\r",
      "xmin progress: 19%\r",
      "xmin progress: 19%\r",
      "xmin progress: 19%\r",
      "xmin progress: 20%\r",
      "xmin progress: 20%\r",
      "xmin progress: 20%\r",
      "xmin progress: 20%\r",
      "xmin progress: 20%\r",
      "xmin progress: 20%\r",
      "xmin progress: 20%\r",
      "xmin progress: 21%\r",
      "xmin progress: 21%\r",
      "xmin progress: 21%\r",
      "xmin progress: 21%\r",
      "xmin progress: 21%\r",
      "xmin progress: 21%\r",
      "xmin progress: 22%\r",
      "xmin progress: 22%\r",
      "xmin progress: 22%\r",
      "xmin progress: 22%\r",
      "xmin progress: 22%\r",
      "xmin progress: 22%\r",
      "xmin progress: 22%\r",
      "xmin progress: 23%\r",
      "xmin progress: 23%\r",
      "xmin progress: 23%\r",
      "xmin progress: 23%\r",
      "xmin progress: 23%\r",
      "xmin progress: 23%\r",
      "xmin progress: 24%\r",
      "xmin progress: 24%\r",
      "xmin progress: 24%\r",
      "xmin progress: 24%\r",
      "xmin progress: 24%\r",
      "xmin progress: 24%\r",
      "xmin progress: 25%\r",
      "xmin progress: 25%\r",
      "xmin progress: 25%\r",
      "xmin progress: 25%\r",
      "xmin progress: 25%\r",
      "xmin progress: 25%\r",
      "xmin progress: 25%\r",
      "xmin progress: 26%\r",
      "xmin progress: 26%\r",
      "xmin progress: 26%\r",
      "xmin progress: 26%\r",
      "xmin progress: 26%\r",
      "xmin progress: 26%\r",
      "xmin progress: 27%\r",
      "xmin progress: 27%\r",
      "xmin progress: 27%\r",
      "xmin progress: 27%\r",
      "xmin progress: 27%\r",
      "xmin progress: 27%\r",
      "xmin progress: 27%\r",
      "xmin progress: 28%\r",
      "xmin progress: 28%\r",
      "xmin progress: 28%\r",
      "xmin progress: 28%\r",
      "xmin progress: 28%\r",
      "xmin progress: 28%\r",
      "xmin progress: 29%\r",
      "xmin progress: 29%\r",
      "xmin progress: 29%\r",
      "xmin progress: 29%\r",
      "xmin progress: 29%\r",
      "xmin progress: 29%\r",
      "xmin progress: 29%\r",
      "xmin progress: 30%\r",
      "xmin progress: 30%\r",
      "xmin progress: 30%\r",
      "xmin progress: 30%\r",
      "xmin progress: 30%\r",
      "xmin progress: 30%\r",
      "xmin progress: 31%\r",
      "xmin progress: 31%\r",
      "xmin progress: 31%\r",
      "xmin progress: 31%\r",
      "xmin progress: 31%\r",
      "xmin progress: 31%\r",
      "xmin progress: 31%\r",
      "xmin progress: 32%\r",
      "xmin progress: 32%\r",
      "xmin progress: 32%\r",
      "xmin progress: 32%\r",
      "xmin progress: 32%\r",
      "xmin progress: 32%\r",
      "xmin progress: 33%\r",
      "xmin progress: 33%\r",
      "xmin progress: 33%\r",
      "xmin progress: 33%\r",
      "xmin progress: 33%\r",
      "xmin progress: 33%\r",
      "xmin progress: 34%\r",
      "xmin progress: 34%\r",
      "xmin progress: 34%\r",
      "xmin progress: 34%\r",
      "xmin progress: 34%\r",
      "xmin progress: 34%\r",
      "xmin progress: 34%\r",
      "xmin progress: 35%\r",
      "xmin progress: 35%\r",
      "xmin progress: 35%\r",
      "xmin progress: 35%\r",
      "xmin progress: 35%\r",
      "xmin progress: 35%\r",
      "xmin progress: 36%\r",
      "xmin progress: 36%\r",
      "xmin progress: 36%\r",
      "xmin progress: 36%\r",
      "xmin progress: 36%\r",
      "xmin progress: 36%\r",
      "xmin progress: 36%\r",
      "xmin progress: 37%\r",
      "xmin progress: 37%\r",
      "xmin progress: 37%\r",
      "xmin progress: 37%\r",
      "xmin progress: 37%\r",
      "xmin progress: 37%\r",
      "xmin progress: 38%\r",
      "xmin progress: 38%\r",
      "xmin progress: 38%\r",
      "xmin progress: 38%\r",
      "xmin progress: 38%\r",
      "xmin progress: 38%\r",
      "xmin progress: 38%\r",
      "xmin progress: 39%\r",
      "xmin progress: 39%\r",
      "xmin progress: 39%\r",
      "xmin progress: 39%\r",
      "xmin progress: 39%\r",
      "xmin progress: 39%\r",
      "xmin progress: 40%\r",
      "xmin progress: 40%\r",
      "xmin progress: 40%\r",
      "xmin progress: 40%\r",
      "xmin progress: 40%\r",
      "xmin progress: 40%\r",
      "xmin progress: 40%\r",
      "xmin progress: 41%\r",
      "xmin progress: 41%\r",
      "xmin progress: 41%\r",
      "xmin progress: 41%\r",
      "xmin progress: 41%\r",
      "xmin progress: 41%\r",
      "xmin progress: 42%\r",
      "xmin progress: 42%\r",
      "xmin progress: 42%\r",
      "xmin progress: 42%\r",
      "xmin progress: 42%\r",
      "xmin progress: 42%\r",
      "xmin progress: 43%\r",
      "xmin progress: 43%\r",
      "xmin progress: 43%\r",
      "xmin progress: 43%\r",
      "xmin progress: 43%\r",
      "xmin progress: 43%\r",
      "xmin progress: 43%\r",
      "xmin progress: 44%\r",
      "xmin progress: 44%\r",
      "xmin progress: 44%\r",
      "xmin progress: 44%\r",
      "xmin progress: 44%\r",
      "xmin progress: 44%\r",
      "xmin progress: 45%\r",
      "xmin progress: 45%\r",
      "xmin progress: 45%\r",
      "xmin progress: 45%\r",
      "xmin progress: 45%\r",
      "xmin progress: 45%\r",
      "xmin progress: 45%\r",
      "xmin progress: 46%\r",
      "xmin progress: 46%\r",
      "xmin progress: 46%\r",
      "xmin progress: 46%\r",
      "xmin progress: 46%\r",
      "xmin progress: 46%\r",
      "xmin progress: 47%\r",
      "xmin progress: 47%\r",
      "xmin progress: 47%\r",
      "xmin progress: 47%\r",
      "xmin progress: 47%\r",
      "xmin progress: 47%\r",
      "xmin progress: 47%\r",
      "xmin progress: 48%\r",
      "xmin progress: 48%\r",
      "xmin progress: 48%\r",
      "xmin progress: 48%\r",
      "xmin progress: 48%\r",
      "xmin progress: 48%\r",
      "xmin progress: 49%\r",
      "xmin progress: 49%\r",
      "xmin progress: 49%\r",
      "xmin progress: 49%\r",
      "xmin progress: 49%\r",
      "xmin progress: 49%\r",
      "xmin progress: 50%\r",
      "xmin progress: 50%\r",
      "xmin progress: 50%\r",
      "xmin progress: 50%\r",
      "xmin progress: 50%\r",
      "xmin progress: 50%\r",
      "xmin progress: 50%\r",
      "xmin progress: 51%\r",
      "xmin progress: 51%\r",
      "xmin progress: 51%\r",
      "xmin progress: 51%\r",
      "xmin progress: 51%\r",
      "xmin progress: 51%\r",
      "xmin progress: 52%\r",
      "xmin progress: 52%\r",
      "xmin progress: 52%\r",
      "xmin progress: 52%\r",
      "xmin progress: 52%\r",
      "xmin progress: 52%\r",
      "xmin progress: 52%\r",
      "xmin progress: 53%\r",
      "xmin progress: 53%\r",
      "xmin progress: 53%\r",
      "xmin progress: 53%\r",
      "xmin progress: 53%\r",
      "xmin progress: 53%\r",
      "xmin progress: 54%\r",
      "xmin progress: 54%\r",
      "xmin progress: 54%\r",
      "xmin progress: 54%\r",
      "xmin progress: 54%\r",
      "xmin progress: 54%\r",
      "xmin progress: 54%\r",
      "xmin progress: 55%\r",
      "xmin progress: 55%\r",
      "xmin progress: 55%\r",
      "xmin progress: 55%\r",
      "xmin progress: 55%\r",
      "xmin progress: 55%\r",
      "xmin progress: 56%\r",
      "xmin progress: 56%\r",
      "xmin progress: 56%\r",
      "xmin progress: 56%\r",
      "xmin progress: 56%\r",
      "xmin progress: 56%\r",
      "xmin progress: 56%\r",
      "xmin progress: 57%\r",
      "xmin progress: 57%\r",
      "xmin progress: 57%\r",
      "xmin progress: 57%\r",
      "xmin progress: 57%\r",
      "xmin progress: 57%\r",
      "xmin progress: 58%\r",
      "xmin progress: 58%\r",
      "xmin progress: 58%\r",
      "xmin progress: 58%\r",
      "xmin progress: 58%\r",
      "xmin progress: 58%\r",
      "xmin progress: 59%\r",
      "xmin progress: 59%\r",
      "xmin progress: 59%\r",
      "xmin progress: 59%\r",
      "xmin progress: 59%\r",
      "xmin progress: 59%\r",
      "xmin progress: 59%\r",
      "xmin progress: 60%\r",
      "xmin progress: 60%\r",
      "xmin progress: 60%\r",
      "xmin progress: 60%\r",
      "xmin progress: 60%\r",
      "xmin progress: 60%\r",
      "xmin progress: 61%\r",
      "xmin progress: 61%\r",
      "xmin progress: 61%\r",
      "xmin progress: 61%\r",
      "xmin progress: 61%\r",
      "xmin progress: 61%\r",
      "xmin progress: 61%\r",
      "xmin progress: 62%\r",
      "xmin progress: 62%\r",
      "xmin progress: 62%\r",
      "xmin progress: 62%\r",
      "xmin progress: 62%\r",
      "xmin progress: 62%\r",
      "xmin progress: 63%\r",
      "xmin progress: 63%\r",
      "xmin progress: 63%\r",
      "xmin progress: 63%\r",
      "xmin progress: 63%\r",
      "xmin progress: 63%\r",
      "xmin progress: 63%\r",
      "xmin progress: 64%\r",
      "xmin progress: 64%\r",
      "xmin progress: 64%\r",
      "xmin progress: 64%\r",
      "xmin progress: 64%\r",
      "xmin progress: 64%\r",
      "xmin progress: 65%\r",
      "xmin progress: 65%\r",
      "xmin progress: 65%\r",
      "xmin progress: 65%\r",
      "xmin progress: 65%\r",
      "xmin progress: 65%\r",
      "xmin progress: 65%\r",
      "xmin progress: 66%\r",
      "xmin progress: 66%\r",
      "xmin progress: 66%\r",
      "xmin progress: 66%\r",
      "xmin progress: 66%\r",
      "xmin progress: 66%\r",
      "xmin progress: 67%\r",
      "xmin progress: 67%\r",
      "xmin progress: 67%\r",
      "xmin progress: 67%\r",
      "xmin progress: 67%\r",
      "xmin progress: 67%\r",
      "xmin progress: 68%\r",
      "xmin progress: 68%\r",
      "xmin progress: 68%\r",
      "xmin progress: 68%\r",
      "xmin progress: 68%\r",
      "xmin progress: 68%\r",
      "xmin progress: 68%\r",
      "xmin progress: 69%\r",
      "xmin progress: 69%\r",
      "xmin progress: 69%\r",
      "xmin progress: 69%\r",
      "xmin progress: 69%\r",
      "xmin progress: 69%\r",
      "xmin progress: 70%\r",
      "xmin progress: 70%\r",
      "xmin progress: 70%\r",
      "xmin progress: 70%\r",
      "xmin progress: 70%\r",
      "xmin progress: 70%\r",
      "xmin progress: 70%\r",
      "xmin progress: 71%\r",
      "xmin progress: 71%\r",
      "xmin progress: 71%\r",
      "xmin progress: 71%\r",
      "xmin progress: 71%\r",
      "xmin progress: 71%\r",
      "xmin progress: 72%\r",
      "xmin progress: 72%\r",
      "xmin progress: 72%\r",
      "xmin progress: 72%\r",
      "xmin progress: 72%\r",
      "xmin progress: 72%\r",
      "xmin progress: 72%\r",
      "xmin progress: 73%\r",
      "xmin progress: 73%\r",
      "xmin progress: 73%\r",
      "xmin progress: 73%\r",
      "xmin progress: 73%\r",
      "xmin progress: 73%\r",
      "xmin progress: 74%\r",
      "xmin progress: 74%\r",
      "xmin progress: 74%\r",
      "xmin progress: 74%\r",
      "xmin progress: 74%\r",
      "xmin progress: 74%\r",
      "xmin progress: 75%\r",
      "xmin progress: 75%\r",
      "xmin progress: 75%\r",
      "xmin progress: 75%\r",
      "xmin progress: 75%\r",
      "xmin progress: 75%\r",
      "xmin progress: 75%\r",
      "xmin progress: 76%\r",
      "xmin progress: 76%\r",
      "xmin progress: 76%\r",
      "xmin progress: 76%\r",
      "xmin progress: 76%\r",
      "xmin progress: 76%\r",
      "xmin progress: 77%\r",
      "xmin progress: 77%\r",
      "xmin progress: 77%\r",
      "xmin progress: 77%\r",
      "xmin progress: 77%\r",
      "xmin progress: 77%\r",
      "xmin progress: 77%\r",
      "xmin progress: 78%\r",
      "xmin progress: 78%\r",
      "xmin progress: 78%\r",
      "xmin progress: 78%\r",
      "xmin progress: 78%\r",
      "xmin progress: 78%\r",
      "xmin progress: 79%\r",
      "xmin progress: 79%\r",
      "xmin progress: 79%\r",
      "xmin progress: 79%\r",
      "xmin progress: 79%\r",
      "xmin progress: 79%\r",
      "xmin progress: 79%\r",
      "xmin progress: 80%\r",
      "xmin progress: 80%\r",
      "xmin progress: 80%\r",
      "xmin progress: 80%\r",
      "xmin progress: 80%\r",
      "xmin progress: 80%\r",
      "xmin progress: 81%\r",
      "xmin progress: 81%\r",
      "xmin progress: 81%\r",
      "xmin progress: 81%\r",
      "xmin progress: 81%\r",
      "xmin progress: 81%\r",
      "xmin progress: 81%\r",
      "xmin progress: 82%\r",
      "xmin progress: 82%\r",
      "xmin progress: 82%\r",
      "xmin progress: 82%\r",
      "xmin progress: 82%\r",
      "xmin progress: 82%\r",
      "xmin progress: 83%\r",
      "xmin progress: 83%\r",
      "xmin progress: 83%\r",
      "xmin progress: 83%\r",
      "xmin progress: 83%\r",
      "xmin progress: 83%\r",
      "xmin progress: 84%\r",
      "xmin progress: 84%\r",
      "xmin progress: 84%\r",
      "xmin progress: 84%\r",
      "xmin progress: 84%\r",
      "xmin progress: 84%\r",
      "xmin progress: 84%\r",
      "xmin progress: 85%\r",
      "xmin progress: 85%\r",
      "xmin progress: 85%\r",
      "xmin progress: 85%\r",
      "xmin progress: 85%\r",
      "xmin progress: 85%\r",
      "xmin progress: 86%\r",
      "xmin progress: 86%\r",
      "xmin progress: 86%\r",
      "xmin progress: 86%\r",
      "xmin progress: 86%\r",
      "xmin progress: 86%\r",
      "xmin progress: 86%\r",
      "xmin progress: 87%\r",
      "xmin progress: 87%\r",
      "xmin progress: 87%\r",
      "xmin progress: 87%\r",
      "xmin progress: 87%\r",
      "xmin progress: 87%\r",
      "xmin progress: 88%\r",
      "xmin progress: 88%\r",
      "xmin progress: 88%\r",
      "xmin progress: 88%\r",
      "xmin progress: 88%\r",
      "xmin progress: 88%\r",
      "xmin progress: 88%\r",
      "xmin progress: 89%\r",
      "xmin progress: 89%\r",
      "xmin progress: 89%\r",
      "xmin progress: 89%\r",
      "xmin progress: 89%\r",
      "xmin progress: 89%\r",
      "xmin progress: 90%\r",
      "xmin progress: 90%\r",
      "xmin progress: 90%\r",
      "xmin progress: 90%\r",
      "xmin progress: 90%\r",
      "xmin progress: 90%\r",
      "xmin progress: 90%\r",
      "xmin progress: 91%\r",
      "xmin progress: 91%\r",
      "xmin progress: 91%\r",
      "xmin progress: 91%\r",
      "xmin progress: 91%\r",
      "xmin progress: 91%\r",
      "xmin progress: 92%\r",
      "xmin progress: 92%\r",
      "xmin progress: 92%\r",
      "xmin progress: 92%\r",
      "xmin progress: 92%\r",
      "xmin progress: 92%\r",
      "xmin progress: 93%\r",
      "xmin progress: 93%\r",
      "xmin progress: 93%\r",
      "xmin progress: 93%\r",
      "xmin progress: 93%\r",
      "xmin progress: 93%\r",
      "xmin progress: 93%\r",
      "xmin progress: 94%\r",
      "xmin progress: 94%\r",
      "xmin progress: 94%\r",
      "xmin progress: 94%\r",
      "xmin progress: 94%\r",
      "xmin progress: 94%\r",
      "xmin progress: 95%\r",
      "xmin progress: 95%\r",
      "xmin progress: 95%\r",
      "xmin progress: 95%\r",
      "xmin progress: 95%\r",
      "xmin progress: 95%\r",
      "xmin progress: 95%\r",
      "xmin progress: 96%\r",
      "xmin progress: 96%\r",
      "xmin progress: 96%\r",
      "xmin progress: 96%\r",
      "xmin progress: 96%\r",
      "xmin progress: 96%\r",
      "xmin progress: 97%\r",
      "xmin progress: 97%\r",
      "xmin progress: 97%\r",
      "xmin progress: 97%\r",
      "xmin progress: 97%\r",
      "xmin progress: 97%\r",
      "xmin progress: 97%\r",
      "xmin progress: 98%\r",
      "xmin progress: 98%\r",
      "xmin progress: 98%\r",
      "xmin progress: 98%\r",
      "xmin progress: 98%\r",
      "xmin progress: 98%\r",
      "xmin progress: 99%\r",
      "xmin progress: 99%\r",
      "xmin progress: 99%\r",
      "xmin progress: 99%\r",
      "xmin progress: 99%\r",
      "xmin progress: 99%\r",
      "1.7774914193011577\n"
     ]
    }
   ],
   "source": [
    "# On récupère et ordonne les jetons \n",
    "dict_tokens = get_vocab(list_texts_claims)\n",
    "tokens_sorted = sorted(dict_tokens.items(), key=lambda x: x[1], reverse = True)\n",
    "\n",
    "# On récupère les fréquences ordonnées et les rangs correspondants\n",
    "frequency = [token[1] for token in tokens_sorted]\n",
    "rank = np.arange(1,len(tokens_sorted)+1)\n",
    "\n",
    "fit = powerlaw.Fit(frequency)\n",
    "\n",
    "# On calcule alpha\n",
    "alpha = fit.alpha\n",
    "print(alpha)"
   ]
  },
  {
   "cell_type": "code",
   "execution_count": 95,
   "metadata": {},
   "outputs": [
    {
     "name": "stdout",
     "output_type": "stream",
     "text": [
      "constante k: 66781392.86948402\n"
     ]
    },
    {
     "data": {
      "image/png": "[encoded data removed]",
      "text/plain": [
       "<Figure size 1000x600 with 1 Axes>"
      ]
     },
     "metadata": {},
     "output_type": "display_data"
    }
   ],
   "source": [
    "# On visualise la distribution des produits f * r^alpha pour trouver le meilleur K\n",
    "k_list = []\n",
    "for r in rank:\n",
    "    # On calcule k = f * r^alpha\n",
    "    k = frequency[r-1] * (r)**alpha\n",
    "    k_list.append(k)\n",
    "\n",
    "plt.figure(figsize=(10, 6))\n",
    "frequencies, bins, patches = plt.hist(k_list, bins=100, color='skyblue', edgecolor='black')\n",
    "\n",
    "# On récupère l'intervalle des produits f * r^alpha les plus fréquents\n",
    "max_frequency = np.max(frequencies)\n",
    "max_index = np.argmax(frequencies)\n",
    "corresponding_bin = (bins[max_index], bins[max_index + 1])\n",
    "\n",
    "# On définit k en étant la moyenne sur l'intervalle récupéré\n",
    "print('constante k:', np.mean(corresponding_bin))\n",
    "\n",
    "plt.xlabel('Valeur K')\n",
    "plt.ylabel('Fréquence')\n",
    "plt.tight_layout()\n",
    "plt.show()"
   ]
  },
  {
   "cell_type": "code",
   "execution_count": 96,
   "metadata": {},
   "outputs": [
    {
     "data": {
      "image/png": "[encoded data removed]",
      "text/plain": [
       "<Figure size 900x450 with 1 Axes>"
      ]
     },
     "metadata": {},
     "output_type": "display_data"
    }
   ],
   "source": [
    "# On définit k en étant la moyenne sur l'intervalle récupéré\n",
    "k = np.mean(corresponding_bin)\n",
    "predicted_frequency_list = []\n",
    "\n",
    "for r in rank:\n",
    "    # On calcule les fréquences prédites\n",
    "    predicted_frequency = k * ((r)**(-alpha))\n",
    "    predicted_frequency_list.append(predicted_frequency)\n",
    "\n",
    "\n",
    "def show_distribution(dict_tokens):\n",
    "    tokens_sorted = sorted(dict_tokens.items(), key=lambda x: x[1], reverse = True)\n",
    "    \n",
    "    fig, ax = plt.subplots(figsize = (6,3),dpi=150)\n",
    "    \n",
    "    ax.plot(range(1,len(tokens_sorted)+1),[token[1] for token in tokens_sorted], label = 'fréquences réelles', c = 'b')\n",
    "    ax.plot(range(1,len(tokens_sorted)+1),predicted_frequency_list, label = 'fréquences prédites', c = 'r')\n",
    "    \n",
    "    ax.set_ylabel('Fréquence log', fontsize=10)\n",
    "    ax.set_yscale('log')\n",
    "        \n",
    "    ax.set_xlabel('Rang', fontsize=10)\n",
    "    \n",
    "    ax.set_title('Comparaision des fréquences réelles et des fréquences prédites',fontsize=10)\n",
    "    ax.legend()\n",
    "\n",
    "show_distribution(get_vocab(list_texts_claims))"
   ]
  },
  {
   "cell_type": "markdown",
   "metadata": {
    "id": "pdxcQdRJ818T"
   },
   "source": [
    "\n",
    "\n",
    "\n",
    "\n",
    "\n",
    "\n",
    "\n",
    "\n",
    "\n",
    "\n",
    "\n",
    "\n",
    "\n",
    "\n",
    "\n",
    "\n",
    "\n",
    "\n",
    "\n",
    "\n",
    "\n",
    "\n",
    "\n",
    "\n",
    "\n",
    "\n",
    "\n",
    "\n",
    "\n",
    "\n",
    "\n",
    "\n",
    "\n",
    "\n",
    "\n",
    "\n",
    "\n",
    "\n",
    "\n",
    "\n",
    "\n",
    "\n",
    "\n",
    "\n",
    "\n",
    "\n",
    "\n",
    "\n",
    "\n",
    "\n",
    "\n",
    "\n",
    "\n",
    "\n",
    "\n",
    "\n",
    "\n",
    "\n",
    "\n",
    "\n",
    "\n",
    "\n",
    "\n",
    "\n",
    "\n",
    "\n",
    "\n",
    "\n",
    "\n",
    "\n",
    "\n",
    "\n",
    "\n",
    "\n",
    "\n",
    "\n",
    "\n",
    "\n",
    "\n",
    "\n",
    "\n",
    "\n",
    "\n",
    "\n",
    "#### 2.2  Création d’un modèle sac de mots (10 points)"
   ]
  },
  {
   "cell_type": "markdown",
   "metadata": {},
   "source": [
    "##### 2.2.1 Répresentation de texte (5 points)\n",
    "\n",
    "En utilisant sklearn et à partir de vos données pré-traitées (\"_claims_preprocessed_\", \"_titles_preprocessed_\", \"_abstracts_preprocessed_\" et \"_texts_preprocessed_\"), représentez chaque affirmation (_claim_) et document avec le vocabulaire créé 'précédemment dans la variables \"_claims_preprocessed_joined_\", \"_titles_preprocessed_joined_\", \"_abstract_preprocessed_joined_\" et \"_texts_preprocessed_joined_\". Cela veut dire que tout jeton qui n'est pas dans le vocabulaire doit être enlevé dans le document et l'affirmation. Faites cela pour les trois possibilités de représentation de document: \"_title_\", \"_abstract_\" et \"_text_\"."
   ]
  },
  {
   "cell_type": "code",
   "execution_count": 97,
   "metadata": {},
   "outputs": [],
   "source": [
    "claims_preprocessed = list(claims_preprocessed)\n",
    "texts_preprocessed =list(texts_preprocessed)\n",
    "titles_preprocessed = list(titles_preprocessed)\n",
    "abstracts_preprocessed = list(abstracts_preprocessed)\n",
    "\n",
    "# On filtre les jetons qui n'existent pas dans le vocabulaire\n",
    "def filtration(preprocessed):\n",
    "    preprocessed_joined = []\n",
    "    for line in preprocessed:\n",
    "        line_joined = [token for token in line if token in dict_tokens]\n",
    "        preprocessed_joined.append(' '.join(line_joined))\n",
    "    return preprocessed_joined\n",
    "\n",
    "claims_preprocessed_joined = filtration(claims_preprocessed)\n",
    "titles_preprocessed_joined = filtration(titles_preprocessed)\n",
    "abstracts_preprocessed_joined = filtration(abstracts_preprocessed)\n",
    "texts_preprocessed_joined = filtration(texts_preprocessed)"
   ]
  },
  {
   "cell_type": "markdown",
   "metadata": {},
   "source": [
    "##### 2.2.2 Pondération (4 points)\n",
    "\n",
    "En utilisant un modèle sac de mots basé sur des unigrammes et des bigrammes, créez une représentation vectorielle de vos documents (titles, abstracts, texts) et de vos affirmations (claims) avec TF-IDF en utilisant le TfidfVectorizer de sklearn. "
   ]
  },
  {
   "cell_type": "code",
   "execution_count": 98,
   "metadata": {},
   "outputs": [
    {
     "data": {
      "text/html": [
       "<style>#sk-container-id-2 {color: black;}#sk-container-id-2 pre{padding: 0;}#sk-container-id-2 div.sk-toggleable {background-color: white;}#sk-container-id-2 label.sk-toggleable__label {cursor: pointer;display: block;width: 100%;margin-bottom: 0;padding: 0.3em;box-sizing: border-box;text-align: center;}#sk-container-id-2 label.sk-toggleable__label-arrow:before {content: \"▸\";float: left;margin-right: 0.25em;color: #696969;}#sk-container-id-2 label.sk-toggleable__label-arrow:hover:before {color: black;}#sk-container-id-2 div.sk-estimator:hover label.sk-toggleable__label-arrow:before {color: black;}#sk-container-id-2 div.sk-toggleable__content {max-height: 0;max-width: 0;overflow: hidden;text-align: left;background-color: #f0f8ff;}#sk-container-id-2 div.sk-toggleable__content pre {margin: 0.2em;color: black;border-radius: 0.25em;background-color: #f0f8ff;}#sk-container-id-2 input.sk-toggleable__control:checked~div.sk-toggleable__content {max-height: 200px;max-width: 100%;overflow: auto;}#sk-container-id-2 input.sk-toggleable__control:checked~label.sk-toggleable__label-arrow:before {content: \"▾\";}#sk-container-id-2 div.sk-estimator input.sk-toggleable__control:checked~label.sk-toggleable__label {background-color: #d4ebff;}#sk-container-id-2 div.sk-label input.sk-toggleable__control:checked~label.sk-toggleable__label {background-color: #d4ebff;}#sk-container-id-2 input.sk-hidden--visually {border: 0;clip: rect(1px 1px 1px 1px);clip: rect(1px, 1px, 1px, 1px);height: 1px;margin: -1px;overflow: hidden;padding: 0;position: absolute;width: 1px;}#sk-container-id-2 div.sk-estimator {font-family: monospace;background-color: #f0f8ff;border: 1px dotted black;border-radius: 0.25em;box-sizing: border-box;margin-bottom: 0.5em;}#sk-container-id-2 div.sk-estimator:hover {background-color: #d4ebff;}#sk-container-id-2 div.sk-parallel-item::after {content: \"\";width: 100%;border-bottom: 1px solid gray;flex-grow: 1;}#sk-container-id-2 div.sk-label:hover label.sk-toggleable__label {background-color: #d4ebff;}#sk-container-id-2 div.sk-serial::before {content: \"\";position: absolute;border-left: 1px solid gray;box-sizing: border-box;top: 0;bottom: 0;left: 50%;z-index: 0;}#sk-container-id-2 div.sk-serial {display: flex;flex-direction: column;align-items: center;background-color: white;padding-right: 0.2em;padding-left: 0.2em;position: relative;}#sk-container-id-2 div.sk-item {position: relative;z-index: 1;}#sk-container-id-2 div.sk-parallel {display: flex;align-items: stretch;justify-content: center;background-color: white;position: relative;}#sk-container-id-2 div.sk-item::before, #sk-container-id-2 div.sk-parallel-item::before {content: \"\";position: absolute;border-left: 1px solid gray;box-sizing: border-box;top: 0;bottom: 0;left: 50%;z-index: -1;}#sk-container-id-2 div.sk-parallel-item {display: flex;flex-direction: column;z-index: 1;position: relative;background-color: white;}#sk-container-id-2 div.sk-parallel-item:first-child::after {align-self: flex-end;width: 50%;}#sk-container-id-2 div.sk-parallel-item:last-child::after {align-self: flex-start;width: 50%;}#sk-container-id-2 div.sk-parallel-item:only-child::after {width: 0;}#sk-container-id-2 div.sk-dashed-wrapped {border: 1px dashed gray;margin: 0 0.4em 0.5em 0.4em;box-sizing: border-box;padding-bottom: 0.4em;background-color: white;}#sk-container-id-2 div.sk-label label {font-family: monospace;font-weight: bold;display: inline-block;line-height: 1.2em;}#sk-container-id-2 div.sk-label-container {text-align: center;}#sk-container-id-2 div.sk-container {/* jupyter's `normalize.less` sets `[hidden] { display: none; }` but bootstrap.min.css set `[hidden] { display: none !important; }` so we also need the `!important` here to be able to override the default hidden behavior on the sphinx rendered scikit-learn.org. See: https://github.com/scikit-learn/scikit-learn/issues/21755 */display: inline-block !important;position: relative;}#sk-container-id-2 div.sk-text-repr-fallback {display: none;}</style><div id=\"sk-container-id-2\" class=\"sk-top-container\"><div class=\"sk-text-repr-fallback\"><pre>TfidfVectorizer(ngram_range=(1, 2))</pre><b>In a Jupyter environment, please rerun this cell to show the HTML representation or trust the notebook. <br />On GitHub, the HTML representation is unable to render, please try loading this page with nbviewer.org.</b></div><div class=\"sk-container\" hidden><div class=\"sk-item\"><div class=\"sk-estimator sk-toggleable\"><input class=\"sk-toggleable__control sk-hidden--visually\" id=\"sk-estimator-id-2\" type=\"checkbox\" checked><label for=\"sk-estimator-id-2\" class=\"sk-toggleable__label sk-toggleable__label-arrow\">TfidfVectorizer</label><div class=\"sk-toggleable__content\"><pre>TfidfVectorizer(ngram_range=(1, 2))</pre></div></div></div></div></div>"
      ],
      "text/plain": [
       "TfidfVectorizer(ngram_range=(1, 2))"
      ]
     },
     "execution_count": 98,
     "metadata": {},
     "output_type": "execute_result"
    }
   ],
   "source": [
    "# On entraîne un modèle sac de mots basé sur des unigrammes et des bigrammes basé sur tous les documents et affirmations\n",
    "vectorizer = TfidfVectorizer(ngram_range=(1,2))\n",
    "vectorizer.fit(claims_preprocessed_joined + texts_preprocessed_joined + titles_preprocessed_joined + abstracts_preprocessed_joined)"
   ]
  },
  {
   "cell_type": "markdown",
   "metadata": {},
   "source": [
    "##### 2.2.3 Affichage (1 point)\n",
    "\n",
    "Affichez les dimensions (shape) de vos corpus (claims, text, title, abstract) après vectorisation"
   ]
  },
  {
   "cell_type": "code",
   "execution_count": 99,
   "metadata": {},
   "outputs": [
    {
     "data": {
      "text/plain": [
       "(809, 473643)"
      ]
     },
     "execution_count": 99,
     "metadata": {},
     "output_type": "execute_result"
    }
   ],
   "source": [
    "# On transforme le affirmations en représentation verctorielle en utilisant le modèle entraîné\n",
    "claims_vector = vectorizer.transform(claims_preprocessed_joined)\n",
    "claims_vector.shape"
   ]
  },
  {
   "cell_type": "markdown",
   "metadata": {},
   "source": [
    "Sortie attendue pour \"_claims_\"\n",
    "```\n",
    "(809, 473643)\n",
    "```"
   ]
  },
  {
   "cell_type": "code",
   "execution_count": 100,
   "metadata": {},
   "outputs": [
    {
     "data": {
      "text/plain": [
       "(5183, 473643)"
      ]
     },
     "execution_count": 100,
     "metadata": {},
     "output_type": "execute_result"
    }
   ],
   "source": [
    "texts_vector = vectorizer.transform(texts_preprocessed_joined)\n",
    "texts_vector.shape"
   ]
  },
  {
   "cell_type": "markdown",
   "metadata": {},
   "source": [
    "Sortie attendue pour \"_texts_\"\n",
    "```\n",
    "(5183, 473643)\n",
    "```"
   ]
  },
  {
   "cell_type": "code",
   "execution_count": 101,
   "metadata": {},
   "outputs": [
    {
     "data": {
      "text/plain": [
       "(5183, 473643)"
      ]
     },
     "execution_count": 101,
     "metadata": {},
     "output_type": "execute_result"
    }
   ],
   "source": [
    "titles_vector = vectorizer.transform(titles_preprocessed_joined)\n",
    "titles_vector.shape"
   ]
  },
  {
   "cell_type": "markdown",
   "metadata": {},
   "source": [
    "Sortie attendue pour \"_titles_\"\n",
    "```\n",
    "(5183, 473643)\n",
    "```"
   ]
  },
  {
   "cell_type": "code",
   "execution_count": 102,
   "metadata": {},
   "outputs": [
    {
     "data": {
      "text/plain": [
       "(5183, 473643)"
      ]
     },
     "execution_count": 102,
     "metadata": {},
     "output_type": "execute_result"
    }
   ],
   "source": [
    "abstracts_vector = vectorizer.transform(abstracts_preprocessed_joined)\n",
    "abstracts_vector.shape"
   ]
  },
  {
   "cell_type": "markdown",
   "metadata": {},
   "source": [
    "Sortie attendue pour abstracts\n",
    "```\n",
    "(5183, 473643)"
   ]
  },
  {
   "cell_type": "markdown",
   "metadata": {
    "id": "sMrNWcxL9QNF"
   },
   "source": [
    "#### 2.3 Pertinence d'un document (20 points)"
   ]
  },
  {
   "cell_type": "markdown",
   "metadata": {},
   "source": [
    "Maintenant que vous avez une représentation de vos affirmations \"_claims_\" et documents (\"_texts_\", \"_titles_\", \"_abstracts_\"), il faut être capable de déterminer quel document sera le plus pertinent pour une affirmation donnée."
   ]
  },
  {
   "cell_type": "markdown",
   "metadata": {
    "id": "3AsiWH2O9XKD"
   },
   "source": [
    "##### 2.3.1 Implémentation de \"_eval_similarity_\" (3 points)\n",
    "\n",
    "Implémentez la fonction \"_eval_similarity_\" pour évaluer la similarité cosinus entre la représentation de l'affirmation et celle de chaque document. La fonction prend une liste d'affirmations et une liste de documents et retourne une matrice où chaque ligne représente une affirmation et chaque colonne représente un document (\"title\", \"abstract\" ou \"text\") et les valeurs sont les similarités cosinus entre une affirmation et un document."
   ]
  },
  {
   "cell_type": "code",
   "execution_count": 103,
   "metadata": {},
   "outputs": [],
   "source": [
    "# On évalue la similarité cosinus entre la représentation de chaque affirmation et celle de chaque document\n",
    "def eval_similarity(claims_vector, docs_vector):\n",
    "    return cosine_similarity(claims_vector, docs_vector)\n",
    "\n",
    "similarity_texts = eval_similarity(claims_vector,texts_vector)\n",
    "similarity_titles = eval_similarity(claims_vector,titles_vector)\n",
    "similarity_abstracts = eval_similarity(claims_vector,abstracts_vector)"
   ]
  },
  {
   "cell_type": "markdown",
   "metadata": {
    "id": "5_gDSgTv9fCu"
   },
   "source": [
    "##### 2.3.2 Implémentation de la fonction \"_rank_texts_\" (2 points)\n",
    "\n",
    "Implémentez la fonction \"_rank_texts_\", qui, au moyen de la précédente (_eval_similarity_), retourne le top-N (N=1,3,5) des documents pertinents pour une affirmation donnée (N est un paramètre). Ces documents devront être ordonnés du plus pertinent au moins pertinent. Idéalement, le document à la position 1 sera celui qui contient la preuve (ou justification) de l'affirmation. Il faudra retourner non pas les indices des documents dans le dataframe mais plutôt leur identifiants au niveau de la colonne \"_doc_id_\"."
   ]
  },
  {
   "cell_type": "code",
   "execution_count": 104,
   "metadata": {},
   "outputs": [],
   "source": [
    "def rank_texts(matrix_similarity,top_n):\n",
    "    results = []\n",
    "    # Pour chaque ligne (affirmation) on récupère les mesures de similarité classées par ordre décroissant     \n",
    "    for line in matrix_similarity:\n",
    "        dict_rank = dict(zip(df_corpus['doc_id'], line))\n",
    "        sorted_rank = sorted(dict_rank.items(), key=lambda x: x[1], reverse=True)\n",
    "        # On récupère les top_n docs_id      \n",
    "        results.append([i[0] for i in sorted_rank[:top_n]])\n",
    "    return results"
   ]
  },
  {
   "cell_type": "markdown",
   "metadata": {},
   "source": [
    "##### 2.3.3 Préparation des dataframes de réponses (1 point) \n",
    "\n",
    "Vous allez écrire la fonction \"prepare_results_df\" qui crée les dataframes qui vont contenir les résultats de la recherche de documents pertinents pour les affirmations.\n",
    "\n",
    "La fonction \"prepare_results_df\" prend les arguments suivants:\n",
    "\n",
    "- '_df_': le dataframe original nommé '_df_claims_' à partir duquel on crée les autres, \n",
    "- '_columns_to_drop_': les colonnes à supprimer \n",
    "- '_column_to_rename_': le nom de la colonne de référence dans le dataframe original qui sera renommée \"gold standard passage\"\n",
    "\n",
    "et effectue les opérations suivantes:\n",
    "\n",
    "1. Créer un nouveau dataframe à partir de \"_df_claims_\" en supprimant toutes les colonnes sauf \"cited_doc_ids\".\n",
    "2. Renommer la colonne \"cited_doc_ids\" en \"gold standard passage\".\n",
    "3. Ajouter les colonnes \"top_1\", \"top_3\", et \"top_5\" au dataframe, \n",
    "en les initialisant avec des chaînes de zéros séparés par des points-\n",
    "virgules, correspondant respectivement à des configurations de 1, 3, et \n",
    "5 zéros pour toutes les lignes.\n",
    "\n",
    "Vous utiliserez ensuite cette fonction pour créer les dataframes \"results_titles_df\", \"results_abstracts_df\" et \"results_texts_df\", qui seront destinés à contenir les résultats de recherche de documents pour \"title\", \"abstract\" et \"text\" respectivement."
   ]
  },
  {
   "cell_type": "code",
   "execution_count": 105,
   "metadata": {},
   "outputs": [
    {
     "data": {
      "text/html": [
       "<div>\n",
       "<style scoped>\n",
       "    .dataframe tbody tr th:only-of-type {\n",
       "        vertical-align: middle;\n",
       "    }\n",
       "\n",
       "    .dataframe tbody tr th {\n",
       "        vertical-align: top;\n",
       "    }\n",
       "\n",
       "    .dataframe thead th {\n",
       "        text-align: right;\n",
       "    }\n",
       "</style>\n",
       "<table border=\"1\" class=\"dataframe\">\n",
       "  <thead>\n",
       "    <tr style=\"text-align: right;\">\n",
       "      <th></th>\n",
       "      <th>id</th>\n",
       "      <th>gold standard passage</th>\n",
       "      <th>top_1</th>\n",
       "      <th>top_3</th>\n",
       "      <th>top_5</th>\n",
       "    </tr>\n",
       "  </thead>\n",
       "  <tbody>\n",
       "    <tr>\n",
       "      <th>0</th>\n",
       "      <td>0</td>\n",
       "      <td>[31715818]</td>\n",
       "      <td>0</td>\n",
       "      <td>0;0;0</td>\n",
       "      <td>0;0;0;0;0</td>\n",
       "    </tr>\n",
       "    <tr>\n",
       "      <th>1</th>\n",
       "      <td>2</td>\n",
       "      <td>[13734012]</td>\n",
       "      <td>0</td>\n",
       "      <td>0;0;0</td>\n",
       "      <td>0;0;0;0;0</td>\n",
       "    </tr>\n",
       "    <tr>\n",
       "      <th>2</th>\n",
       "      <td>4</td>\n",
       "      <td>[22942787]</td>\n",
       "      <td>0</td>\n",
       "      <td>0;0;0</td>\n",
       "      <td>0;0;0;0;0</td>\n",
       "    </tr>\n",
       "    <tr>\n",
       "      <th>3</th>\n",
       "      <td>6</td>\n",
       "      <td>[2613775]</td>\n",
       "      <td>0</td>\n",
       "      <td>0;0;0</td>\n",
       "      <td>0;0;0;0;0</td>\n",
       "    </tr>\n",
       "    <tr>\n",
       "      <th>4</th>\n",
       "      <td>9</td>\n",
       "      <td>[44265107]</td>\n",
       "      <td>0</td>\n",
       "      <td>0;0;0</td>\n",
       "      <td>0;0;0;0;0</td>\n",
       "    </tr>\n",
       "  </tbody>\n",
       "</table>\n",
       "</div>"
      ],
      "text/plain": [
       "   id gold standard passage top_1  top_3      top_5\n",
       "0   0            [31715818]     0  0;0;0  0;0;0;0;0\n",
       "1   2            [13734012]     0  0;0;0  0;0;0;0;0\n",
       "2   4            [22942787]     0  0;0;0  0;0;0;0;0\n",
       "3   6             [2613775]     0  0;0;0  0;0;0;0;0\n",
       "4   9            [44265107]     0  0;0;0  0;0;0;0;0"
      ]
     },
     "execution_count": 105,
     "metadata": {},
     "output_type": "execute_result"
    }
   ],
   "source": [
    "def prepare_results_df(df, columns_to_drop, column_to_rename):\n",
    "\n",
    "    # On crée un nouveau dataframe à partir de df en supprimant les colonnes \"columns_to_drop\"\n",
    "    df_new = df.drop(columns=columns_to_drop).copy()\n",
    "    \n",
    "    # On renomme la colonne \"column_to_rename\" en \"gold standard passage\"\n",
    "    df_new = df_new.rename(columns={column_to_rename: 'gold standard passage'})\n",
    "    \n",
    "    # On ajoute les colonnes \"top_1\", \"top_3\", et \"top_5\" au dataframe\n",
    "    df_new['top_1'] = '0'\n",
    "    df_new['top_3'] = '0;0;0'\n",
    "    df_new['top_5'] = '0;0;0;0;0'\n",
    "    return df_new\n",
    "\n",
    "columns_to_drop = [column for column in df_claims if (column != 'cited_doc_ids' and column != 'id')]\n",
    "df_template = prepare_results_df(df_claims, columns_to_drop, 'cited_doc_ids')\n",
    "\n",
    "df_template.head(5)"
   ]
  },
  {
   "cell_type": "markdown",
   "metadata": {},
   "source": [
    "> Sortie attendue pour chaque dataframe préparé\n",
    "<div>\n",
    "<style scoped>\n",
    "    .dataframe tbody tr th:only-of-type {\n",
    "        vertical-align: middle;\n",
    "    }\n",
    "\n",
    "    .dataframe tbody tr th {\n",
    "        vertical-align: top;\n",
    "    }\n",
    "\n",
    "    .dataframe thead th {\n",
    "        text-align: right;\n",
    "    }\n",
    "</style>\n",
    "<table border=\"1\" class=\"dataframe\">\n",
    "  <thead>\n",
    "    <tr style=\"text-align: right;\">\n",
    "      <th></th>\n",
    "      <th>id</th>\n",
    "      <th>gold standard passage</th>\n",
    "      <th>top_1</th>\n",
    "      <th>top_3</th>\n",
    "      <th>top_5</th>\n",
    "    </tr>\n",
    "  </thead>\n",
    "  <tbody>\n",
    "    <tr>\n",
    "      <th>0</th>\n",
    "      <td>0</td>\n",
    "      <td>[31715818]</td>\n",
    "      <td>0</td>\n",
    "      <td>0;0;0</td>\n",
    "      <td>0;0;0;0;0</td>\n",
    "    </tr>\n",
    "    <tr>\n",
    "      <th>1</th>\n",
    "      <td>2</td>\n",
    "      <td>[13734012]</td>\n",
    "      <td>0</td>\n",
    "      <td>0;0;0</td>\n",
    "      <td>0;0;0;0;0</td>\n",
    "    </tr>\n",
    "    <tr>\n",
    "      <th>2</th>\n",
    "      <td>4</td>\n",
    "      <td>[22942787]</td>\n",
    "      <td>0</td>\n",
    "      <td>0;0;0</td>\n",
    "      <td>0;0;0;0;0</td>\n",
    "    </tr>\n",
    "  </tbody>\n",
    "</table>\n",
    "</div>"
   ]
  },
  {
   "cell_type": "markdown",
   "metadata": {},
   "source": [
    "##### 2.3.4 Implémentation de la fonction \"_fill_results_\" (2 points)\n",
    "\n",
    "Vous devez maintenant implémenter la fonction \"_fill_results_\" qui remplit les dataframes préparés dans l'étape précédente en utilisant les resultats de recherche de document.\n",
    "Cette fonction prend les arguments suivant: \n",
    "- \"_results_\" : matrice contenant les valeurs de similarite des affirmations et des documents\n",
    "- \"_results_texts_df_\" : Dataframe contenant les affirmations ainsi que les colonnes \"top_1\", \"top_3\", \"top_5\" où doivent être mis les top-n documents les plus pertinents.\n",
    "\n",
    "Les deux arguments contiennent le même nombre d'éléments et pour le même indice, font référence à la même affirmation."
   ]
  },
  {
   "cell_type": "code",
   "execution_count": 106,
   "metadata": {},
   "outputs": [],
   "source": [
    "#  On remplit le dataframe en utilisant les resultats de recherche de document\n",
    "def fill_results(results, results_texts_df):\n",
    "    for j in [1,3,5]:\n",
    "        results_texts_df[f'top_{j}'] = results[j]\n",
    "    return results_texts_df"
   ]
  },
  {
   "cell_type": "markdown",
   "metadata": {
    "id": "EqRUGA9D9xoI"
   },
   "source": [
    "##### 2.3.5 Exécution des fonctions \"_rank_texts_\" et fill_results(2 points)\n",
    "\n",
    "Exécutez maintenant votre fonction \"_rank_texts_\" sur toutes les affirmations (claims) et toutes les représentations de documents (title, abstract, text) en mettant les résultats dans les variables \"results_texts\", \"results_titles\" et \"results_abstracts\". Ensuite appelez la fonction \"_fill_results_\" qui remplit les dataframes \"_results_titles_df_\", \"_results_abstracts_df_\", et \"_results_texts_df_\" contenant les résultats de recheche de documents."
   ]
  },
  {
   "cell_type": "code",
   "execution_count": 107,
   "metadata": {},
   "outputs": [],
   "source": [
    "results_texts = {}\n",
    "results_titles = {}\n",
    "results_abstracts = {}\n",
    "\n",
    "for j in [1,3,5]:\n",
    "    results_titles[j] = [';'.join(map(str, rank)) for rank in rank_texts(similarity_titles, j)]\n",
    "    results_abstracts[j] = [';'.join(map(str, rank)) for rank in rank_texts(similarity_abstracts, j)]\n",
    "    results_texts[j] = [';'.join(map(str, rank)) for rank in rank_texts(similarity_texts, j)]\n",
    "\n",
    "    \n",
    "results_titles_df = fill_results(results_titles, df_template.copy())\n",
    "results_abstracts_df = fill_results(results_abstracts, df_template.copy())\n",
    "results_texts_df = fill_results(results_texts, df_template.copy())"
   ]
  },
  {
   "cell_type": "code",
   "execution_count": 108,
   "metadata": {},
   "outputs": [
    {
     "data": {
      "text/html": [
       "<div>\n",
       "<style scoped>\n",
       "    .dataframe tbody tr th:only-of-type {\n",
       "        vertical-align: middle;\n",
       "    }\n",
       "\n",
       "    .dataframe tbody tr th {\n",
       "        vertical-align: top;\n",
       "    }\n",
       "\n",
       "    .dataframe thead th {\n",
       "        text-align: right;\n",
       "    }\n",
       "</style>\n",
       "<table border=\"1\" class=\"dataframe\">\n",
       "  <thead>\n",
       "    <tr style=\"text-align: right;\">\n",
       "      <th></th>\n",
       "      <th>id</th>\n",
       "      <th>gold standard passage</th>\n",
       "      <th>top_1</th>\n",
       "      <th>top_3</th>\n",
       "      <th>top_5</th>\n",
       "    </tr>\n",
       "  </thead>\n",
       "  <tbody>\n",
       "    <tr>\n",
       "      <th>0</th>\n",
       "      <td>0</td>\n",
       "      <td>[31715818]</td>\n",
       "      <td>10608397</td>\n",
       "      <td>10608397;42421723;10607877</td>\n",
       "      <td>10608397;42421723;10607877;21257564;35008773</td>\n",
       "    </tr>\n",
       "    <tr>\n",
       "      <th>1</th>\n",
       "      <td>2</td>\n",
       "      <td>[13734012]</td>\n",
       "      <td>13734012</td>\n",
       "      <td>13734012;17333231;13770184</td>\n",
       "      <td>13734012;17333231;13770184;42240424;3716075</td>\n",
       "    </tr>\n",
       "    <tr>\n",
       "      <th>2</th>\n",
       "      <td>4</td>\n",
       "      <td>[22942787]</td>\n",
       "      <td>7165938</td>\n",
       "      <td>7165938;1387104;10958594</td>\n",
       "      <td>7165938;1387104;10958594;520579;52188256</td>\n",
       "    </tr>\n",
       "    <tr>\n",
       "      <th>3</th>\n",
       "      <td>6</td>\n",
       "      <td>[2613775]</td>\n",
       "      <td>23117378</td>\n",
       "      <td>23117378;2613775;21050357</td>\n",
       "      <td>23117378;2613775;21050357;20240998;35521287</td>\n",
       "    </tr>\n",
       "    <tr>\n",
       "      <th>4</th>\n",
       "      <td>9</td>\n",
       "      <td>[44265107]</td>\n",
       "      <td>44265107</td>\n",
       "      <td>44265107;24700152;14647747</td>\n",
       "      <td>44265107;24700152;14647747;26105746;32787042</td>\n",
       "    </tr>\n",
       "  </tbody>\n",
       "</table>\n",
       "</div>"
      ],
      "text/plain": [
       "   id gold standard passage     top_1                       top_3  \\\n",
       "0   0            [31715818]  10608397  10608397;42421723;10607877   \n",
       "1   2            [13734012]  13734012  13734012;17333231;13770184   \n",
       "2   4            [22942787]   7165938    7165938;1387104;10958594   \n",
       "3   6             [2613775]  23117378   23117378;2613775;21050357   \n",
       "4   9            [44265107]  44265107  44265107;24700152;14647747   \n",
       "\n",
       "                                          top_5  \n",
       "0  10608397;42421723;10607877;21257564;35008773  \n",
       "1   13734012;17333231;13770184;42240424;3716075  \n",
       "2      7165938;1387104;10958594;520579;52188256  \n",
       "3   23117378;2613775;21050357;20240998;35521287  \n",
       "4  44265107;24700152;14647747;26105746;32787042  "
      ]
     },
     "execution_count": 108,
     "metadata": {},
     "output_type": "execute_result"
    }
   ],
   "source": [
    "results_texts_df.head(5)"
   ]
  },
  {
   "cell_type": "markdown",
   "metadata": {},
   "source": [
    "##### 2.3.6 Enregistrement des dataframes \n",
    "\n",
    "On enregistre les dataframes dans des fichiers .csv."
   ]
  },
  {
   "cell_type": "code",
   "execution_count": 109,
   "metadata": {},
   "outputs": [],
   "source": [
    "results_texts_df.to_csv('results_texts_df.csv')\n",
    "results_titles_df.to_csv('results_titles_df.csv')\n",
    "results_abstracts_df.to_csv('results_abstracts_df.csv')"
   ]
  },
  {
   "cell_type": "markdown",
   "metadata": {
    "id": "4qWHRy8oZvOt"
   },
   "source": [
    "##### 2.3.7 Implémentation de la fonction \"_show_top_n_passages_\" (3 points)\n",
    "\n",
    "Vous devez maintenant implémenter une fonction \"_show_top_n_passages_\" qui affiche le top-n ainsi que le texte (document) attendu pour une affirmation donnée. Ici on considère que document est representé par \"_text_\" donc la fusion du titre (\"_title_\") et du résumé (\"_abstract_\")"
   ]
  },
  {
   "cell_type": "code",
   "execution_count": 110,
   "metadata": {
    "id": "-l9sKrgC-Sq7"
   },
   "outputs": [],
   "source": [
    "def show_top_n_passages(claim_id,top_n):\n",
    "    print(f'**** Documents Top{top_n} ****')\n",
    "    # On récupère les top_n 'doc_id' pour l'affirmation donnée     \n",
    "    top_n_passages_id = results_texts_df.loc[results_texts_df['id']==claim_id][f'top_{top_n}'].values[0].split(';')\n",
    "    result_top5 = {}\n",
    "    # On récupère le contenu correspondant au 'doc_id'\n",
    "    for top_n_id in top_n_passages_id:\n",
    "        result_top5[top_n_id] = df_corpus.loc[df_corpus['doc_id']==int(top_n_id), 'text'].values[0]\n",
    "    print(result_top5)\n",
    "    \n",
    "    print('**** Documents attendus ****')\n",
    "    result_expected = {}\n",
    "    # On récupère les 'doc_id' des documents attendus pour l'affirmation donnée \n",
    "    docs_expected_ids = results_texts_df[results_texts_df['id']==claim_id]['gold standard passage'].values[0]\n",
    "    for expected_id in docs_expected_ids:\n",
    "        result_expected[expected_id] = df_corpus.loc[df_corpus['doc_id']==expected_id, 'text'].values[0]\n",
    "    print(result_expected)"
   ]
  },
  {
   "cell_type": "markdown",
   "metadata": {},
   "source": [
    "##### 2.3.8 Affichage (1 point)\n",
    "\n",
    "Appliquez cette fonction sur l'affirmation ayant pour identifiant 211 et affichez le top-5 des documents les plus pertinents retrouvés."
   ]
  },
  {
   "cell_type": "code",
   "execution_count": 111,
   "metadata": {},
   "outputs": [
    {
     "data": {
      "text/html": [
       "<div>\n",
       "<style scoped>\n",
       "    .dataframe tbody tr th:only-of-type {\n",
       "        vertical-align: middle;\n",
       "    }\n",
       "\n",
       "    .dataframe tbody tr th {\n",
       "        vertical-align: top;\n",
       "    }\n",
       "\n",
       "    .dataframe thead th {\n",
       "        text-align: right;\n",
       "    }\n",
       "</style>\n",
       "<table border=\"1\" class=\"dataframe\">\n",
       "  <thead>\n",
       "    <tr style=\"text-align: right;\">\n",
       "      <th></th>\n",
       "      <th>id</th>\n",
       "      <th>gold standard passage</th>\n",
       "      <th>top_1</th>\n",
       "      <th>top_3</th>\n",
       "      <th>top_5</th>\n",
       "    </tr>\n",
       "  </thead>\n",
       "  <tbody>\n",
       "    <tr>\n",
       "      <th>125</th>\n",
       "      <td>211</td>\n",
       "      <td>[13794374]</td>\n",
       "      <td>14019636</td>\n",
       "      <td>14019636;44737533;6290112</td>\n",
       "      <td>14019636;44737533;6290112;20261352;5137019</td>\n",
       "    </tr>\n",
       "  </tbody>\n",
       "</table>\n",
       "</div>"
      ],
      "text/plain": [
       "      id gold standard passage     top_1                      top_3  \\\n",
       "125  211            [13794374]  14019636  14019636;44737533;6290112   \n",
       "\n",
       "                                          top_5  \n",
       "125  14019636;44737533;6290112;20261352;5137019  "
      ]
     },
     "execution_count": 111,
     "metadata": {},
     "output_type": "execute_result"
    }
   ],
   "source": [
    "results_texts_df.loc[results_texts_df['id']==211]"
   ]
  },
  {
   "cell_type": "code",
   "execution_count": 112,
   "metadata": {},
   "outputs": [
    {
     "name": "stdout",
     "output_type": "stream",
     "text": [
      "**** Documents Top5 ****\n",
      "{'14019636': 'Ribosomal DNA copy number loss and sequence variation in cancer Ribosomal DNA is one of the most variable regions in the human genome with respect to copy number. Despite the importance of rDNA for cellular function, we know virtually nothing about what governs its copy number, stability, and sequence in the mammalian genome due to challenges associated with mapping and analysis. We applied computational and droplet digital PCR approaches to measure rDNA copy number in normal and cancer states in human and mouse genomes. We find that copy number and sequence can change in cancer genomes. Counterintuitively, human cancer genomes show a loss of copies, accompanied by global copy number co-variation. The sequence can also be more variable in the cancer genome. Cancer genomes with lower copies have mutational evidence of mTOR hyperactivity. The PTEN phosphatase is a tumor suppressor that is critical for genome stability and a negative regulator of the mTOR kinase pathway. Surprisingly, but consistent with the human cancer genomes, hematopoietic cancer stem cells from a Pten-/- mouse model for leukemia have lower rDNA copy number than normal tissue, despite increased proliferation, rRNA production, and protein synthesis. Loss of copies occurs early and is associated with hypersensitivity to DNA damage. Therefore, copy loss is a recurrent feature in cancers associated with mTOR activation. Ribosomal DNA copy number may be a simple and useful indicator of whether a cancer will be sensitive to DNA damaging treatments.', '44737533': 'Simian immunodeficiency viruses replication dynamics in African non-human primate hosts: common patterns and species-specific differences. METHODS To define potential common features of simian immunodeficiency virus (SIV) infections in different naturally infected host species, we compared the dynamics of viral replication in 31 African green monkeys (10 sabeus, 15 vervets and seven Caribbean AGMs), 14 mandrills and three sooty mangabeys (SMs) that were experimentally infected with their species-specific viruses.   RESULTS After infection, these SIVs replicated rapidly reaching viral loads (VLs) of 10(5)-10(9) copies/ml of plasma between days 9-14 post-infection (p.i). Set point viremia was established between days 42 and 60 p.i., with levels of approximately 10(5)-10(6) copies/ml in SM and mandrills, and lower levels (10(3)-10(5) copies/ml) in AGMs. VL during the chronic phase did not correlate with viral genome structure: SIVmnd-2 (a vpx-containing virus) and SIVmnd-1 (which does not contain vpu or vpx) replicated to similar levels in mandrills. VL was dependent on virus strain: vervets infected with three different viral strains showed different patterns of viral replication. The pattern of viral replication of SIVagm.sab, which uses both CCR5 and CXCR4 co-receptors was similar to those of the other viruses.   CONCLUSIONS Our results show a common pattern of SIV replication in naturally and experimentally infected hosts. This is similar overall to that observed in pathogenic SIV infection of macaques. This result indicates that differences in clinical outcome between pathogenic and non-pathogenic infections rely on host responses rather than the characteristics of the virus itself.', '6290112': 'Low copy number of the salivary amylase gene predisposes to obesity Common multi-allelic copy number variants (CNVs) appear enriched for phenotypic associations compared to their biallelic counterparts. Here we investigated the influence of gene dosage effects on adiposity through a CNV association study of gene expression levels in adipose tissue. We identified significant association of a multi-allelic CNV encompassing the salivary amylase gene (AMY1) with body mass index (BMI) and obesity, and we replicated this finding in 6,200 subjects. Increased AMY1 copy number was positively associated with both amylase gene expression (P = 2.31 × 10(-14)) and serum enzyme levels (P < 2.20 × 10(-16)), whereas reduced AMY1 copy number was associated with increased BMI (change in BMI per estimated copy = -0.15 (0.02) kg/m(2); P = 6.93 × 10(-10)) and obesity risk (odds ratio (OR) per estimated copy = 1.19, 95% confidence interval (CI) = 1.13-1.26; P = 1.46 × 10(-10)). The OR value of 1.19 per copy of AMY1 translates into about an eightfold difference in risk of obesity between subjects in the top (copy number > 9) and bottom (copy number < 4) 10% of the copy number distribution. Our study provides a first genetic link between carbohydrate metabolism and BMI and demonstrates the power of integrated genomic approaches beyond genome-wide association studies.', '20261352': 'Decoupling activation and exhaustion of B cells in spontaneous controllers of HIV infection. OBJECTIVE To define the impact of chronic viremia and associated immune activation on B-cell exhaustion in HIV infection.   DESIGN Progressive HIV infection is marked by B-cell anergy and exhaustion coupled with dramatic hypergammaglobulinemia. Although both upregulation of CD95 and loss of CD21 have been used as markers of infection-associated B-cell dysfunction, little is known regarding the specific profiles of dysfunctional B cells and whether persistent viral replication and its associated immune activation play a central role in driving B-cell dysfunction.   METHODS Multiparameter flow cytometry was used to define the profile of dysfunctional B cells. The changes in the expression of CD21 and CD95 were tracked on B-cell subpopulations in patients with differential control of viral replication.   RESULTS : Although the emergence of exhausted, CD21 tissue-like memory B cells followed similar patterns in both progressors and controllers, the frequency of CD21 activated memory B cells was lower in spontaneous controllers.   CONCLUSION Our results suggest that the loss of CD21 and the upregulation of CD95 occur as separate events during the development of B-cell dysfunction. The loss of CD21 is a marker of B-cell exhaustion induced in the absence of appreciable viral replication, whereas the upregulation of CD95 is tightly linked to persistent viral replication and its associated immune activation. Thus, these dysfunctional profiles potentially represent two functionally distinct states within the B-cell compartment.', '5137019': 'Suppressor of cytokine signaling 3 inhibits antiviral IFN-beta signaling to enhance HIV-1 replication in macrophages. HIV-1 replication within macrophages of the CNS often results in cognitive and motor impairment, which is known as HIV-associated dementia (HAD) in its most severe form. IFN-beta suppresses viral replication within these cells during early CNS infection, but the effect is transient. HIV-1 eventually overcomes this protective innate immune response to resume replication through an unknown mechanism, initiating the progression toward HAD. In this article, we show that Suppressor of Cytokine Signaling (SOCS)3, a molecular inhibitor of IFN signaling, may allow HIV-1 to evade innate immunity within the CNS. We found that SOCS3 is elevated in an in vivo SIV/macaque model of HAD and that the pattern of expression correlates with recurrence of viral replication and onset of CNS disease. In vitro, the HIV-1 regulatory protein transactivator of transcription induces SOCS3 in human and murine macrophages in a NF-kappaB-dependent manner. SOCS3 expression attenuates the response of macrophages to IFN-beta at proximal levels of pathway activation and downstream antiviral gene expression and consequently overcomes the inhibitory effect of IFN-beta on HIV-1 replication. These studies indicate that SOCS3 expression, induced by stimuli present in the HIV-1-infected brain, such as transactivator of transcription, inhibits antiviral IFN-beta signaling to enhance HIV-1 replication in macrophages. This consequence of SOCS3 expression in vitro, supported by a correlation with increased viral load and onset of CNS disease in vivo, suggests that SOCS3 may allow HIV-1 to evade the protective innate immune response within the CNS, allowing the recurrence of viral replication and, ultimately, promoting progression toward HAD.'}\n",
      "**** Documents attendus ****\n",
      "{13794374: 'COPI Complex Is a Regulator of Lipid Homeostasis Lipid droplets are ubiquitous triglyceride and sterol ester storage organelles required for energy storage homeostasis and biosynthesis. Although little is known about lipid droplet formation and regulation, it is clear that members of the PAT (perilipin, adipocyte differentiation related protein, tail interacting protein of 47 kDa) protein family coat the droplet surface and mediate interactions with lipases that remobilize the stored lipids. We identified key Drosophila candidate genes for lipid droplet regulation by RNA interference (RNAi) screening with an image segmentation-based optical read-out system, and show that these regulatory functions are conserved in the mouse. Those include the vesicle-mediated Coat Protein Complex I (COPI) transport complex, which is required for limiting lipid storage. We found that COPI components regulate the PAT protein composition at the lipid droplet surface, and promote the association of adipocyte triglyceride lipase (ATGL) with the lipid droplet surface to mediate lipolysis. Two compounds known to inhibit COPI function, Exo1 and Brefeldin A, phenocopy COPI knockdowns. Furthermore, RNAi inhibition of ATGL and simultaneous drug treatment indicate that COPI and ATGL function in the same pathway. These data indicate that the COPI complex is an evolutionarily conserved regulator of lipid homeostasis, and highlight an interaction between vesicle transport systems and lipid droplets.'}\n"
     ]
    }
   ],
   "source": [
    "show_top_n_passages(211,5)"
   ]
  },
  {
   "cell_type": "markdown",
   "metadata": {},
   "source": [
    "##### 2.3.9 Évaluation (3 points)\n",
    "\n",
    "Vous devez maintenant implémenter la fonction \"_evaluate_\" qui, à partir des colonnes *Gold standard passage* et de vos top-N respectifs, calcule la précision top-N (N=1,3,5) sur l’ensemble de données en paramètre et l’affiche. \n",
    "\n",
    "Cette précision connue sous le nom \"precision at k (precision@k)\" se calcule de la manière suivante:\n",
    "\n",
    "\n",
    "$$\n",
    "\\text{precision@k} = \\frac{\\text{nombre d'éléments corrects}}{\\text{nombre total d'éléments k retrouvés}}\n",
    "$$\n",
    "\n",
    "\n",
    "Veillez à ce que la fonction soit générique. "
   ]
  },
  {
   "cell_type": "code",
   "execution_count": 113,
   "metadata": {},
   "outputs": [],
   "source": [
    "def evaluate(df, top_n):\n",
    "    # On combine les doc_id des documents attendus et ceux des top_n documents trouvés     \n",
    "    combine = df['gold standard passage'] + df[f'top_{top_n}'].apply(lambda x : x.split(';'))\n",
    "    # On calcule la différence de longueur entre la liste combinée et la set après avoir supprimé les doublons\n",
    "    # Ceci permet de trouver le nombre de documents en commun\n",
    "    nbr_correct = combine.apply(lambda x: len(x) - len(set([str(i) for i in x]))).sum()\n",
    "    nbr_total = top_n * len(df[f'top_{top_n}'])\n",
    "    return nbr_correct/nbr_total"
   ]
  },
  {
   "cell_type": "code",
   "execution_count": 114,
   "metadata": {},
   "outputs": [
    {
     "data": {
      "text/plain": [
       "0.22661722290894107"
      ]
     },
     "execution_count": 114,
     "metadata": {},
     "output_type": "execute_result"
    }
   ],
   "source": [
    "evaluate(results_texts_df, 3)"
   ]
  },
  {
   "cell_type": "markdown",
   "metadata": {},
   "source": [
    "##### 2.3.10 Affichage (1 point)\n",
    "\n",
    "Appliquez cette fonction pour calculer la précision des documents retrouvés en utilisant les titres (\"_title_\"), les résumés (\"_abstract_\") et la fusion des deux (\"_text_\")."
   ]
  },
  {
   "cell_type": "code",
   "execution_count": 115,
   "metadata": {},
   "outputs": [
    {
     "name": "stdout",
     "output_type": "stream",
     "text": [
      "Précision_titres :\n",
      "top_1 :  0.32138442521631644\n",
      "top_3 :  0.16522455706633704\n",
      "top_5 :  0.1107540173053152\n",
      "\n",
      "\n",
      "Précision_résumés :\n",
      "top_1 :  0.46600741656365885\n",
      "top_3 :  0.21714050267820353\n",
      "top_5 :  0.14511742892459828\n",
      "\n",
      "\n",
      "Précision_texts :\n",
      "top_1 :  0.48702101359703337\n",
      "top_3 :  0.22661722290894107\n",
      "top_5 :  0.1515451174289246\n"
     ]
    }
   ],
   "source": [
    "print('Précision_titres :')\n",
    "for j in [1, 3, 5]:\n",
    "    print(f'top_{j} : ', evaluate(results_titles_df, j))\n",
    "print('\\n')\n",
    "\n",
    "print('Précision_résumés :')\n",
    "for j in [1, 3, 5]:\n",
    "    print(f'top_{j} : ', evaluate(results_abstracts_df, j))\n",
    "print('\\n')\n",
    "\n",
    "print('Précision_texts :')\n",
    "for j in [1, 3, 5]:\n",
    "    print(f'top_{j} : ', evaluate(results_texts_df, j))"
   ]
  },
  {
   "cell_type": "markdown",
   "metadata": {},
   "source": [
    "##### 2.3.11 Graphique (2 points)\n",
    "\n",
    "Tracez un graphique des valeurs de précisions des documents retrouvés (\"__title__\", \"__abstract__\", \"__text__\") pour différents N (1,3,5)."
   ]
  },
  {
   "cell_type": "code",
   "execution_count": 116,
   "metadata": {},
   "outputs": [
    {
     "data": {
      "image/png": "[encoded data removed]",
      "text/plain": [
       "<Figure size 1000x500 with 1 Axes>"
      ]
     },
     "metadata": {},
     "output_type": "display_data"
    }
   ],
   "source": [
    "# On calcule les précisions pour chacune des trois représentations\n",
    "precisions_tf_idf = {\n",
    "    'title': [evaluate(results_titles_df, j) for j in [1, 3, 5]],\n",
    "    'abstract': [evaluate(results_abstracts_df, j) for j in [1, 3, 5]],\n",
    "    'text': [evaluate(results_texts_df, j) for j in [1, 3, 5]]\n",
    "}\n",
    "\n",
    "n_values = [1, 3, 5]\n",
    "doc_types = ['title', 'abstract', 'text']\n",
    "\n",
    "fig, ax = plt.subplots(figsize=(10, 5))\n",
    "\n",
    "width = 0.25\n",
    "bar_positions = {\n",
    "    'title': [i - width for i in n_values],\n",
    "    'abstract': n_values,\n",
    "    'text': [i + width for i in n_values]\n",
    "}\n",
    "\n",
    "for doc_type in doc_types:\n",
    "    ax.bar(bar_positions[doc_type], precisions_tf_idf[doc_type], width=width, label=doc_type)\n",
    "\n",
    "ax.set_ylabel('Précision')\n",
    "ax.set_title('Précision des documents retrouvés pour différents N')\n",
    "ax.set_xticks(n_values)\n",
    "ax.set_xticklabels(['Top_1', 'Top_3', 'Top_5'])\n",
    "ax.legend()\n",
    "ax.grid(True, axis='y', linestyle='--', color='gray', alpha=0.5)\n",
    "\n",
    "plt.show()"
   ]
  },
  {
   "cell_type": "markdown",
   "metadata": {
    "id": "vI_2JXRxAygz"
   },
   "source": [
    "### 3 Amélioration avec BM25 (20 points)"
   ]
  },
  {
   "cell_type": "markdown",
   "metadata": {},
   "source": [
    "BM25 (Best Matching 25) est un algorithme de recherche utilisé pour évaluer la pertinence des documents par rapport à une requête. Basé sur le modèle de récupération d'informations probabilistes, BM25 calcule un score de pertinence en tenant compte de la fréquence des termes de la requête dans chaque document et dans le corpus global mais aussi de la longueur des documents. \n",
    "\n",
    "BM25 est pertinent pour la recherche d'information car il offre un bon équilibre entre précision et rappel, il gère efficacement de grandes collections de documents et permet des ajustements pour différents types de corpus. Il est largement utilisé dans les moteurs de recherche et les systèmes de recommandation.\n",
    "\n",
    "Dans cette partie on vous demande de la tester au moyen de la librairie rank_bm25 pour cette tâche de recherche de texte qui justifie ou contredit une affirmation donnée. Vous allez utiliser le corpus et les affirmations et procéder comme indiqué dans la suite."
   ]
  },
  {
   "cell_type": "markdown",
   "metadata": {},
   "source": [
    "##### 3.1 Initialisation du modèle BM25 (3 points)\n",
    "Réutilisez les variables \"claims_preprocessed_joined\", \"texts_preprocessed_joined\", \"titles_preprocessed_joined\" et \"abstract_preprocessed_joined\" définies à la question `2.2.1` pour initialiser les modèles BM25 pour les documents (\"__titles__\", \"__abstracts__\" et \"__text__\"). Il faudra transformer chaque séquence (dont les jetons étaient joints pour former une seule chaîne) en une liste de jetons. Vous utiliserez la classe \"_BM250kapi_\" à ce niveau. "
   ]
  },
  {
   "cell_type": "code",
   "execution_count": 117,
   "metadata": {},
   "outputs": [],
   "source": [
    "# On initialise les modèles BM25 pour les représentations des documents\n",
    "titles_bm25 = BM25Okapi([title.split(\" \") for title in titles_preprocessed_joined])\n",
    "abstracts_bm25 = BM25Okapi([abstract.split(\" \") for abstract in abstracts_preprocessed_joined])\n",
    "texts_bm25 = BM25Okapi([text.split(\" \") for text in texts_preprocessed_joined])\n",
    "\n",
    "claims_query = [claim.split(\" \") for claim in claims_preprocessed_joined]"
   ]
  },
  {
   "cell_type": "markdown",
   "metadata": {},
   "source": [
    "##### 3.2 Utilisation du modèle BM25 (5 points)\n",
    "\n",
    "Retrouvez les identifiants des documents pour les cinq meilleures correspondances de \"_title_\", de \"_abstract_\" et de \"_text_\" en utilisant le score BM25 pour chaque affirmation (claim) traitée, et mettez à jour les résultats avec les identifiants de documents correspondants."
   ]
  },
  {
   "cell_type": "code",
   "execution_count": 118,
   "metadata": {},
   "outputs": [
    {
     "data": {
      "text/html": [
       "<div>\n",
       "<style scoped>\n",
       "    .dataframe tbody tr th:only-of-type {\n",
       "        vertical-align: middle;\n",
       "    }\n",
       "\n",
       "    .dataframe tbody tr th {\n",
       "        vertical-align: top;\n",
       "    }\n",
       "\n",
       "    .dataframe thead th {\n",
       "        text-align: right;\n",
       "    }\n",
       "</style>\n",
       "<table border=\"1\" class=\"dataframe\">\n",
       "  <thead>\n",
       "    <tr style=\"text-align: right;\">\n",
       "      <th></th>\n",
       "      <th>id</th>\n",
       "      <th>gold standard passage</th>\n",
       "      <th>top_5_titles</th>\n",
       "      <th>top_5_abstracts</th>\n",
       "      <th>top_5_texts</th>\n",
       "    </tr>\n",
       "  </thead>\n",
       "  <tbody>\n",
       "    <tr>\n",
       "      <th>0</th>\n",
       "      <td>0</td>\n",
       "      <td>[31715818]</td>\n",
       "      <td>16532419;25602549;42421723;14831629;34935825</td>\n",
       "      <td>26071782;21257564;825728;28138927;26731863</td>\n",
       "      <td>26071782;21257564;18953920;26731863;825728</td>\n",
       "    </tr>\n",
       "    <tr>\n",
       "      <th>1</th>\n",
       "      <td>2</td>\n",
       "      <td>[13734012]</td>\n",
       "      <td>32481310;4828631;103007;1583134;3870062</td>\n",
       "      <td>13734012;18617259;42240424;17333231;21616324</td>\n",
       "      <td>13734012;18617259;4828631;42240424;17333231</td>\n",
       "    </tr>\n",
       "    <tr>\n",
       "      <th>2</th>\n",
       "      <td>4</td>\n",
       "      <td>[22942787]</td>\n",
       "      <td>24980622;10958594;39903312;31616203;12074066</td>\n",
       "      <td>1387104;24980622;10958594;5641851;13030852</td>\n",
       "      <td>10958594;24980622;1387104;5641851;13030852</td>\n",
       "    </tr>\n",
       "    <tr>\n",
       "      <th>3</th>\n",
       "      <td>6</td>\n",
       "      <td>[2613775]</td>\n",
       "      <td>2613775;23117378;21050357;7711685;39381118</td>\n",
       "      <td>23117378;2613775;20240998;35521287;21050357</td>\n",
       "      <td>23117378;2613775;35521287;20240998;21050357</td>\n",
       "    </tr>\n",
       "    <tr>\n",
       "      <th>4</th>\n",
       "      <td>9</td>\n",
       "      <td>[44265107]</td>\n",
       "      <td>44265107;24700152;9056874;8190282;14647747</td>\n",
       "      <td>44265107;25182647;24700152;21186109;16737210</td>\n",
       "      <td>44265107;25182647;24700152;21186109;14647747</td>\n",
       "    </tr>\n",
       "  </tbody>\n",
       "</table>\n",
       "</div>"
      ],
      "text/plain": [
       "   id gold standard passage                                  top_5_titles  \\\n",
       "0   0            [31715818]  16532419;25602549;42421723;14831629;34935825   \n",
       "1   2            [13734012]       32481310;4828631;103007;1583134;3870062   \n",
       "2   4            [22942787]  24980622;10958594;39903312;31616203;12074066   \n",
       "3   6             [2613775]    2613775;23117378;21050357;7711685;39381118   \n",
       "4   9            [44265107]    44265107;24700152;9056874;8190282;14647747   \n",
       "\n",
       "                                top_5_abstracts  \\\n",
       "0    26071782;21257564;825728;28138927;26731863   \n",
       "1  13734012;18617259;42240424;17333231;21616324   \n",
       "2    1387104;24980622;10958594;5641851;13030852   \n",
       "3   23117378;2613775;20240998;35521287;21050357   \n",
       "4  44265107;25182647;24700152;21186109;16737210   \n",
       "\n",
       "                                    top_5_texts  \n",
       "0    26071782;21257564;18953920;26731863;825728  \n",
       "1   13734012;18617259;4828631;42240424;17333231  \n",
       "2    10958594;24980622;1387104;5641851;13030852  \n",
       "3   23117378;2613775;35521287;20240998;21050357  \n",
       "4  44265107;25182647;24700152;21186109;14647747  "
      ]
     },
     "execution_count": 118,
     "metadata": {},
     "output_type": "execute_result"
    }
   ],
   "source": [
    "dict_titles = {}\n",
    "dict_abstracts = {}\n",
    "dict_texts = {}\n",
    "\n",
    "# On récupère les top_n documents pour chaque affirmation\n",
    "for idx, claim in enumerate(claims_query):\n",
    "    dict_titles[idx] = titles_bm25.get_top_n(claim, titles_preprocessed_joined, n=5)\n",
    "    dict_abstracts[idx] = abstracts_bm25.get_top_n(claim, abstracts_preprocessed_joined, n=5)\n",
    "    dict_texts[idx] = texts_bm25.get_top_n(claim, texts_preprocessed_joined, n=5)\n",
    "\n",
    "# On récupère les doc_id pour les documents récupérés\n",
    "def find_top_n_docs(dict_doc, doc_preprocessed_joined,top_n):\n",
    "    for i in dict_doc:\n",
    "        doc = [d for d in dict_doc[i]]\n",
    "        matching_rows = []\n",
    "        for j in range(top_n):\n",
    "            matching_rows.append(df_corpus.iloc[doc_preprocessed_joined.index(doc[j])]['doc_id'])\n",
    "        dict_doc[i] = matching_rows\n",
    "    return dict_doc\n",
    "\n",
    "find_top_n_docs(dict_titles, titles_preprocessed_joined,5)\n",
    "find_top_n_docs(dict_abstracts, abstracts_preprocessed_joined,5)\n",
    "find_top_n_docs(dict_texts, texts_preprocessed_joined,5)\n",
    "\n",
    "df_top5_bm25 = df_template.copy()\n",
    "df_top5_bm25 = df_top5_bm25.drop(columns=['top_1','top_3','top_5'])\n",
    "\n",
    "df_top5_bm25['top_5_titles'] = [';'.join(map(str, values)) for values in dict_titles.values()]\n",
    "df_top5_bm25['top_5_abstracts'] = [';'.join(map(str, values)) for values in dict_abstracts.values()]\n",
    "df_top5_bm25['top_5_texts'] = [';'.join(map(str, values)) for values in dict_texts.values()]\n",
    "\n",
    "df_top5_bm25.head(5)"
   ]
  },
  {
   "cell_type": "markdown",
   "metadata": {},
   "source": [
    "##### 3.3 Affichage des performances (4 points)\n",
    "\n",
    "Affichez les résultats des performances BM25 pour les configurations Top1, Top3 et Top5 avec \"_title_\", \"_asbtract_\" et \"_text_\"."
   ]
  },
  {
   "cell_type": "code",
   "execution_count": 119,
   "metadata": {},
   "outputs": [
    {
     "data": {
      "text/html": [
       "<div>\n",
       "<style scoped>\n",
       "    .dataframe tbody tr th:only-of-type {\n",
       "        vertical-align: middle;\n",
       "    }\n",
       "\n",
       "    .dataframe tbody tr th {\n",
       "        vertical-align: top;\n",
       "    }\n",
       "\n",
       "    .dataframe thead th {\n",
       "        text-align: right;\n",
       "    }\n",
       "</style>\n",
       "<table border=\"1\" class=\"dataframe\">\n",
       "  <thead>\n",
       "    <tr style=\"text-align: right;\">\n",
       "      <th></th>\n",
       "      <th>id</th>\n",
       "      <th>gold standard passage</th>\n",
       "      <th>top_1</th>\n",
       "      <th>top_3</th>\n",
       "      <th>top_5</th>\n",
       "    </tr>\n",
       "  </thead>\n",
       "  <tbody>\n",
       "    <tr>\n",
       "      <th>0</th>\n",
       "      <td>0</td>\n",
       "      <td>[31715818]</td>\n",
       "      <td>26071782</td>\n",
       "      <td>26071782;21257564;18953920</td>\n",
       "      <td>26071782;21257564;18953920;26731863;825728</td>\n",
       "    </tr>\n",
       "    <tr>\n",
       "      <th>1</th>\n",
       "      <td>2</td>\n",
       "      <td>[13734012]</td>\n",
       "      <td>13734012</td>\n",
       "      <td>13734012;18617259;4828631</td>\n",
       "      <td>13734012;18617259;4828631;42240424;17333231</td>\n",
       "    </tr>\n",
       "    <tr>\n",
       "      <th>2</th>\n",
       "      <td>4</td>\n",
       "      <td>[22942787]</td>\n",
       "      <td>10958594</td>\n",
       "      <td>10958594;24980622;1387104</td>\n",
       "      <td>10958594;24980622;1387104;5641851;13030852</td>\n",
       "    </tr>\n",
       "    <tr>\n",
       "      <th>3</th>\n",
       "      <td>6</td>\n",
       "      <td>[2613775]</td>\n",
       "      <td>23117378</td>\n",
       "      <td>23117378;2613775;35521287</td>\n",
       "      <td>23117378;2613775;35521287;20240998;21050357</td>\n",
       "    </tr>\n",
       "    <tr>\n",
       "      <th>4</th>\n",
       "      <td>9</td>\n",
       "      <td>[44265107]</td>\n",
       "      <td>44265107</td>\n",
       "      <td>44265107;25182647;24700152</td>\n",
       "      <td>44265107;25182647;24700152;21186109;14647747</td>\n",
       "    </tr>\n",
       "  </tbody>\n",
       "</table>\n",
       "</div>"
      ],
      "text/plain": [
       "   id gold standard passage     top_1                       top_3  \\\n",
       "0   0            [31715818]  26071782  26071782;21257564;18953920   \n",
       "1   2            [13734012]  13734012   13734012;18617259;4828631   \n",
       "2   4            [22942787]  10958594   10958594;24980622;1387104   \n",
       "3   6             [2613775]  23117378   23117378;2613775;35521287   \n",
       "4   9            [44265107]  44265107  44265107;25182647;24700152   \n",
       "\n",
       "                                          top_5  \n",
       "0    26071782;21257564;18953920;26731863;825728  \n",
       "1   13734012;18617259;4828631;42240424;17333231  \n",
       "2    10958594;24980622;1387104;5641851;13030852  \n",
       "3   23117378;2613775;35521287;20240998;21050357  \n",
       "4  44265107;25182647;24700152;21186109;14647747  "
      ]
     },
     "execution_count": 119,
     "metadata": {},
     "output_type": "execute_result"
    }
   ],
   "source": [
    "df_bm25_titles = df_template.copy()\n",
    "df_bm25_abstracts = df_template.copy()\n",
    "df_bm25_texts = df_template.copy()\n",
    "\n",
    "for j in [1,3,5]:\n",
    "    df_bm25_titles[f'top_{j}'] = [';'.join(map(str, values[:j])) for values in dict_titles.values()]\n",
    "    df_bm25_abstracts[f'top_{j}'] = [';'.join(map(str, values[:j])) for values in dict_abstracts.values()]\n",
    "    df_bm25_texts[f'top_{j}'] = [';'.join(map(str, values[:j])) for values in dict_texts.values()]\n",
    "\n",
    "df_bm25_texts.head(5)"
   ]
  },
  {
   "cell_type": "markdown",
   "metadata": {},
   "source": [
    "##### 3.4 Graphique (4 points)\n",
    "\n",
    "Dans un même graphique, affichez les performances pour les deux modèles (TF-IDF et BM25) dans la recherche des documents (text, title et abstract) pour les affirmations."
   ]
  },
  {
   "cell_type": "code",
   "execution_count": 120,
   "metadata": {},
   "outputs": [
    {
     "data": {
      "text/plain": [
       "{'title': [0.32509270704573545, 0.14709517923362175, 0.09913473423980222],\n",
       " 'abstract': [0.553770086526576, 0.23444581788215904, 0.15673671199011124],\n",
       " 'text': [0.5673671199011124, 0.23939019365471775, 0.15822002472187885]}"
      ]
     },
     "execution_count": 120,
     "metadata": {},
     "output_type": "execute_result"
    }
   ],
   "source": [
    "# On calcule les précisions en utilisant le modèle BM25\n",
    "precisions_bm25 = {\n",
    "    'title': [evaluate(df_bm25_titles, j) for j in [1, 3, 5]],\n",
    "    'abstract': [evaluate(df_bm25_abstracts, j) for j in [1, 3, 5]],\n",
    "    'text': [evaluate(df_bm25_texts, j) for j in [1, 3, 5]]\n",
    "}\n",
    "\n",
    "precisions_bm25"
   ]
  },
  {
   "cell_type": "code",
   "execution_count": 121,
   "metadata": {},
   "outputs": [
    {
     "data": {
      "image/png": "[encoded data removed]",
      "text/plain": [
       "<Figure size 800x500 with 1 Axes>"
      ]
     },
     "metadata": {},
     "output_type": "display_data"
    }
   ],
   "source": [
    "categories = ['text', 'title', 'abstract']\n",
    "top_n = [1, 3, 5]\n",
    "colors = ['blue', 'green', 'orange']\n",
    "fig, ax = plt.subplots(figsize=(8, 5))\n",
    "\n",
    "\n",
    "for category, color in zip(categories, colors):\n",
    "    ax.plot(top_n, precisions_tf_idf[category], marker='.', color=color, linestyle='-', label=f'TF-IDF {category.capitalize()}')\n",
    "\n",
    "\n",
    "for category, color in zip(categories, colors):\n",
    "    ax.plot(top_n, precisions_bm25[category], marker='x', color=color, linestyle=':', label=f'BM25 {category.capitalize()}')\n",
    "\n",
    "\n",
    "ax.set_ylabel('Précision')\n",
    "ax.set_title('Comparaison des performances TF-IDF et BM25')\n",
    "ax.set_xticks(top_n)\n",
    "ax.set_xticklabels(['Top1', 'Top3', 'Top5'])\n",
    "ax.legend(loc='best')\n",
    "ax.grid(True, axis='y', linestyle='--', color='gray', alpha=0.5)\n",
    "\n",
    "plt.tight_layout()\n",
    "plt.show()"
   ]
  },
  {
   "cell_type": "markdown",
   "metadata": {},
   "source": [
    "##### 3.5 Observation (4 points)\n",
    "\n",
    "Par rapport à vos résultats avec TF-IDF, observez-vous une amélioration ou une détérioration des performances, qu'est ce qui explique cela ? (Donnez au moins trois justifications)"
   ]
  },
  {
   "cell_type": "markdown",
   "metadata": {},
   "source": [
    "Pour les précisions des résumés et textes, on observe une amélioration importante pour les trois cas (top_1, top_3 et top_5). On a par exemple une augmentation d’à peu près 0.1 pour le top_1 des résumés.\n",
    "Pour les précisions des titres, on remarque une augmentation légère pour le top_1, mais une détérioration plus prononcée pour les top 3 et 5.\n",
    "\n",
    "La métrique BM25 règle les problèmes de TF-IDF, notamment : \n",
    "\n",
    "- Le biais lié à la fréquence d'un terme : Cet ajustement permet une évaluation plus raffinée de l’importance des termes dans les documents. La longueur des textes et résumés varie énormément (selon les histogrammes, elle varie entre 50 et plus de 750 termes). TF-IDF va donc favoriser les documents plus longs en raison de leur fréquence de termes. BM-25 va corriger ce biais en favorisant plutôt les documents contenant des termes de la requête (une affirmation dans notre cas) plutôt que de se baser sur la longueur uniquement. \n",
    "\n",
    "- La non-considération de la longueur des documents : En prenant en compte la longueur du document, BM25 peut fournir des scores de pertinence plus précis, en particulier pour les documents plus longs. C'est le cas pour les résumés et textes qui contiennent des documents relativement longs. Et c'est la raison pour laquelle les précisions fournies par BM-25 sont meilleures dans les 3 top_n. \n",
    "\n",
    "- BM25 comprend des paramètres (k et b) qui permettent d'optimiser la fonction de score en fonction des caractéristiques du corpus. Cela rend BM25 plus flexible et capable de s'adapter à différents types de documents, offrant ainsi des performances généralement supérieures par rapport à TF-IDF.\n",
    "\n",
    "Pour les titres, puisqu'ils sont relativement courts (Si on se réfère aux histogrammes précédents, le nombre de terme maximal dans un titre dépasse légèrement 30 termes), donc il n'existe pas une différence flagrante entre les résultats de BM25 et TF-IDF (La détérioration dans BM-25 n'est pas aussi importante que les amélioration). La fréquence d'un terme est moins susceptible de varier dans les documents courts, et l'impact du paramètre b dans BM25 est réduit (par exemple, pour le top N document retrouvé en utilisant les titres)."
   ]
  },
  {
   "cell_type": "markdown",
   "metadata": {
    "id": "DVYiuH8aeB8x"
   },
   "source": [
    "## Livrables\n",
    "Vous devez remettre votre notebook sur Moodle et Gradescope en ipynb et pdf. Pour Gradescope vous devez associer les numéros de questions avec vos réponses dans le pdf grâce à l'outil que fournit Gradescope.\n",
    "\n",
    "\n",
    "## Évaluation \n",
    "Votre TP sera évalué selon les critères suivants :\n",
    "1. Exécution correcte du code et obtention des sorties attendues\n",
    "2. Réponses correctes aux questions d'analyse\n",
    "3. Qualité du code (noms significatifs, structure, performance, gestion d’exception, etc.)\n",
    "4. Commentaires clairs et informatifs\n"
   ]
  }
 ],
 "metadata": {
  "colab": {
   "collapsed_sections": [
    "1tMX8go24rB_",
    "4ItqD8yL-utW",
    "0kzLIzqD-vp7",
    "VIRjMFlY-wHL",
    "R41oj9nI-wwi",
    "3FibZKYkHi06"
   ],
   "name": "TP2 solution.ipynb",
   "provenance": []
  },
  "kernelspec": {
   "display_name": "Python 3 (ipykernel)",
   "language": "python",
   "name": "python3"
  },
  "language_info": {
   "codemirror_mode": {
    "name": "ipython",
    "version": 3
   },
   "file_extension": ".py",
   "mimetype": "text/x-python",
   "name": "python",
   "nbconvert_exporter": "python",
   "pygments_lexer": "ipython3",
   "version": "3.11.5"
  }
 },
 "nbformat": 4,
 "nbformat_minor": 1
}

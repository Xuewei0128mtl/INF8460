{
 "cells": [
  {
   "cell_type": "markdown",
   "metadata": {
    "id": "znlt8jyJKg-5"
   },
   "source": [
    "##### INF8460 – Traitement automatique de la langue naturelle - Automne 2024\n",
    "### TP1 - Recherche de documents avec une métrique de similarité\n"
   ]
  },
  {
   "cell_type": "markdown",
   "metadata": {},
   "source": [
    "## Identification de l'équipe:\n",
    "\n",
    "### Groupe de laboratoire:\n",
    "\n",
    "### Equipe numéro :\n",
    "\n",
    "### Membres:\n",
    "\n",
    "- membre 1 (% de contribution, nature de la contribution)\n",
    "- membre 2 (% de contribution, nature de la contribution)\n",
    "- membre 3 (% de contribution, nature de la contribution)\n",
    "\n",
    "* nature de la contribution: Décrivez brièvement ce qui a été fait par chaque membre de l’équipe. Tous les membres sont censés contribuer au développement. Bien que chaque membre puisse effectuer différentes tâches, vous devez vous efforcer d’obtenir une répartition égale du travail. Soyez précis ! N'indiquez pas seulement : travail réparti équitablement"
   ]
  },
  {
   "cell_type": "markdown",
   "metadata": {},
   "source": [
    "## Mise en place"
   ]
  },
  {
   "cell_type": "markdown",
   "metadata": {},
   "source": [
    "### Objectif du TP\n",
    "\n",
    "La recherche d'information est le processus d'accès aux données, généralement des documents ou d'autres données non structurées, à partir d'une requête. Dans ce TP, vous aurez en entrée une requête textuelle sous forme d'affirmation. Il faudra retrouver dans un corpus de littérature scientifique les documents pertinents qui justifient ou infirment la véracité de cette affirmation. Vous utiliserez des modèles vectoriels et des métriques de similarité pour cette tâche."
   ]
  },
  {
   "cell_type": "markdown",
   "metadata": {},
   "source": [
    "### Jeux de données\n",
    "\n",
    "Dans ce TP, vous utiliserez le jeu de données dans le répertoire _data_. Il s'agit d'un ensemble de données comprenant 809 affirmations rédigées par des experts et 5183 documents de références pour ces affirmations. Ces documents contiennent des phrases qui confirment ou infirment (contredisent) les affirmations. L'objectif est donc de trouver un document pertinent, c'est-à-dire contenant la ou les phrases qui permettent d'évaluer une affirmation donnée en entrée en utilisant une similarité sémantique. \n",
    "\n",
    "Le jeu de données comprend :\n",
    "\n",
    "1. Un corpus (_corpus.jsonl_) qui contient des documents décrits avec les informations suivantes :\n",
    "    - 'doc_id' : permet d'identifier le document en entrée\n",
    "    - 'title' : donne le titre du document\n",
    "    - 'abstract': est le résumé du document\n",
    "    - 'structured': indique si le document est structuré ou pas\n",
    "\n",
    "2. Un ensemble d'affirmations (_claims.jsonl_) qui contient des documents décrits avec les informations suivantes :\n",
    "    - 'id' : identifie l'affirmation.\n",
    "    - 'claim' : est l'affirmation en tant que telle.\n",
    "    - 'evidence' : précise quelles phrases du document sont pertinentes pour l'affirmation. Chaque phrase est accompagnée d'une étiquette de véracité (confirm/contradict) pour indiquer si la phrase confirme ou contredit l'affirmation.  \n",
    "    - 'cited_doc_ids' : indique les identifiants des documents cités.\n",
    "\n",
    "\n",
    "\n",
    "Dans _claims.jsonl_, seuls les identifiants des documents sont renseignés. Pour avoir les détails d'un document tel que le titre (\"title\") et le résumé (\"abstract\"), il faudra consulter le fichier _corpus.jsonl_. \n",
    "\n",
    "Voici un exemple :\n",
    "\n",
    "- **Affirmation (claim)** : Consumption of whole fruits increases the risk of type 2 diabetes.\n",
    "- **Cited document(s) ID(s)** : 1974176\n",
    "- **Evidence (sentence in the document containing the proof)** : [{'sentences': [11], 'label': 'CONTRADICT'}]\n",
    "\n",
    "  Ici [11] constitue le numéro de la phrase qui contredit l'affirmation.\n",
    "\n",
    "- **Cited document(s) title(s)** : Fruit consumption and risk of type 2 diabetes: results from three prospective longitudinal cohort studies\n",
    "- **Cited document(s) abstract(s) (list of sentences)** : \n",
    "    - [0] 'OBJECTIVE To determine whether individual fruits are differentially associated with risk of type 2 diabetes.\\n'\n",
    "    - [1] 'DESIGN Prospective longitudinal cohort study.'\n",
    "    - ...\n",
    "    - [10] 'CONCLUSION Our findings suggest the presence of heterogeneity in the associations between individual fruit consumption and risk of type 2 diabetes.'\n",
    "    - [11] 'Greater consumption of specific whole fruits, particularly blueberries, grapes, and apples, is significantly associated with a lower risk of type 2 diabetes, whereas greater consumption of fruit juice is associated with a higher risk.'\n",
    "\n",
    "Le champ \"evidence\" indique la phrase au niveau du résumé du document qui confirme ou infirme l'affirmation, d'où le numéro de la phrase et le label qui y sont renseignés. Dans le cas particulier de l'exemple ci-dessus, on voit bien que la onzième phrase du résumé du document est la plus pertinente pour l'affirmation et qu'elle la contredit, ce qui explique le label \"CONTRADICT\" dans \"evidence\". Cependant, dans le cadre de ce TP, on ne s'intéresse qu'à la présence de cette phrase pertinente dans le document, donc on ne considérera pas cette colonne \"evidence\" dans la suite du TP."
   ]
  },
  {
   "cell_type": "markdown",
   "metadata": {
    "id": "26Qe_-7z25EE"
   },
   "source": [
    "### Librairies permises\n",
    "- Jupyter notebook\n",
    "- NLTK\n",
    "- Numpy \n",
    "- Pandas\n",
    "- Sklearn\n",
    "- PowerLaw\n",
    "- Matplotlib\n",
    "- TQDM\n",
    "- BM25\n",
    "- Pour toute autre librairie, demandez à votre chargé de laboratoire"
   ]
  },
  {
   "cell_type": "markdown",
   "metadata": {
    "id": "zupXN9tr3oEa"
   },
   "source": [
    "## Étapes du TP\n",
    "A partir du notebook _INF8460_A24_TP1_ qui est distribué, vous devez réaliser les étapes suivantes. (Notez que les cellules dans le squelette sont là à titre informatif - il est fort probable que vous rajoutiez des sections au fur et à mesure de votre TP)."
   ]
  },
  {
   "cell_type": "code",
   "execution_count": 2,
   "metadata": {},
   "outputs": [],
   "source": [
    "# Lien vers les fichiers à utiliser\n",
    "# Ne pas modifier\n",
    "\n",
    "PATH = 'data/ai2_data/'"
   ]
  },
  {
   "cell_type": "code",
   "execution_count": 3,
   "metadata": {},
   "outputs": [],
   "source": [
    "# !pip install rank_bm25 \n",
    "# !pip install powerlaw"
   ]
  },
  {
   "cell_type": "code",
   "execution_count": 4,
   "metadata": {},
   "outputs": [],
   "source": [
    "# Import des librairies\n",
    "\n",
    "import numpy as np\n",
    "import pandas as pd\n",
    "import powerlaw\n",
    "from collections import defaultdict, Counter\n",
    "from tqdm import tqdm\n",
    "import matplotlib.pyplot as plt\n",
    "from typing import List, Dict\n",
    "\n",
    "import nltk\n",
    "from nltk.tokenize import word_tokenize\n",
    "from nltk.stem.porter import PorterStemmer\n",
    "from nltk.corpus import stopwords\n",
    "from string import punctuation\n",
    "\n",
    "import sklearn\n",
    "from sklearn.feature_extraction.text import TfidfVectorizer\n",
    "from sklearn.metrics.pairwise import cosine_similarity\n",
    "\n",
    "from rank_bm25 import BM25Okapi"
   ]
  },
  {
   "cell_type": "code",
   "execution_count": 5,
   "metadata": {},
   "outputs": [
    {
     "name": "stderr",
     "output_type": "stream",
     "text": [
      "[nltk_data] Downloading package punkt to\n",
      "[nltk_data]     /Users/gayamehenni/nltk_data...\n",
      "[nltk_data]   Package punkt is already up-to-date!\n",
      "[nltk_data] Downloading package stopwords to\n",
      "[nltk_data]     /Users/gayamehenni/nltk_data...\n",
      "[nltk_data]   Package stopwords is already up-to-date!\n"
     ]
    }
   ],
   "source": [
    "nltk.download('punkt')\n",
    "nltk.download('stopwords')\n",
    "stop_words = stopwords.words('english')"
   ]
  },
  {
   "cell_type": "markdown",
   "metadata": {},
   "source": [
    "### 1. Traitement des données (15 points)\n",
    "Vous allez effectuer une analyse afin d'avoir une idée claire des données que vous aurez à manipuler."
   ]
  },
  {
   "cell_type": "markdown",
   "metadata": {},
   "source": [
    "#### 1.1 Chargement des données (2 points)"
   ]
  },
  {
   "cell_type": "markdown",
   "metadata": {},
   "source": [
    "##### 1.1.1 Chargement et affichage des données (1 point)\n",
    "\n",
    "Chargez les données '_claims.jsonl_' et '_corpus.jsonl_' puis affichez-les dans des dataframes en utilisant panda."
   ]
  },
  {
   "cell_type": "code",
   "execution_count": 6,
   "metadata": {},
   "outputs": [],
   "source": [
    "# Charger les fichiers dans des dataframes en utilisant les variables `df_claims` et `df_corpus`\n",
    "df_claims = pd.read_json(PATH+'claims.jsonl', lines=True) \n",
    "df_corpus = pd.read_json(PATH+'corpus.jsonl', lines=True)"
   ]
  },
  {
   "cell_type": "code",
   "execution_count": 7,
   "metadata": {},
   "outputs": [
    {
     "data": {
      "text/html": [
       "<div>\n",
       "<style scoped>\n",
       "    .dataframe tbody tr th:only-of-type {\n",
       "        vertical-align: middle;\n",
       "    }\n",
       "\n",
       "    .dataframe tbody tr th {\n",
       "        vertical-align: top;\n",
       "    }\n",
       "\n",
       "    .dataframe thead th {\n",
       "        text-align: right;\n",
       "    }\n",
       "</style>\n",
       "<table border=\"1\" class=\"dataframe\">\n",
       "  <thead>\n",
       "    <tr style=\"text-align: right;\">\n",
       "      <th></th>\n",
       "      <th>id</th>\n",
       "      <th>claim</th>\n",
       "      <th>evidence</th>\n",
       "      <th>cited_doc_ids</th>\n",
       "    </tr>\n",
       "  </thead>\n",
       "  <tbody>\n",
       "    <tr>\n",
       "      <th>0</th>\n",
       "      <td>0</td>\n",
       "      <td>0-dimensional biomaterials lack inductive prop...</td>\n",
       "      <td>{}</td>\n",
       "      <td>[31715818]</td>\n",
       "    </tr>\n",
       "    <tr>\n",
       "      <th>1</th>\n",
       "      <td>2</td>\n",
       "      <td>1 in 5 million in UK have abnormal PrP positiv...</td>\n",
       "      <td>{'13734012': [{'sentences': [4], 'label': 'CON...</td>\n",
       "      <td>[13734012]</td>\n",
       "    </tr>\n",
       "    <tr>\n",
       "      <th>2</th>\n",
       "      <td>4</td>\n",
       "      <td>1-1% of colorectal cancer patients are diagnos...</td>\n",
       "      <td>{}</td>\n",
       "      <td>[22942787]</td>\n",
       "    </tr>\n",
       "  </tbody>\n",
       "</table>\n",
       "</div>"
      ],
      "text/plain": [
       "   id                                              claim  \\\n",
       "0   0  0-dimensional biomaterials lack inductive prop...   \n",
       "1   2  1 in 5 million in UK have abnormal PrP positiv...   \n",
       "2   4  1-1% of colorectal cancer patients are diagnos...   \n",
       "\n",
       "                                            evidence cited_doc_ids  \n",
       "0                                                 {}    [31715818]  \n",
       "1  {'13734012': [{'sentences': [4], 'label': 'CON...    [13734012]  \n",
       "2                                                 {}    [22942787]  "
      ]
     },
     "execution_count": 7,
     "metadata": {},
     "output_type": "execute_result"
    }
   ],
   "source": [
    "df_claims.head(n=3)"
   ]
  },
  {
   "cell_type": "code",
   "execution_count": 8,
   "metadata": {},
   "outputs": [
    {
     "data": {
      "text/html": [
       "<div>\n",
       "<style scoped>\n",
       "    .dataframe tbody tr th:only-of-type {\n",
       "        vertical-align: middle;\n",
       "    }\n",
       "\n",
       "    .dataframe tbody tr th {\n",
       "        vertical-align: top;\n",
       "    }\n",
       "\n",
       "    .dataframe thead th {\n",
       "        text-align: right;\n",
       "    }\n",
       "</style>\n",
       "<table border=\"1\" class=\"dataframe\">\n",
       "  <thead>\n",
       "    <tr style=\"text-align: right;\">\n",
       "      <th></th>\n",
       "      <th>doc_id</th>\n",
       "      <th>title</th>\n",
       "      <th>abstract</th>\n",
       "      <th>structured</th>\n",
       "    </tr>\n",
       "  </thead>\n",
       "  <tbody>\n",
       "    <tr>\n",
       "      <th>0</th>\n",
       "      <td>4983</td>\n",
       "      <td>Microstructural development of human newborn c...</td>\n",
       "      <td>[Alterations of the architecture of cerebral w...</td>\n",
       "      <td>False</td>\n",
       "    </tr>\n",
       "    <tr>\n",
       "      <th>1</th>\n",
       "      <td>5836</td>\n",
       "      <td>Induction of myelodysplasia by myeloid-derived...</td>\n",
       "      <td>[Myelodysplastic syndromes (MDS) are age-depen...</td>\n",
       "      <td>False</td>\n",
       "    </tr>\n",
       "    <tr>\n",
       "      <th>2</th>\n",
       "      <td>7912</td>\n",
       "      <td>BC1 RNA, the transcript from a master gene for...</td>\n",
       "      <td>[ID elements are short interspersed elements (...</td>\n",
       "      <td>False</td>\n",
       "    </tr>\n",
       "  </tbody>\n",
       "</table>\n",
       "</div>"
      ],
      "text/plain": [
       "   doc_id                                              title  \\\n",
       "0    4983  Microstructural development of human newborn c...   \n",
       "1    5836  Induction of myelodysplasia by myeloid-derived...   \n",
       "2    7912  BC1 RNA, the transcript from a master gene for...   \n",
       "\n",
       "                                            abstract  structured  \n",
       "0  [Alterations of the architecture of cerebral w...       False  \n",
       "1  [Myelodysplastic syndromes (MDS) are age-depen...       False  \n",
       "2  [ID elements are short interspersed elements (...       False  "
      ]
     },
     "execution_count": 8,
     "metadata": {},
     "output_type": "execute_result"
    }
   ],
   "source": [
    "df_corpus.head(n=3)"
   ]
  },
  {
   "cell_type": "markdown",
   "metadata": {},
   "source": [
    "##### 1.1.2 Statistique sur les évidences (1 point)\n",
    "\n",
    "Calculez les pourcentages d'apparition de chaque label des évidences dans \"_df_claims_\" (CONTRADICT ou SUPPORT). Pour rappel les évidences sont les extraits pertinents des résumés qui supportent ou contredisent les affirmations. "
   ]
  },
  {
   "cell_type": "code",
   "execution_count": 9,
   "metadata": {},
   "outputs": [
    {
     "data": {
      "text/plain": [
       "{'CONTRADICT': '35.63%', 'SUPPORT': '64.37%'}"
      ]
     },
     "execution_count": 9,
     "metadata": {},
     "output_type": "execute_result"
    }
   ],
   "source": [
    "# On calcule les pourcentages des labels present dans evidence\n",
    "evidences = df_claims['evidence'].to_list()\n",
    "labels = []\n",
    "list_of_size = []\n",
    "for evi in evidences:\n",
    "    for k in evi.keys():\n",
    "        labels = labels + [evi[k][i]['label'] for i in range(len(evi[k]))]\n",
    "\n",
    "stats_labels = Counter(labels)\n",
    "\n",
    "stats_labels_percent = {label: f\"{(100 * count / sum(stats_labels.values())):.2f}%\" for label, count in stats_labels.items()}\n",
    "stats_labels_percent"
   ]
  },
  {
   "cell_type": "markdown",
   "metadata": {},
   "source": [
    "> Réponse attendue:\n",
    "> \n",
    "> CONTRADICT: 35.63%\n",
    "> \n",
    "> SUPPORT: 64.37%"
   ]
  },
  {
   "cell_type": "markdown",
   "metadata": {},
   "source": [
    "#### 1.2 Analyse statistique des données (7 points)\n",
    "\n",
    "Nous allons faire une suite de transformations sur les données pour les rendre plus faciles à manipuler."
   ]
  },
  {
   "cell_type": "markdown",
   "metadata": {},
   "source": [
    "##### 1.2.1 Implémentation de la fonction \"_list_to_string_\" \n",
    "\n",
    "Nous mettons à votre disposition la fonction \"_list_to_string_\" qui transforme une liste de phrases en un texte en les concaténant et enlèvant tous les caractères de nouvelle ligne (`\\n`) pour s'assurer que nous avons un texte complet. "
   ]
  },
  {
   "cell_type": "code",
   "execution_count": 10,
   "metadata": {},
   "outputs": [],
   "source": [
    "# On transforme la liste de phrases en un texte\n",
    "def list_to_string(x):\n",
    "    if isinstance(x, list):\n",
    "        return ' '.join(str(i).replace(\"\\n\",\"\").replace(\"  \",\" \") for i in x)  # Enlève les caractère de retour à la ligne et convertit les éléments de la liste en chaînes et les joint\n",
    "    return str(x)"
   ]
  },
  {
   "cell_type": "markdown",
   "metadata": {},
   "source": [
    "##### 1.2.2 Utilisation de la fonction \"_list_to_string_\" \n",
    "\n",
    "Appliquons cette fonction \"_list_to_string_\" aux colonnes \"_title_\" et \"abstract\" du dataframe \"_df_corpus_\"."
   ]
  },
  {
   "cell_type": "code",
   "execution_count": 11,
   "metadata": {},
   "outputs": [],
   "source": [
    "# On applique la fonction aux colonnes \"title\" et \"abstract\"\n",
    "df_corpus['title']    = df_corpus['title'].apply(list_to_string)\n",
    "df_corpus['abstract'] = df_corpus['abstract'].apply(list_to_string)"
   ]
  },
  {
   "cell_type": "markdown",
   "metadata": {},
   "source": [
    "##### 1.2.3 Ajout de la colonne \"_text_\" dans \"df_corpus\"\n",
    "\n",
    "\n",
    "Ajoutons maintenant une colonne \"_text_\" qui est la concaténation du titre (\"_title_\") et du résumé (\"_abstract_\") au niveau du dataframe \"df_corpus\"."
   ]
  },
  {
   "cell_type": "code",
   "execution_count": 12,
   "metadata": {},
   "outputs": [],
   "source": [
    "# On concatene les textes dans \"title\" et \"abstract\"\n",
    "df_corpus['text'] = df_corpus['title'] + \" \" + df_corpus['abstract']"
   ]
  },
  {
   "cell_type": "markdown",
   "metadata": {},
   "source": [
    "##### 1.2.4 Ajout de colonnes dans \"_df_claims_\" (1 point)\n",
    "\n",
    "Ajoutez les colonnes \"_claim_length_\" et \"_num_cited_doc_\" qui donnent, pour chaque affirmation, le nombre de mots dans la colonne \"_claim_\" et le nombre de documents cités au niveau de la colonne \"_cited_doc_ids_\" pour le dataframe \"_df_claims_\". Vous pouvez considérer que des mots sont simplement une séquence de caractères séparés par un espace."
   ]
  },
  {
   "cell_type": "code",
   "execution_count": 13,
   "metadata": {},
   "outputs": [
    {
     "data": {
      "text/html": [
       "<div>\n",
       "<style scoped>\n",
       "    .dataframe tbody tr th:only-of-type {\n",
       "        vertical-align: middle;\n",
       "    }\n",
       "\n",
       "    .dataframe tbody tr th {\n",
       "        vertical-align: top;\n",
       "    }\n",
       "\n",
       "    .dataframe thead th {\n",
       "        text-align: right;\n",
       "    }\n",
       "</style>\n",
       "<table border=\"1\" class=\"dataframe\">\n",
       "  <thead>\n",
       "    <tr style=\"text-align: right;\">\n",
       "      <th></th>\n",
       "      <th>id</th>\n",
       "      <th>claim</th>\n",
       "      <th>evidence</th>\n",
       "      <th>cited_doc_ids</th>\n",
       "      <th>claim_length</th>\n",
       "      <th>num_cited_doc</th>\n",
       "    </tr>\n",
       "  </thead>\n",
       "  <tbody>\n",
       "    <tr>\n",
       "      <th>0</th>\n",
       "      <td>0</td>\n",
       "      <td>0-dimensional biomaterials lack inductive prop...</td>\n",
       "      <td>{}</td>\n",
       "      <td>[31715818]</td>\n",
       "      <td>5</td>\n",
       "      <td>1</td>\n",
       "    </tr>\n",
       "    <tr>\n",
       "      <th>1</th>\n",
       "      <td>2</td>\n",
       "      <td>1 in 5 million in UK have abnormal PrP positiv...</td>\n",
       "      <td>{'13734012': [{'sentences': [4], 'label': 'CON...</td>\n",
       "      <td>[13734012]</td>\n",
       "      <td>10</td>\n",
       "      <td>1</td>\n",
       "    </tr>\n",
       "    <tr>\n",
       "      <th>2</th>\n",
       "      <td>4</td>\n",
       "      <td>1-1% of colorectal cancer patients are diagnos...</td>\n",
       "      <td>{}</td>\n",
       "      <td>[22942787]</td>\n",
       "      <td>12</td>\n",
       "      <td>1</td>\n",
       "    </tr>\n",
       "  </tbody>\n",
       "</table>\n",
       "</div>"
      ],
      "text/plain": [
       "   id                                              claim  \\\n",
       "0   0  0-dimensional biomaterials lack inductive prop...   \n",
       "1   2  1 in 5 million in UK have abnormal PrP positiv...   \n",
       "2   4  1-1% of colorectal cancer patients are diagnos...   \n",
       "\n",
       "                                            evidence cited_doc_ids  \\\n",
       "0                                                 {}    [31715818]   \n",
       "1  {'13734012': [{'sentences': [4], 'label': 'CON...    [13734012]   \n",
       "2                                                 {}    [22942787]   \n",
       "\n",
       "   claim_length  num_cited_doc  \n",
       "0             5              1  \n",
       "1            10              1  \n",
       "2            12              1  "
      ]
     },
     "execution_count": 13,
     "metadata": {},
     "output_type": "execute_result"
    }
   ],
   "source": [
    "# On calcule les longueurs des entrées pour chaque colonne\n",
    "df_claims['claim_length']  = df_claims['claim'].apply(lambda x: len(x.split()))\n",
    "df_claims['num_cited_doc'] = df_claims['cited_doc_ids'].apply(len)\n",
    "df_claims.head(n=3)"
   ]
  },
  {
   "cell_type": "markdown",
   "metadata": {},
   "source": [
    "##### 1.2.5 Ajout des colonnes de mesures de longeurs de textes (documents) (1 point)\n",
    "\n",
    "Ajoutez les colonnes \"_title_length_\", \"_abstract_length_\" et \"_text_length_\" qui donnent le nombre de mots dans les colonnes \"_title_\", \"_abstract_\" et \"_text_\" du dataframe \"_df_corpus_\". Pour le reste du TP, nous définirons la longueur du \"_title_\", \"_abstract_\" et du \"_text_\" comme étant le nombre de mots dans les chaînes de caractères respectives. Encore une fois, vous pouvez considérer que des mots sont simplement une séquence de caractères séparés par un espace."
   ]
  },
  {
   "cell_type": "code",
   "execution_count": 14,
   "metadata": {},
   "outputs": [
    {
     "data": {
      "text/html": [
       "<div>\n",
       "<style scoped>\n",
       "    .dataframe tbody tr th:only-of-type {\n",
       "        vertical-align: middle;\n",
       "    }\n",
       "\n",
       "    .dataframe tbody tr th {\n",
       "        vertical-align: top;\n",
       "    }\n",
       "\n",
       "    .dataframe thead th {\n",
       "        text-align: right;\n",
       "    }\n",
       "</style>\n",
       "<table border=\"1\" class=\"dataframe\">\n",
       "  <thead>\n",
       "    <tr style=\"text-align: right;\">\n",
       "      <th></th>\n",
       "      <th>doc_id</th>\n",
       "      <th>title</th>\n",
       "      <th>abstract</th>\n",
       "      <th>structured</th>\n",
       "      <th>text</th>\n",
       "      <th>title_length</th>\n",
       "      <th>abstract_length</th>\n",
       "      <th>text_length</th>\n",
       "    </tr>\n",
       "  </thead>\n",
       "  <tbody>\n",
       "    <tr>\n",
       "      <th>0</th>\n",
       "      <td>4983</td>\n",
       "      <td>Microstructural development of human newborn c...</td>\n",
       "      <td>Alterations of the architecture of cerebral wh...</td>\n",
       "      <td>False</td>\n",
       "      <td>Microstructural development of human newborn c...</td>\n",
       "      <td>17</td>\n",
       "      <td>278</td>\n",
       "      <td>295</td>\n",
       "    </tr>\n",
       "    <tr>\n",
       "      <th>1</th>\n",
       "      <td>5836</td>\n",
       "      <td>Induction of myelodysplasia by myeloid-derived...</td>\n",
       "      <td>Myelodysplastic syndromes (MDS) are age-depend...</td>\n",
       "      <td>False</td>\n",
       "      <td>Induction of myelodysplasia by myeloid-derived...</td>\n",
       "      <td>7</td>\n",
       "      <td>201</td>\n",
       "      <td>208</td>\n",
       "    </tr>\n",
       "    <tr>\n",
       "      <th>2</th>\n",
       "      <td>7912</td>\n",
       "      <td>BC1 RNA, the transcript from a master gene for...</td>\n",
       "      <td>ID elements are short interspersed elements (S...</td>\n",
       "      <td>False</td>\n",
       "      <td>BC1 RNA, the transcript from a master gene for...</td>\n",
       "      <td>20</td>\n",
       "      <td>180</td>\n",
       "      <td>200</td>\n",
       "    </tr>\n",
       "  </tbody>\n",
       "</table>\n",
       "</div>"
      ],
      "text/plain": [
       "   doc_id                                              title  \\\n",
       "0    4983  Microstructural development of human newborn c...   \n",
       "1    5836  Induction of myelodysplasia by myeloid-derived...   \n",
       "2    7912  BC1 RNA, the transcript from a master gene for...   \n",
       "\n",
       "                                            abstract  structured  \\\n",
       "0  Alterations of the architecture of cerebral wh...       False   \n",
       "1  Myelodysplastic syndromes (MDS) are age-depend...       False   \n",
       "2  ID elements are short interspersed elements (S...       False   \n",
       "\n",
       "                                                text  title_length  \\\n",
       "0  Microstructural development of human newborn c...            17   \n",
       "1  Induction of myelodysplasia by myeloid-derived...             7   \n",
       "2  BC1 RNA, the transcript from a master gene for...            20   \n",
       "\n",
       "   abstract_length  text_length  \n",
       "0              278          295  \n",
       "1              201          208  \n",
       "2              180          200  "
      ]
     },
     "execution_count": 14,
     "metadata": {},
     "output_type": "execute_result"
    }
   ],
   "source": [
    "# On calcule le nombre de mots dans les documents du corpus\n",
    "df_corpus['title_length']    = df_corpus['title'].apply(lambda x: len(x.split()))\n",
    "df_corpus['abstract_length'] = df_corpus['abstract'].apply(lambda x: len(x.split()))\n",
    "df_corpus['text_length']     = df_corpus['text'].apply(lambda x: len(x.split()))\n",
    "df_corpus.head(n=3)"
   ]
  },
  {
   "cell_type": "markdown",
   "metadata": {},
   "source": [
    "##### 1.2.6 Analyse statistique (1.5 point)\n",
    "\n",
    "Faites l'analyse statistique des données en affichant le \"_min_\", le \"_max_\" et la \"_moyenne_\" pour les deux colonnes \"_claim_length_\" et \"_num_cited_doc_\" que vous venez de créer."
   ]
  },
  {
   "cell_type": "code",
   "execution_count": 15,
   "metadata": {},
   "outputs": [
    {
     "name": "stdout",
     "output_type": "stream",
     "text": [
      "Statistiques pour la colonne 'claim' de df_claims:\n",
      "Longueur minimale: 3\n",
      "Longueur maximale: 39\n",
      "Longueur moyenne: 12.33\n",
      "\n",
      "Statistiques pour la colonne 'num_cited_doc' df_claims\n",
      "Nombre minimal de documents cités: 1\n",
      "Nombre maximal de documents cités: 5\n",
      "Nombre moyen de documents cités: 1.14\n"
     ]
    }
   ],
   "source": [
    "# On calcule des statistiques pour la colonne \"claim\" de df_claims\n",
    "min_claim_length  = df_claims['claim_length'].min()\n",
    "max_claim_length  = df_claims['claim_length'].max()\n",
    "mean_claim_length = df_claims['claim_length'].mean()\n",
    "\n",
    "# On calcule des statistiques pour la colonne \"num_cited_doc\"\n",
    "min_num_cited_doc  = df_claims['num_cited_doc'].min()\n",
    "max_num_cited_doc  = df_claims['num_cited_doc'].max()\n",
    "mean_num_cited_doc = df_claims['num_cited_doc'].mean()\n",
    "\n",
    "# On affiche les résultats\n",
    "print(\"Statistiques pour la colonne 'claim' de df_claims:\")\n",
    "print(f\"Longueur minimale: {min_claim_length}\")\n",
    "print(f\"Longueur maximale: {max_claim_length}\")\n",
    "print(f\"Longueur moyenne: {mean_claim_length:.2f}\")\n",
    "\n",
    "print(\"\\nStatistiques pour la colonne 'num_cited_doc' df_claims\")\n",
    "print(f\"Nombre minimal de documents cités: {min_num_cited_doc}\")\n",
    "print(f\"Nombre maximal de documents cités: {max_num_cited_doc}\")\n",
    "print(f\"Nombre moyen de documents cités: {mean_num_cited_doc:.2f}\")"
   ]
  },
  {
   "cell_type": "markdown",
   "metadata": {},
   "source": [
    "##### 1.2.7 Histogrammes (2 points)\n",
    "\n",
    "En considérant le dataframe du corpus de résumés (\"_df_corpus_\"), affichez dans 3 histogrammes les distributions suivantes:\n",
    "\n",
    "- Fréquence des titres ('_title_') en fonction de leur longueur\n",
    "- Fréquence des résumés ('_abstract_') en fonction de leur longueur\n",
    "- Fréquence des textes ('_text_') en fonction de leur longueur\n",
    "\n",
    "Utilisez la valeur de 30 pour le paramètre \"_bins_\""
   ]
  },
  {
   "cell_type": "code",
   "execution_count": 16,
   "metadata": {},
   "outputs": [
    {
     "data": {
      "image/png": "[encoded data removed]",
      "text/plain": [
       "<Figure size 1800x600 with 3 Axes>"
      ]
     },
     "metadata": {},
     "output_type": "display_data"
    }
   ],
   "source": [
    "# Création de la figure avec 3 sous-parcelles pour les histogrammes\n",
    "plt.figure(figsize=(18, 6))\n",
    "\n",
    "# Histogramme pour les longueurs de \"title_length\"\n",
    "plt.subplot(1, 3, 1)\n",
    "plt.hist(df_corpus['title_length'], bins=30, edgecolor='k', alpha=0.7)\n",
    "plt.title('Distribution des longueurs des titres')\n",
    "plt.xlabel('Longueur des titres')\n",
    "plt.ylabel('Fréquence')\n",
    "plt.grid(True)\n",
    "\n",
    "# Histogramme pour les longueurs de \"abstract_length\"\n",
    "plt.subplot(1, 3, 2)\n",
    "plt.hist(df_corpus['abstract_length'], bins=30, edgecolor='k', alpha=0.7)\n",
    "plt.title('Distribution des longueurs des résumés')\n",
    "plt.xlabel('Longueur des résumés')\n",
    "plt.ylabel('Fréquence')\n",
    "plt.grid(True)\n",
    "\n",
    "# Histogramme pour les longueurs de \"text_length\"\n",
    "plt.subplot(1, 3, 3)\n",
    "plt.hist(df_corpus['text_length'], bins=30, edgecolor='k', alpha=0.7)\n",
    "plt.title('Distribution des longueurs des textes')\n",
    "plt.xlabel('Longueur des textes')\n",
    "plt.ylabel('Fréquence')\n",
    "plt.grid(True)\n",
    "\n",
    "# Affichage des histogrammes\n",
    "plt.tight_layout()\n",
    "plt.show()"
   ]
  },
  {
   "cell_type": "markdown",
   "metadata": {},
   "source": [
    "##### 1.2.8 Quelles remarques faites-vous sur les affirmations (claims) et les documents ? (1.5 points) \n",
    "\n",
    "En observant les maximums, les minimums et les moyennes, que remarquez-vous à propos des affirmations ('_claims_') ? À l'aide des graphiques générés, comparez également les documents."
   ]
  },
  {
   "cell_type": "markdown",
   "metadata": {},
   "source": [
    "> Réponse attendue: \n",
    "\n",
    "    - Les affirmations ne sont pas longues, seulement 12 mots en moyenne.\n",
    "    - On a en moyenne un seul document cité pour une affirmation.\n",
    "    - Les titres des documents font en moyenne 10 mots alors que leur résumés en font environ 200."
   ]
  },
  {
   "cell_type": "markdown",
   "metadata": {},
   "source": [
    "#### 1.3 Pré-traitement (6 points)\n",
    "Les affirmations et résumés de texte de votre ensemble de données doivent d’abord être représentés et indexés pour ensuite pouvoir effectuer une recherche de document (pouvant être \"_title_\", \"_abstract_\" ou la fusion des deux représentée par \"_text_\") qui justifie/contredit une affirmation. Vous devez donc implémenter une étape de pré-traitement des données."
   ]
  },
  {
   "cell_type": "markdown",
   "metadata": {},
   "source": [
    "##### 1.3.1 Implémentation de la fonction \"_tokenize_sentence_\" (1 point)\n",
    "\n",
    "Implémentez la fonction \"_tokenize_sentence_\" pour la segmentation d'une phrase en une liste de jetons. Utilisez la librarie `nltk`."
   ]
  },
  {
   "cell_type": "code",
   "execution_count": 17,
   "metadata": {},
   "outputs": [],
   "source": [
    "# Tokenisation d'une chaine de caractères.\n",
    "def tokenize_sentence(sentence: str) -> List[str]:\n",
    "  return word_tokenize(sentence)"
   ]
  },
  {
   "cell_type": "markdown",
   "metadata": {},
   "source": [
    "##### 1.3.2 Implémentation de la fonction \"_tokenize_text_\" (1 point)\n",
    "Implémentez la fonction \"_tokenize_text_\" qui utilise \"_tokenize_sentence_\" pour faire la segmentation d'un texte (liste de phrases)."
   ]
  },
  {
   "cell_type": "code",
   "execution_count": 18,
   "metadata": {},
   "outputs": [],
   "source": [
    "# Segmentation (Tokenization) d'un corpus de plusieurs passages.\n",
    "def tokenize_text(sentences: List[str]) -> List[List[str]]:\n",
    "  return [tokenize_sentence(sentence) for sentence in tqdm(sentences)]"
   ]
  },
  {
   "cell_type": "markdown",
   "metadata": {},
   "source": [
    "##### 1.3.3 Implémentation de la fonction \"_stem_tokens_\" (1 point)\n",
    "\n",
    "Implémentez la fonction \"_stem_tokens_\" qui prend une liste de jetons (tokens) en entrée et retourne une liste contenant leur forme racinisée (stems) en utilisant l'algorithme de racinisation PorterStemmer de la bibliothèque nltk."
   ]
  },
  {
   "cell_type": "code",
   "execution_count": 19,
   "metadata": {},
   "outputs": [],
   "source": [
    "# Racinisation d'une liste de jetons.\n",
    "# def stem_tokens(tokens: List[str]) -> List[str]:\n",
    "#   stemmer = PorterStemmer()\n",
    "#   return [stemmer.stem(token) for token in tokens]\n",
    "\n",
    "def stem_tokens(token):\n",
    "  stemmer = PorterStemmer()\n",
    "  return stemmer.stem(token)"
   ]
  },
  {
   "cell_type": "markdown",
   "metadata": {},
   "source": [
    "##### 1.3.4 Pré-traitement (2 points)\n",
    "\n",
    "En utilisant vos précédentes fonctions, faites maintenant le pré-traitement des champs \"_text_\", \"_title_\" et \"_abstract_\" du dataframe \"_df_corpus_\" et \"_claim_\" du dataframe \"_df_claims_\" en suivant les étapes suivantes:\n",
    "- conversion en minuscules\n",
    "- segmentation (tokenization) des passages\n",
    "- suppression des stop-words et ponctuation\n",
    "- racinisation (stemming) des jetons\n",
    "\n",
    "Nommez la liste des affirmations pré-traitées par \"_claims_preprocessed_\". Pour le corpus de documents considérez les ensembles de titres \"_title_\", de résumés \"abstract\" et la fusion des deux \"_text_\" et nommez les listes correspondantes par \"_titles_preprocessed_\", \"_abstracts_preprocessed_\" et \"_texts_preprocessed_\" respectivement."
   ]
  },
  {
   "cell_type": "code",
   "execution_count": 20,
   "metadata": {},
   "outputs": [
    {
     "name": "stderr",
     "output_type": "stream",
     "text": [
      "100%|██████████| 809/809 [00:00<00:00, 17274.83it/s]\n",
      "100%|██████████| 5183/5183 [00:00<00:00, 19234.70it/s]\n",
      "100%|██████████| 5183/5183 [00:03<00:00, 1502.08it/s]\n",
      "100%|██████████| 5183/5183 [00:03<00:00, 1426.95it/s]\n"
     ]
    }
   ],
   "source": [
    "# Segmentation et prétraitement des claims\n",
    "all_tokenized_claims = tokenize_text(df_claims[\"claim\"].str.lower().tolist())\n",
    "claims_preprocessed = [\n",
    "    [stem_tokens(token) for token in claim_tokens if token not in stop_words and token not in punctuation]\n",
    "    for claim_tokens in all_tokenized_claims\n",
    "]\n",
    "\n",
    "# Segmentation et prétraitement des titles\n",
    "all_tokenized_titles = tokenize_text(df_corpus[\"title\"].str.lower().tolist())\n",
    "titles_preprocessed = [\n",
    "    [stem_tokens(token) for token in title_tokens if token not in stop_words and token not in punctuation]\n",
    "    for title_tokens in all_tokenized_titles\n",
    "]\n",
    "\n",
    "# Segmentation et prétraitement des abstracts\n",
    "all_tokenized_abstracts = tokenize_text(df_corpus[\"abstract\"].str.lower().tolist())\n",
    "abstracts_preprocessed = [\n",
    "    [stem_tokens(token) for token in abstract_tokens if token not in stop_words and token not in punctuation]\n",
    "    for abstract_tokens in all_tokenized_abstracts\n",
    "]\n",
    "\n",
    "# Segmentation et prétraitement des texts\n",
    "all_tokenized_texts = tokenize_text(df_corpus[\"text\"].str.lower().tolist())\n",
    "texts_preprocessed = [\n",
    "    [stem_tokens(token) for token in text_tokens if token not in stop_words and token not in punctuation]\n",
    "    for text_tokens in all_tokenized_texts\n",
    "]"
   ]
  },
  {
   "cell_type": "markdown",
   "metadata": {},
   "source": [
    "##### 1.3.5 Jetons uniques (types) (1 point)\n",
    "\n",
    "Affichez maintenant le nombre total de jetons dans tous les textes (_text_) et affirmations (_claim_) (en les considérant comme un seul corpus) après le pré-traitement. Puis, affichez le nombre de jetons uniques (types) dans les textes (_text_) et les affirmations (_claim_). "
   ]
  },
  {
   "cell_type": "code",
   "execution_count": 21,
   "metadata": {},
   "outputs": [
    {
     "name": "stdout",
     "output_type": "stream",
     "text": [
      "Nombre de jetons : 742202, nombre de jetons uniques (types): 45195\n"
     ]
    }
   ],
   "source": [
    "nb_jetons = len([token for sentence in texts_preprocessed + claims_preprocessed for token in sentence])\n",
    "nb_types  = len(set([token for sentence in texts_preprocessed + claims_preprocessed for token in sentence]))\n",
    "print(f\"Nombre de jetons : {nb_jetons}, nombre de jetons uniques (types): {nb_types}\")"
   ]
  },
  {
   "cell_type": "markdown",
   "metadata": {
    "id": "3qH8-QAw8BEV"
   },
   "source": [
    "### 2. Représentation des affirmations et des documents  (45 points)"
   ]
  },
  {
   "cell_type": "markdown",
   "metadata": {},
   "source": [
    "#### 2.1  Vocabulaire (15 points)"
   ]
  },
  {
   "cell_type": "markdown",
   "metadata": {},
   "source": [
    "##### 2.1.1 Implémentation de la fonction \"_get_vocab_\" (3 points)\n",
    "\n",
    "Implémentez la fonction \"_get_vocab_\" qui prend une liste de textes composés chacun d'une liste de jetons et retourne un dictionnaire dont les clés sont les jetons uniques et les valeurs sont leur fréquence dans l'ensemble des textes."
   ]
  },
  {
   "cell_type": "code",
   "execution_count": 22,
   "metadata": {},
   "outputs": [],
   "source": [
    "def get_vocab(all_tokens: List[List[str]]) -> Dict[str, int]:\n",
    "    \"\"\"\n",
    "    Construction d'un vocabulaire et des fréquences d'utilisation \n",
    "    des jetons sur un corpus de plusieurs passages.\n",
    "    \"\"\"\n",
    "    vocab = Counter(np.concatenate(all_tokens))\n",
    "    return vocab"
   ]
  },
  {
   "cell_type": "markdown",
   "metadata": {},
   "source": [
    "##### 2.1.2 Implémentez la fonction \"_show_top_N_types_\" (3 points)\n",
    "\n",
    "Implémentez la fonction \"show_top_N_types\" qui affiche les N jetons les plus fréquents à partir d'un dictionnaire comme celui retourné par la fonction \"_get_vocab_\".\n",
    "\n",
    "La fonction prend deux arguments: le dictionnaire \"_dictionary_\" et le paramètre \"_N_\". "
   ]
  },
  {
   "cell_type": "code",
   "execution_count": 23,
   "metadata": {},
   "outputs": [],
   "source": [
    "# Fonction pour afficher les N types les plus fréquents du corpus.\n",
    "def show_top_N_types(dictionary: Dict[str, int], N=15):\n",
    "  freqs = sorted(dictionary.items(), key=lambda x: x[1], reverse=True)\n",
    "  for freq in freqs[:N]:\n",
    "    print(freq)"
   ]
  },
  {
   "cell_type": "markdown",
   "metadata": {},
   "source": [
    "##### 2.1.3 Construction du vocabulaire (1 point)\n",
    "\n",
    "Construisez maintenant le vocabulaire pour les affirmations et le corpus de documents à partir des listes \"texts_preprocessed\" et \"claims_preprocessed\". \n",
    "\n",
    "Ensuite affichez les 15 jetons les plus fréquents ainsi que leur fréquence."
   ]
  },
  {
   "cell_type": "code",
   "execution_count": 24,
   "metadata": {},
   "outputs": [
    {
     "name": "stdout",
     "output_type": "stream",
     "text": [
      "Nombre de types composant le vocabulaire: 45195\n",
      "Les 15 types les plus fréquents:\n",
      "('cell', 10464)\n",
      "('patient', 4175)\n",
      "('activ', 4145)\n",
      "('studi', 4014)\n",
      "('use', 3799)\n",
      "('express', 3626)\n",
      "('result', 3213)\n",
      "('protein', 3083)\n",
      "('gene', 3004)\n",
      "('cancer', 2945)\n",
      "('increas', 2794)\n",
      "('associ', 2659)\n",
      "('effect', 2567)\n",
      "('function', 2515)\n",
      "('human', 2464)\n"
     ]
    }
   ],
   "source": [
    "vocab = get_vocab(texts_preprocessed + claims_preprocessed)\n",
    "print(f\"Nombre de types composant le vocabulaire: {len(vocab)}\")\n",
    "print(\"Les 15 types les plus fréquents:\")\n",
    "show_top_N_types(vocab)"
   ]
  },
  {
   "cell_type": "markdown",
   "metadata": {},
   "source": [
    "Sortie attendue:\n",
    "\n",
    "```Nombre de types composant le vocabulaire: 45195\n",
    "Les 15 types les plus fréquents:\n",
    "('cell', 10464)\n",
    "('patient', 4175)\n",
    "('activ', 4145)\n",
    "('studi', 4014)\n",
    "('use', 3799)\n",
    "('express', 3626)\n",
    "('result', 3213)\n",
    "('protein', 3083)\n",
    "('gene', 3004)\n",
    "('cancer', 2945)\n",
    "('increas', 2794)\n",
    "('associ', 2659)\n",
    "('effect', 2567)\n",
    "('function', 2515)\n",
    "('human', 2464)"
   ]
  },
  {
   "cell_type": "markdown",
   "metadata": {},
   "source": [
    "##### 2.1.4 Implémentation de la fonction \"_show_distribution_\" (4 points)\n",
    "\n",
    "Implémentez la fonction \"__show_distribution__\" qui permet de visualiser la distribution des fréquences des jetons à partir d'un dictionnaire comme celui retourné par la fonction \"_get_vocab_\", en utilisant un graphique où l'axe des abscisses représente le rang d'un type (après un tri par ordre de fréquence décroissante) et l'axe des ordonnées représente sa fréquence sur une échelle logarithmique.  \n",
    "\n",
    "Par exemple, le point (10000, 10) voudrait dire que le 10000ème mot le plus fréquent a une fréquence à peu prés egale à 10 dans le vocabulaire."
   ]
  },
  {
   "cell_type": "code",
   "execution_count": 25,
   "metadata": {},
   "outputs": [],
   "source": [
    "# Fonction show_distribution pour faire le plot dans un graphe\n",
    "def show_distribution(vocab: Dict[str, int]):\n",
    "  points = sorted(vocab.items(), key=lambda x:x[1], reverse=True)\n",
    "  X, Y = zip(*points)\n",
    "  plt.plot(np.arange(len(X)), Y)\n",
    "  plt.xlabel(\"Rang du type dans le vocabulaire\")\n",
    "  plt.ylabel(\"Fréquence\")\n",
    "  plt.yscale(\"log\")\n",
    "#   plt.xscale(\"log\")\n",
    "  plt.title(\"Distribution des fréquences en fonction du nombre de types du vocabulaire\")\n",
    "  plt.show()"
   ]
  },
  {
   "cell_type": "code",
   "execution_count": 26,
   "metadata": {},
   "outputs": [
    {
     "data": {
      "image/png": "[encoded data removed]",
      "text/plain": [
       "<Figure size 640x480 with 1 Axes>"
      ]
     },
     "metadata": {},
     "output_type": "display_data"
    }
   ],
   "source": [
    "show_distribution(vocab)"
   ]
  },
  {
   "cell_type": "markdown",
   "metadata": {},
   "source": [
    "##### 2.1.5 Vérification de la loi de Zipf (4 points)\n",
    "\n",
    "Afin de vérifier la loi de Zipf, donnez une estimation de la valeur de la constante k de cette loi définie comme suit: \n",
    "\n",
    "$$ f \\approx \\frac{k}{r^\\alpha} $$ \n",
    "\n",
    "où $ f $ est la fréquence d'un mot, $ r $ est le rang de ce mot dans la liste triée par fréquence décroissante, et $ k $ est une constante. Etant données les fluctuations sur les valeurs de fréquence, vous pouvez utiliser la librairie ['powerlaw'](https://pypi.org/project/powerlaw/) conçue pour analyser et ajuster des distributions de loi de puissance aux données et qui peut être utile dans l'estimation de $ \\alpha $.\n",
    "\n",
    "Affichez la constante $ k $ trouvée, les fréquences réelles des mots avec celles qui sont prédites par la loi de Zipf."
   ]
  },
  {
   "cell_type": "code",
   "execution_count": 43,
   "metadata": {},
   "outputs": [
    {
     "name": "stdout",
     "output_type": "stream",
     "text": [
      "2min progress: 99%\n",
      "\n",
      "====================================================================================================\n",
      "Zipf\n",
      "==================================================================================================== \n",
      "\n",
      "Estimated alpha: 1.0000\n",
      "Estimated k: 47752.4394\n",
      "\n",
      "====================================================================================================\n",
      "LINEAR\n",
      "==================================================================================================== \n",
      "\n",
      "Estimated alpha: 1.3309\n",
      "Estimated k: 1111077.4750\n",
      "\n",
      "====================================================================================================\n",
      "Using first point\n",
      "==================================================================================================== \n",
      "\n",
      "Estimated alpha: 1.6618\n",
      "Estimated k: 10464\n",
      "\n",
      "====================================================================================================\n",
      "MEAN\n",
      "==================================================================================================== \n",
      "\n",
      "Estimated alpha: 1.6618\n",
      "Estimated k: 28935528.8903\n",
      "\n",
      "====================================================================================================\n",
      "MEDIAN\n",
      "==================================================================================================== \n",
      "\n",
      "Estimated alpha: 1.6618\n",
      "Estimated k: 26035754.9282\n"
     ]
    },
    {
     "data": {
      "image/png": "[encoded data removed]",
      "text/plain": [
       "<Figure size 1000x600 with 1 Axes>"
      ]
     },
     "metadata": {},
     "output_type": "display_data"
    }
   ],
   "source": [
    "import numpy as np\n",
    "\n",
    "frequencies = sorted(vocab.values(), reverse=True)\n",
    "ranks = np.arange(1, len(frequencies) + 1)\n",
    "\n",
    "# Fit the data to a power law\n",
    "fit = powerlaw.Fit(frequencies, discrete=True, verbose=0)\n",
    "\n",
    "# Estimate the exponent\n",
    "alpha_fit = fit.power_law.alpha\n",
    "xmin = int(fit.power_law.xmin)\n",
    "\n",
    "print(xmin)\n",
    "\n",
    "# ============================ Without powerlaw with alpha = 1 ============================\n",
    "\n",
    "print('\\n', '=' * 100, sep='')\n",
    "print('Zipf')\n",
    "print('=' * 100, '\\n')\n",
    "\n",
    "# Calculate K using the assumption that a = 1\n",
    "alpha = 1\n",
    "k = frequencies * (ranks ** alpha) \n",
    "k = k.mean()\n",
    "\n",
    "print(f\"Estimated alpha: {alpha:.4f}\")\n",
    "print(f\"Estimated k: {k:.4f}\")\n",
    "\n",
    "# Calculate the estimated frequencies using a = 1\n",
    "predicted_frequencies_zipf = [k / (r ** (alpha)) for r in ranks]\n",
    "\n",
    "# ============================ Without powerlaw with alpha != 1 (Liner regression) ============================\n",
    "\n",
    "\n",
    "print('\\n', '=' * 100, sep='')\n",
    "print('LINEAR')\n",
    "print('=' * 100, '\\n')\n",
    "\n",
    "x = np.log(np.array(ranks))\n",
    "y = np.log(np.array(frequencies))\n",
    "avg_x = np.mean(x)\n",
    "avg_y = np.mean(y)\n",
    "alpha_linear = -np.sum((x - avg_x) * (y - avg_y)) / np.sum((x - avg_x) ** 2)\n",
    "k = frequencies * (ranks ** alpha_linear)\n",
    "k_linear = k.mean()\n",
    "\n",
    "print(f\"Estimated alpha: {alpha_linear:.4f}\")\n",
    "print(f\"Estimated k: {k_linear:.4f}\")\n",
    "\n",
    "predicted_frequencies_linear = [k_linear / (r ** (alpha_linear)) for r in ranks]\n",
    "\n",
    "\n",
    "# ============================ With powerlaw with alpha != 1 (Using first point) ============================\n",
    "\n",
    "print('\\n', '=' * 100, sep='')\n",
    "print('Using first point')\n",
    "print('=' * 100, '\\n')\n",
    "\n",
    "# Estimate k with first\n",
    "k = frequencies[0] * ranks[0] ** (alpha_fit - 1)\n",
    "\n",
    "print(f\"Estimated alpha: {alpha_fit:.4f}\")\n",
    "print(f\"Estimated k: {k:.0f}\")\n",
    "\n",
    "# Predict frequencies using Zipf's law with the fitted alpha\n",
    "predicted_frequencies_first = [k / (r ** (alpha_fit - 1)) for r in ranks]\n",
    "\n",
    "# ============================ With powerlaw with alpha != 1 (Average K) ============================\n",
    "\n",
    "print('\\n', '=' * 100, sep='')\n",
    "print('MEAN')\n",
    "print('=' * 100, '\\n')\n",
    "\n",
    "k_mean = np.array(\n",
    "    [frequency*(rank**alpha_fit) for frequency, rank in zip(frequencies[xmin:], ranks[xmin:])]\n",
    ").mean()\n",
    "\n",
    "predicted_frequencies_mean = [k_mean / (r ** (alpha_fit)) for r in ranks]\n",
    "print(f\"Estimated alpha: {alpha_fit:.4f}\")\n",
    "print(f\"Estimated k: {k_mean:.4f}\")\n",
    "\n",
    "# ============================ With powerlaw with alpha != 1 (Median K) ============================\n",
    "\n",
    "print('\\n', '=' * 100, sep='')\n",
    "print('MEDIAN')\n",
    "print('=' * 100, '\\n')\n",
    "\n",
    "k_median = np.median(np.array(\n",
    "    [frequency*(rank**alpha_fit) for frequency, rank in zip(frequencies[xmin:], ranks[xmin:])]\n",
    "))\n",
    "\n",
    "predicted_frequencies_median = [k_median / (r ** (alpha_fit)) for r in ranks]\n",
    "print(f\"Estimated alpha: {alpha_fit:.4f}\")\n",
    "print(f\"Estimated k: {k_median:.4f}\")\n",
    "\n",
    "# ============================ Show frequencies ============================\n",
    "\n",
    "plt.figure(figsize=(10, 6))\n",
    "plt.loglog(ranks, frequencies, 'b.', label='Actual frequencies')\n",
    "plt.loglog(ranks, predicted_frequencies_zipf, 'lightgreen', label=f'Predicted frequencies (alpha = {1})')\n",
    "plt.loglog(ranks, predicted_frequencies_linear, 'brown', label=f'Predicted frequencies (alpha = {alpha_linear:.2f}, linear regression)')\n",
    "plt.loglog(ranks, predicted_frequencies_first, 'r', label=f'Predicted frequencies (alpha = {alpha_fit:.2f}, first point)')\n",
    "plt.loglog(ranks, predicted_frequencies_mean, 'y', label=f'Predicted frequencies (alpha = {alpha_fit:.2f}, mean)')\n",
    "plt.loglog(ranks, predicted_frequencies_median, 'pink', label=f'Predicted frequencies (alpha = {alpha_fit:.2f}, median)')\n",
    "plt.xlabel('Rank')\n",
    "plt.ylabel('Frequency')\n",
    "plt.legend()\n",
    "plt.title('Actual vs Predicted Word Frequencies (Top 100 Words)')\n",
    "plt.show()\n"
   ]
  },
  {
   "cell_type": "markdown",
   "metadata": {
    "id": "pdxcQdRJ818T"
   },
   "source": [
    "#### 2.2  Création d’un modèle sac de mots (10 points)"
   ]
  },
  {
   "cell_type": "markdown",
   "metadata": {},
   "source": [
    "##### 2.2.1 Répresentation de texte (5 points)\n",
    "\n",
    "En utilisant sklearn et à partir de vos données pré-traitées (\"_claims_preprocessed_\", \"_titles_preprocessed_\", \"_abstracts_preprocessed_\" et \"_texts_preprocessed_\"), représentez chaque affirmation (_claim_) et document avec le vocabulaire créé 'précédemment dans la variables \"_claims_preprocessed_joined\", \"_titles_preprocessed_joined_\", \"_abstract_preprocessed_joined_\" et \"_texts_preprocessed_joined_\". Cela veut dire que tout jeton qui n'est pas dans le vocabulaire doit être enlevé dans le document et l'affirmation. Faites cela pour les trois possibilités de représentation de document: \"_title_\", \"_abstract_\" et \"_text_\"."
   ]
  },
  {
   "cell_type": "code",
   "execution_count": 94,
   "metadata": {
    "id": "NKJxoJSwBovJ"
   },
   "outputs": [
    {
     "name": "stderr",
     "output_type": "stream",
     "text": [
      "100%|██████████| 809/809 [00:00<00:00, 428974.96it/s]\n",
      "100%|██████████| 5183/5183 [00:00<00:00, 62764.22it/s]\n",
      "100%|██████████| 5183/5183 [00:00<00:00, 678392.19it/s]\n",
      "100%|██████████| 5183/5183 [00:00<00:00, 65132.50it/s]\n"
     ]
    }
   ],
   "source": [
    "\"\"\"\n",
    "  On utilise les ensembles pré-traités et on ne conserve que les\n",
    "  jetons appartenant au vocabulaire.\n",
    "\"\"\"\n",
    "# Pretraitement pour les claims\n",
    "claims_preprocessed_joined = []\n",
    "for claim_tokens in tqdm(claims_preprocessed):\n",
    "  claims_preprocessed_joined.append(\" \".join([token for token in claim_tokens if token in vocab]))\n",
    "\n",
    "\n",
    "# Pretraitement pour les documents ('title', 'abstract' ou 'text')\n",
    "texts_preprocessed_joined = []\n",
    "for text_tokens in tqdm(texts_preprocessed):\n",
    "  texts_preprocessed_joined.append(\" \".join([token for token in text_tokens if token in vocab]))\n",
    "  \n",
    "titles_preprocessed_joined = []\n",
    "for title_tokens in tqdm(titles_preprocessed):\n",
    "  titles_preprocessed_joined.append(\" \".join([token for token in title_tokens if token in vocab]))\n",
    "\n",
    "abstracts_preprocessed_joined = []\n",
    "for abstract_tokens in tqdm(abstracts_preprocessed):\n",
    "  abstracts_preprocessed_joined.append(\" \".join([token for token in abstract_tokens if token in vocab]))"
   ]
  },
  {
   "cell_type": "markdown",
   "metadata": {},
   "source": [
    "##### 2.2.2 Pondération (4 points)\n",
    "\n",
    "En utilisant un modèle sac de mots basé sur des unigrammes et des bigrammes, créez une représentation vectorielle de vos documents (titles, abstracts, texts) et de vos affirmations (claims) avec TF-IDF en utilisant le TfidfVectorizer de sklearn. "
   ]
  },
  {
   "cell_type": "code",
   "execution_count": 95,
   "metadata": {},
   "outputs": [],
   "source": [
    "#  On procède par la transformation des ensembles en sac de mots pondérés.\n",
    "vectorizer  = TfidfVectorizer(ngram_range=(1,2))  \n",
    "vectorizer.fit(texts_preprocessed_joined + claims_preprocessed_joined)\n",
    "\n",
    "final_claims = vectorizer.transform(claims_preprocessed_joined)\n",
    "final_texts = vectorizer.transform(texts_preprocessed_joined)\n",
    "final_titles = vectorizer.transform(titles_preprocessed_joined)\n",
    "final_abstracts = vectorizer.transform(abstracts_preprocessed_joined)"
   ]
  },
  {
   "cell_type": "markdown",
   "metadata": {},
   "source": [
    "##### 2.2.3 Affichage (1 point)\n",
    "\n",
    "Affichez les dimensions (shape) de vos corpus (claims, text, title, abstract) après vectorisation"
   ]
  },
  {
   "cell_type": "code",
   "execution_count": 96,
   "metadata": {},
   "outputs": [
    {
     "name": "stdout",
     "output_type": "stream",
     "text": [
      "(809, 473643)\n"
     ]
    }
   ],
   "source": [
    "print(final_claims.shape)"
   ]
  },
  {
   "cell_type": "markdown",
   "metadata": {},
   "source": [
    "Sortie attendue pour \"_claims_\"\n",
    "```\n",
    "(809, 473643)\n",
    "```"
   ]
  },
  {
   "cell_type": "code",
   "execution_count": 97,
   "metadata": {},
   "outputs": [
    {
     "name": "stdout",
     "output_type": "stream",
     "text": [
      "(5183, 473643)\n"
     ]
    }
   ],
   "source": [
    "print(final_texts.shape)"
   ]
  },
  {
   "cell_type": "markdown",
   "metadata": {},
   "source": [
    "Sortie attendue pour \"_texts_\"\n",
    "```\n",
    "(5183, 473643)\n",
    "```"
   ]
  },
  {
   "cell_type": "code",
   "execution_count": 98,
   "metadata": {},
   "outputs": [
    {
     "name": "stdout",
     "output_type": "stream",
     "text": [
      "(5183, 473643)\n"
     ]
    }
   ],
   "source": [
    "print(final_titles.shape)"
   ]
  },
  {
   "cell_type": "markdown",
   "metadata": {},
   "source": [
    "Sortie attendue pour \"_titles_\"\n",
    "```\n",
    "(5183, 473643)\n",
    "```"
   ]
  },
  {
   "cell_type": "code",
   "execution_count": 99,
   "metadata": {},
   "outputs": [
    {
     "name": "stdout",
     "output_type": "stream",
     "text": [
      "(5183, 473643)\n"
     ]
    }
   ],
   "source": [
    "print(final_abstracts.shape)"
   ]
  },
  {
   "cell_type": "markdown",
   "metadata": {},
   "source": [
    "Sortie attendue pour abstracts\n",
    "```\n",
    "(5183, 473643)"
   ]
  },
  {
   "cell_type": "markdown",
   "metadata": {
    "id": "sMrNWcxL9QNF"
   },
   "source": [
    "#### 2.3 Pertinence d'un document (20 points)"
   ]
  },
  {
   "cell_type": "markdown",
   "metadata": {},
   "source": [
    "Maintenant que vous avez une représentation de vos affirmations \"_claims_\" et documents (\"_texts_\", \"_titles_\", \"_abstracts_\"), il faut être capable de déterminer quel document sera le plus pertinent pour une affirmation donnée."
   ]
  },
  {
   "cell_type": "markdown",
   "metadata": {
    "id": "3AsiWH2O9XKD"
   },
   "source": [
    "##### 2.3.1 Implémentation de \"_eval_similarity_\" (3 points)\n",
    "\n",
    "Implémentez la fonction \"_eval_similarity_\" pour évaluer la similarité cosinus entre la représentation de l'affirmation et celle de chaque document. La fonction prend une liste d'affirmations et une liste de documents et retourne une matrice où chaque ligne représente une affirmation et chaque colonne représente un document (\"title\", \"abstract\" ou \"text\") et les valeurs sont les similarités cosinus entre une affirmation et un document."
   ]
  },
  {
   "cell_type": "code",
   "execution_count": 100,
   "metadata": {},
   "outputs": [],
   "source": [
    "# Fonction de calcul de la similarite cosinus\n",
    "def eval_similarity(claims, texts):\n",
    "    similarities = cosine_similarity(claims, texts)\n",
    "    return similarities"
   ]
  },
  {
   "cell_type": "markdown",
   "metadata": {
    "id": "5_gDSgTv9fCu"
   },
   "source": [
    "##### 2.3.2 Implémentation de la fonction \"_rank_texts_\" (2 points)\n",
    "\n",
    "Implémentez la fonction \"_rank_texts_\", qui, au moyen de la précédente (_eval_similarity_), retourne le top-N (N=1,3,5) des documents pertinents pour une affirmation donnée (N est un paramètre). Ces documents devront être ordonnés du plus pertinent au moins pertinent. Idéalement, le document à la position 1 sera celui qui contient la preuve (ou justification) de l'affirmation. Il faudra retourner non pas les indices des documents dans le dataframe mais plutôt leur identifiants au niveau de la colonne \"_doc_id_\"."
   ]
  },
  {
   "cell_type": "code",
   "execution_count": 101,
   "metadata": {},
   "outputs": [],
   "source": [
    "# Fonction pour retourner les top-N \"documents\" les plus pertinents à un ensemble de \"claims\".\n",
    "def rank_texts(claims, corpus, df_corpus: pd.DataFrame, N: int):\n",
    "    similarities = eval_similarity(claims, corpus)\n",
    "    indexes = np.argsort(-similarities, axis=1)[:, :N]\n",
    "    \n",
    "    # Mapper les indices aux \"doc_id\" à partir de df_corpus\n",
    "    doc_ids = df_corpus['doc_id'].values \n",
    "    results = np.array([doc_ids[row_indexes] for row_indexes in indexes])\n",
    "    \n",
    "    return results"
   ]
  },
  {
   "cell_type": "markdown",
   "metadata": {},
   "source": [
    "##### 2.3.3 Préparation des dataframes de réponses (1 point) \n",
    "\n",
    "Vous allez écrire la fonction \"prepare_results_df\" qui crée les dataframes qui vont contenir les résultats de la recherche de documents pertinents pour les affirmations.\n",
    "\n",
    "La fonction \"prepare_results_df\" prend les arguments suivants:\n",
    "\n",
    "- '_df_': le dataframe original nommé '_df_claims_' à partir duquel on crée les autres, \n",
    "- '_columns_to_drop_': les colonnes à supprimer \n",
    "- '_column_to_rename_': le nom de la colonne de référence dans le dataframe original qui sera renommée \"gold standard passage\"\n",
    "\n",
    "et effectue les opérations suivantes:\n",
    "\n",
    "1. Créer un nouveau dataframe à partir de \"_df_claims_\" en supprimant toutes les colonnes sauf \"cited_doc_ids\".\n",
    "2. Renommer la colonne \"cited_doc_ids\" en \"gold standard passage\".\n",
    "3. Ajouter les colonnes \"top_1\", \"top_3\", et \"top_5\" au dataframe, \n",
    "en les initialisant avec des chaînes de zéros séparés par des points-\n",
    "virgules, correspondant respectivement à des configurations de 1, 3, et \n",
    "5 zéros pour toutes les lignes.\n",
    "\n",
    "Vous utiliserez ensuite cette fonction pour créer les dataframes \"results_titles_df\", \"results_abstracts_df\" et \"results_texts_df\", qui seront destinés à contenir les résultats de recherche de documents pour \"title\", \"abstract\" et \"text\" respectivement."
   ]
  },
  {
   "cell_type": "code",
   "execution_count": 102,
   "metadata": {},
   "outputs": [],
   "source": [
    "def prepare_results_df(df, columns_to_drop, column_to_rename):\n",
    "    results_df = df.drop(columns_to_drop, axis=1).rename(columns={column_to_rename: \"gold standard passage\"})\n",
    "    for top_n in [1, 3, 5]:\n",
    "        results_df[f\"top_{top_n}\"] = [\";\".join([\"0\"] * top_n)] * results_df.shape[0]\n",
    "    return results_df\n",
    "\n",
    "columns_to_drop = [\"claim\", \"evidence\", \"claim_length\", \"num_cited_doc\"]\n",
    "column_to_rename = \"cited_doc_ids\"\n",
    "\n",
    "results_titles_df    = prepare_results_df(df_claims, columns_to_drop, column_to_rename)\n",
    "results_abstracts_df = prepare_results_df(df_claims, columns_to_drop, column_to_rename)\n",
    "results_texts_df     = prepare_results_df(df_claims, columns_to_drop, column_to_rename)"
   ]
  },
  {
   "cell_type": "markdown",
   "metadata": {},
   "source": [
    "> Sortie attendue pour chaque dataframe préparé\n",
    "<div>\n",
    "<style scoped>\n",
    "    .dataframe tbody tr th:only-of-type {\n",
    "        vertical-align: middle;\n",
    "    }\n",
    "\n",
    "    .dataframe tbody tr th {\n",
    "        vertical-align: top;\n",
    "    }\n",
    "\n",
    "    .dataframe thead th {\n",
    "        text-align: right;\n",
    "    }\n",
    "</style>\n",
    "<table border=\"1\" class=\"dataframe\">\n",
    "  <thead>\n",
    "    <tr style=\"text-align: right;\">\n",
    "      <th></th>\n",
    "      <th>id</th>\n",
    "      <th>gold standard passage</th>\n",
    "      <th>top_1</th>\n",
    "      <th>top_3</th>\n",
    "      <th>top_5</th>\n",
    "    </tr>\n",
    "  </thead>\n",
    "  <tbody>\n",
    "    <tr>\n",
    "      <th>0</th>\n",
    "      <td>0</td>\n",
    "      <td>[31715818]</td>\n",
    "      <td>0</td>\n",
    "      <td>0;0;0</td>\n",
    "      <td>0;0;0;0;0</td>\n",
    "    </tr>\n",
    "    <tr>\n",
    "      <th>1</th>\n",
    "      <td>2</td>\n",
    "      <td>[13734012]</td>\n",
    "      <td>0</td>\n",
    "      <td>0;0;0</td>\n",
    "      <td>0;0;0;0;0</td>\n",
    "    </tr>\n",
    "    <tr>\n",
    "      <th>2</th>\n",
    "      <td>4</td>\n",
    "      <td>[22942787]</td>\n",
    "      <td>0</td>\n",
    "      <td>0;0;0</td>\n",
    "      <td>0;0;0;0;0</td>\n",
    "    </tr>\n",
    "  </tbody>\n",
    "</table>\n",
    "</div>"
   ]
  },
  {
   "cell_type": "markdown",
   "metadata": {},
   "source": [
    "##### 2.3.4 Implémentation de la fonction \"_fill_results_\" (2 points)\n",
    "\n",
    "Vous devez maintenant implémenter la fonction \"_fill_results_\" qui remplit les dataframes préparés dans l'étape précédente en utilisant les resultats de recherche de document.\n",
    "Cette fonction prend les arguments suivant: \n",
    "- \"_results_\" : matrice contenant les valeurs de similarite des affirmations et des documents\n",
    "- \"_results_texts_df_\" : Dataframe contenant les affirmations ainsi que les colonnes \"top_1\", \"top_3\", \"top_5\" où doivent être mis les top-n documents les plus pertinents.\n",
    "\n",
    "Les deux arguments contiennent le même nombre d'éléments et pour le même indice, font référence à la même affirmation."
   ]
  },
  {
   "cell_type": "code",
   "execution_count": 103,
   "metadata": {},
   "outputs": [],
   "source": [
    "# Fonction pour créer un dataframe contenant les resultats à des fins de facilité d'évaluation des résulats\n",
    "\n",
    "def fill_results(results, results_texts_df):\n",
    "    \"\"\"\n",
    "    - results               : matrice contenant les valeurs de similarite des affirmations et des documents\n",
    "    - results_texts_df      : Dataframe contenant les affirmations ainsi que les colonnes \"top_1\", \"top_3\", \"top_5\" \n",
    "    oú doivent être mis les top-n documents les plus similaires. \n",
    "    Les deux arguments contiennent le même nombre de d'éléments et pour le même indice, font référence à la même affirmation.\n",
    "    \"\"\"\n",
    "    for i, result in enumerate(tqdm(results)):\n",
    "        # Modifier ici pour limiter les colonnes traitées\n",
    "        for col in [col for col in results_texts_df.columns[-4:] if 'top_' in col]:\n",
    "            try:\n",
    "                results_texts_df.loc[i, col] = \";\".join(result[:int(col[4:])].astype(int).astype(str))\n",
    "            except Exception as e:\n",
    "                print(f\"Error processing row {i}, column {col}: {e}\")"
   ]
  },
  {
   "cell_type": "markdown",
   "metadata": {
    "id": "EqRUGA9D9xoI"
   },
   "source": [
    "##### 2.3.5 Exécution des fonctions \"_rank_texts_\" et fill_results(2 points)\n",
    "\n",
    "Exécutez maintenant votre fonction \"_rank_texts_\" sur toutes les affirmations (claims) et toutes les représentations de documents (title, abstract, text) en mettant les résultats dans les variables \"results_texts\", \"results_titles\" et \"results_abstracts\". Ensuite appelez la fonction \"_fill_results_\" qui remplit les dataframes \"_results_titles_df_\", \"_results_abstracts_df_\", et \"_results_texts_df_\" contenant les résultats de recheche de documents."
   ]
  },
  {
   "cell_type": "code",
   "execution_count": 104,
   "metadata": {},
   "outputs": [
    {
     "name": "stderr",
     "output_type": "stream",
     "text": [
      "100%|██████████| 809/809 [00:00<00:00, 5070.06it/s]\n",
      "100%|██████████| 809/809 [00:00<00:00, 6432.13it/s]\n",
      "100%|██████████| 809/809 [00:00<00:00, 6427.17it/s]\n"
     ]
    }
   ],
   "source": [
    "results_texts = rank_texts(final_claims, final_texts,df_corpus, 5)\n",
    "fill_results(results_texts, results_texts_df)\n",
    "\n",
    "results_titles = rank_texts(final_claims, final_titles,df_corpus, 5)\n",
    "fill_results(results_titles, results_titles_df)\n",
    "\n",
    "results_abstracts = rank_texts(final_claims, final_abstracts,df_corpus, 5)\n",
    "fill_results(results_abstracts, results_abstracts_df)"
   ]
  },
  {
   "cell_type": "code",
   "execution_count": 105,
   "metadata": {},
   "outputs": [
    {
     "data": {
      "text/html": [
       "<div>\n",
       "<style scoped>\n",
       "    .dataframe tbody tr th:only-of-type {\n",
       "        vertical-align: middle;\n",
       "    }\n",
       "\n",
       "    .dataframe tbody tr th {\n",
       "        vertical-align: top;\n",
       "    }\n",
       "\n",
       "    .dataframe thead th {\n",
       "        text-align: right;\n",
       "    }\n",
       "</style>\n",
       "<table border=\"1\" class=\"dataframe\">\n",
       "  <thead>\n",
       "    <tr style=\"text-align: right;\">\n",
       "      <th></th>\n",
       "      <th>id</th>\n",
       "      <th>gold standard passage</th>\n",
       "      <th>top_1</th>\n",
       "      <th>top_3</th>\n",
       "      <th>top_5</th>\n",
       "    </tr>\n",
       "  </thead>\n",
       "  <tbody>\n",
       "    <tr>\n",
       "      <th>0</th>\n",
       "      <td>0</td>\n",
       "      <td>[31715818]</td>\n",
       "      <td>10608397</td>\n",
       "      <td>10608397;42421723;10607877</td>\n",
       "      <td>10608397;42421723;10607877;21257564;35008773</td>\n",
       "    </tr>\n",
       "    <tr>\n",
       "      <th>1</th>\n",
       "      <td>2</td>\n",
       "      <td>[13734012]</td>\n",
       "      <td>13734012</td>\n",
       "      <td>13734012;17333231;13770184</td>\n",
       "      <td>13734012;17333231;13770184;42240424;3716075</td>\n",
       "    </tr>\n",
       "    <tr>\n",
       "      <th>2</th>\n",
       "      <td>4</td>\n",
       "      <td>[22942787]</td>\n",
       "      <td>7165938</td>\n",
       "      <td>7165938;1387104;520579</td>\n",
       "      <td>7165938;1387104;520579;10958594;52188256</td>\n",
       "    </tr>\n",
       "    <tr>\n",
       "      <th>3</th>\n",
       "      <td>6</td>\n",
       "      <td>[2613775]</td>\n",
       "      <td>23117378</td>\n",
       "      <td>23117378;2613775;21050357</td>\n",
       "      <td>23117378;2613775;21050357;20240998;35521287</td>\n",
       "    </tr>\n",
       "    <tr>\n",
       "      <th>4</th>\n",
       "      <td>9</td>\n",
       "      <td>[44265107]</td>\n",
       "      <td>44265107</td>\n",
       "      <td>44265107;24700152;14647747</td>\n",
       "      <td>44265107;24700152;14647747;26105746;25182647</td>\n",
       "    </tr>\n",
       "    <tr>\n",
       "      <th>...</th>\n",
       "      <td>...</td>\n",
       "      <td>...</td>\n",
       "      <td>...</td>\n",
       "      <td>...</td>\n",
       "      <td>...</td>\n",
       "    </tr>\n",
       "    <tr>\n",
       "      <th>804</th>\n",
       "      <td>1403</td>\n",
       "      <td>[33370, 38355793]</td>\n",
       "      <td>33370</td>\n",
       "      <td>33370;38355793;45764440</td>\n",
       "      <td>33370;38355793;45764440;40412980;7986878</td>\n",
       "    </tr>\n",
       "    <tr>\n",
       "      <th>805</th>\n",
       "      <td>1404</td>\n",
       "      <td>[33370, 38355793]</td>\n",
       "      <td>38355793</td>\n",
       "      <td>38355793;33370;45764440</td>\n",
       "      <td>38355793;33370;45764440;40412980;7986878</td>\n",
       "    </tr>\n",
       "    <tr>\n",
       "      <th>806</th>\n",
       "      <td>1405</td>\n",
       "      <td>[10504681]</td>\n",
       "      <td>20402596</td>\n",
       "      <td>20402596;10504681;38675228</td>\n",
       "      <td>20402596;10504681;38675228;5849439;14926162</td>\n",
       "    </tr>\n",
       "    <tr>\n",
       "      <th>807</th>\n",
       "      <td>1406</td>\n",
       "      <td>[2617858]</td>\n",
       "      <td>2617858</td>\n",
       "      <td>2617858;4465762;4857085</td>\n",
       "      <td>2617858;4465762;4857085;10577574;13963620</td>\n",
       "    </tr>\n",
       "    <tr>\n",
       "      <th>808</th>\n",
       "      <td>1407</td>\n",
       "      <td>[8087082, 29863668]</td>\n",
       "      <td>3801693</td>\n",
       "      <td>3801693;16090672;4820792</td>\n",
       "      <td>3801693;16090672;4820792;30224907;7549811</td>\n",
       "    </tr>\n",
       "  </tbody>\n",
       "</table>\n",
       "<p>809 rows × 5 columns</p>\n",
       "</div>"
      ],
      "text/plain": [
       "       id gold standard passage     top_1                       top_3  \\\n",
       "0       0            [31715818]  10608397  10608397;42421723;10607877   \n",
       "1       2            [13734012]  13734012  13734012;17333231;13770184   \n",
       "2       4            [22942787]   7165938      7165938;1387104;520579   \n",
       "3       6             [2613775]  23117378   23117378;2613775;21050357   \n",
       "4       9            [44265107]  44265107  44265107;24700152;14647747   \n",
       "..    ...                   ...       ...                         ...   \n",
       "804  1403     [33370, 38355793]     33370     33370;38355793;45764440   \n",
       "805  1404     [33370, 38355793]  38355793     38355793;33370;45764440   \n",
       "806  1405            [10504681]  20402596  20402596;10504681;38675228   \n",
       "807  1406             [2617858]   2617858     2617858;4465762;4857085   \n",
       "808  1407   [8087082, 29863668]   3801693    3801693;16090672;4820792   \n",
       "\n",
       "                                            top_5  \n",
       "0    10608397;42421723;10607877;21257564;35008773  \n",
       "1     13734012;17333231;13770184;42240424;3716075  \n",
       "2        7165938;1387104;520579;10958594;52188256  \n",
       "3     23117378;2613775;21050357;20240998;35521287  \n",
       "4    44265107;24700152;14647747;26105746;25182647  \n",
       "..                                            ...  \n",
       "804      33370;38355793;45764440;40412980;7986878  \n",
       "805      38355793;33370;45764440;40412980;7986878  \n",
       "806   20402596;10504681;38675228;5849439;14926162  \n",
       "807     2617858;4465762;4857085;10577574;13963620  \n",
       "808     3801693;16090672;4820792;30224907;7549811  \n",
       "\n",
       "[809 rows x 5 columns]"
      ]
     },
     "execution_count": 105,
     "metadata": {},
     "output_type": "execute_result"
    }
   ],
   "source": [
    "results_texts_df "
   ]
  },
  {
   "cell_type": "markdown",
   "metadata": {},
   "source": [
    "##### 2.3.6 Enregistrement des dataframes \n",
    "\n",
    "On enregistre les dataframes dans des fichiers .csv."
   ]
  },
  {
   "cell_type": "code",
   "execution_count": 106,
   "metadata": {},
   "outputs": [],
   "source": [
    "results_texts_df.to_csv(\"results_texts.csv\", index=False)\n",
    "results_titles_df.to_csv(\"results_titles.csv\", index=False)\n",
    "results_abstracts_df.to_csv(\"results_abstracts.csv\", index=False)"
   ]
  },
  {
   "cell_type": "markdown",
   "metadata": {
    "id": "4qWHRy8oZvOt"
   },
   "source": [
    "##### 2.3.7 Implémentation de la fonction \"_show_top_n_passages_\" (3 points)\n",
    "\n",
    "Vous devez maintenant implémenter une fonction \"_show_top_n_passages_\" qui affiche le top-n ainsi que le texte (document) attendu pour une affirmation donnée. Ici on considère que document est representé par \"_text_\" donc la fusion du titre (\"_title_\") et du résumé (\"_abstract_\")"
   ]
  },
  {
   "cell_type": "code",
   "execution_count": 107,
   "metadata": {
    "id": "-l9sKrgC-Sq7"
   },
   "outputs": [],
   "source": [
    "def show_top_n_passages(example_id, results, df_corpus, n):\n",
    "    \"\"\"\n",
    "    Affiche les top_n passages les plus similaires d'une affirmation\n",
    "\n",
    "    example_id  : Id de l'affirmation\n",
    "    results     : Dataframe contenant les résultats de prédictions\n",
    "    df_corpus   : Corpus de documents contenant les documents ainsi que leur id respectifs\n",
    "    n           : Nombre de documents à afficher\n",
    "    \"\"\"\n",
    "    print(\"claim:\", df_claims[\"claim\"].values[example_id])\n",
    "    print(\"~\"*100)\n",
    "    print(df_claims[\"id\"].values[example_id])\n",
    "    correct_ids  = df_claims[\"cited_doc_ids\"].values[example_id]\n",
    "    print(f\"correct_ids for the texts: {correct_ids}\")\n",
    "    print(\"~\"*100)\n",
    "\n",
    "    for i, correct_id in enumerate(correct_ids):\n",
    "        print(\"Expected text \", i+1, \": \", df_corpus.loc[df_corpus[\"doc_id\"] == correct_id, 'text'].iloc[0])\n",
    "    print(\"~\"*100)\n",
    "\n",
    "    ids = results[example_id]\n",
    "    print(f\"Predicted texts ids for the claim: {ids}\")\n",
    "    # print(len(ids), corpus_df.shape[0])\n",
    "    for i, id in enumerate(ids[:n]):\n",
    "        text = df_corpus.loc[df_corpus[\"doc_id\"] == id, 'text'].iloc[0]\n",
    "        for correct_id in correct_ids:\n",
    "            if correct_id == id:\n",
    "                print(\"***\", end=\"\")\n",
    "            else:\n",
    "                print(\"   \", end=\"\")\n",
    "        print(f\"Top-{i+1} -->\", text)\n",
    "        print()\n",
    "    print(\"~\"*100)\n",
    "\n",
    "    rangs = [i+1 for i, elem in enumerate(ids) if elem in correct_ids]\n",
    "    if not rangs:\n",
    "        print(f\"L'affirmation ne correspond à aucun des top-{n} textes retrouvés\")\n",
    "    else:\n",
    "        print(f\"L'affirmation correspond au documment de rang {rangs[0]} parmi les top-{n} textes retrouvés\")"
   ]
  },
  {
   "cell_type": "markdown",
   "metadata": {},
   "source": [
    "##### 2.3.8 Affichage (1 point)\n",
    "\n",
    "Appliquez cette fonction sur l'affirmation ayant pour identifiant 211 et affichez le top-5 des documents les plus pertinents retrouvés."
   ]
  },
  {
   "cell_type": "code",
   "execution_count": 108,
   "metadata": {},
   "outputs": [
    {
     "name": "stdout",
     "output_type": "stream",
     "text": [
      "ID of the claim picked: 125\n",
      "claim: COPI coatmer is involved in viral replication.\n",
      "~~~~~~~~~~~~~~~~~~~~~~~~~~~~~~~~~~~~~~~~~~~~~~~~~~~~~~~~~~~~~~~~~~~~~~~~~~~~~~~~~~~~~~~~~~~~~~~~~~~~\n",
      "211\n",
      "correct_ids for the texts: [13794374]\n",
      "~~~~~~~~~~~~~~~~~~~~~~~~~~~~~~~~~~~~~~~~~~~~~~~~~~~~~~~~~~~~~~~~~~~~~~~~~~~~~~~~~~~~~~~~~~~~~~~~~~~~\n",
      "Expected text  1 :  COPI Complex Is a Regulator of Lipid Homeostasis Lipid droplets are ubiquitous triglyceride and sterol ester storage organelles required for energy storage homeostasis and biosynthesis. Although little is known about lipid droplet formation and regulation, it is clear that members of the PAT (perilipin, adipocyte differentiation related protein, tail interacting protein of 47 kDa) protein family coat the droplet surface and mediate interactions with lipases that remobilize the stored lipids. We identified key Drosophila candidate genes for lipid droplet regulation by RNA interference (RNAi) screening with an image segmentation-based optical read-out system, and show that these regulatory functions are conserved in the mouse. Those include the vesicle-mediated Coat Protein Complex I (COPI) transport complex, which is required for limiting lipid storage. We found that COPI components regulate the PAT protein composition at the lipid droplet surface, and promote the association of adipocyte triglyceride lipase (ATGL) with the lipid droplet surface to mediate lipolysis. Two compounds known to inhibit COPI function, Exo1 and Brefeldin A, phenocopy COPI knockdowns. Furthermore, RNAi inhibition of ATGL and simultaneous drug treatment indicate that COPI and ATGL function in the same pathway. These data indicate that the COPI complex is an evolutionarily conserved regulator of lipid homeostasis, and highlight an interaction between vesicle transport systems and lipid droplets.\n",
      "~~~~~~~~~~~~~~~~~~~~~~~~~~~~~~~~~~~~~~~~~~~~~~~~~~~~~~~~~~~~~~~~~~~~~~~~~~~~~~~~~~~~~~~~~~~~~~~~~~~~\n",
      "Predicted texts ids for the claim: [14019636 44737533  6290112 20261352  5137019]\n",
      "   Top-1 --> Ribosomal DNA copy number loss and sequence variation in cancer Ribosomal DNA is one of the most variable regions in the human genome with respect to copy number. Despite the importance of rDNA for cellular function, we know virtually nothing about what governs its copy number, stability, and sequence in the mammalian genome due to challenges associated with mapping and analysis. We applied computational and droplet digital PCR approaches to measure rDNA copy number in normal and cancer states in human and mouse genomes. We find that copy number and sequence can change in cancer genomes. Counterintuitively, human cancer genomes show a loss of copies, accompanied by global copy number co-variation. The sequence can also be more variable in the cancer genome. Cancer genomes with lower copies have mutational evidence of mTOR hyperactivity. The PTEN phosphatase is a tumor suppressor that is critical for genome stability and a negative regulator of the mTOR kinase pathway. Surprisingly, but consistent with the human cancer genomes, hematopoietic cancer stem cells from a Pten-/- mouse model for leukemia have lower rDNA copy number than normal tissue, despite increased proliferation, rRNA production, and protein synthesis. Loss of copies occurs early and is associated with hypersensitivity to DNA damage. Therefore, copy loss is a recurrent feature in cancers associated with mTOR activation. Ribosomal DNA copy number may be a simple and useful indicator of whether a cancer will be sensitive to DNA damaging treatments.\n",
      "\n",
      "   Top-2 --> Simian immunodeficiency viruses replication dynamics in African non-human primate hosts: common patterns and species-specific differences. METHODS To define potential common features of simian immunodeficiency virus (SIV) infections in different naturally infected host species, we compared the dynamics of viral replication in 31 African green monkeys (10 sabeus, 15 vervets and seven Caribbean AGMs), 14 mandrills and three sooty mangabeys (SMs) that were experimentally infected with their species-specific viruses.   RESULTS After infection, these SIVs replicated rapidly reaching viral loads (VLs) of 10(5)-10(9) copies/ml of plasma between days 9-14 post-infection (p.i). Set point viremia was established between days 42 and 60 p.i., with levels of approximately 10(5)-10(6) copies/ml in SM and mandrills, and lower levels (10(3)-10(5) copies/ml) in AGMs. VL during the chronic phase did not correlate with viral genome structure: SIVmnd-2 (a vpx-containing virus) and SIVmnd-1 (which does not contain vpu or vpx) replicated to similar levels in mandrills. VL was dependent on virus strain: vervets infected with three different viral strains showed different patterns of viral replication. The pattern of viral replication of SIVagm.sab, which uses both CCR5 and CXCR4 co-receptors was similar to those of the other viruses.   CONCLUSIONS Our results show a common pattern of SIV replication in naturally and experimentally infected hosts. This is similar overall to that observed in pathogenic SIV infection of macaques. This result indicates that differences in clinical outcome between pathogenic and non-pathogenic infections rely on host responses rather than the characteristics of the virus itself.\n",
      "\n",
      "   Top-3 --> Low copy number of the salivary amylase gene predisposes to obesity Common multi-allelic copy number variants (CNVs) appear enriched for phenotypic associations compared to their biallelic counterparts. Here we investigated the influence of gene dosage effects on adiposity through a CNV association study of gene expression levels in adipose tissue. We identified significant association of a multi-allelic CNV encompassing the salivary amylase gene (AMY1) with body mass index (BMI) and obesity, and we replicated this finding in 6,200 subjects. Increased AMY1 copy number was positively associated with both amylase gene expression (P = 2.31 × 10(-14)) and serum enzyme levels (P < 2.20 × 10(-16)), whereas reduced AMY1 copy number was associated with increased BMI (change in BMI per estimated copy = -0.15 (0.02) kg/m(2); P = 6.93 × 10(-10)) and obesity risk (odds ratio (OR) per estimated copy = 1.19, 95% confidence interval (CI) = 1.13-1.26; P = 1.46 × 10(-10)). The OR value of 1.19 per copy of AMY1 translates into about an eightfold difference in risk of obesity between subjects in the top (copy number > 9) and bottom (copy number < 4) 10% of the copy number distribution. Our study provides a first genetic link between carbohydrate metabolism and BMI and demonstrates the power of integrated genomic approaches beyond genome-wide association studies.\n",
      "\n",
      "   Top-4 --> Decoupling activation and exhaustion of B cells in spontaneous controllers of HIV infection. OBJECTIVE To define the impact of chronic viremia and associated immune activation on B-cell exhaustion in HIV infection.   DESIGN Progressive HIV infection is marked by B-cell anergy and exhaustion coupled with dramatic hypergammaglobulinemia. Although both upregulation of CD95 and loss of CD21 have been used as markers of infection-associated B-cell dysfunction, little is known regarding the specific profiles of dysfunctional B cells and whether persistent viral replication and its associated immune activation play a central role in driving B-cell dysfunction.   METHODS Multiparameter flow cytometry was used to define the profile of dysfunctional B cells. The changes in the expression of CD21 and CD95 were tracked on B-cell subpopulations in patients with differential control of viral replication.   RESULTS : Although the emergence of exhausted, CD21 tissue-like memory B cells followed similar patterns in both progressors and controllers, the frequency of CD21 activated memory B cells was lower in spontaneous controllers.   CONCLUSION Our results suggest that the loss of CD21 and the upregulation of CD95 occur as separate events during the development of B-cell dysfunction. The loss of CD21 is a marker of B-cell exhaustion induced in the absence of appreciable viral replication, whereas the upregulation of CD95 is tightly linked to persistent viral replication and its associated immune activation. Thus, these dysfunctional profiles potentially represent two functionally distinct states within the B-cell compartment.\n",
      "\n",
      "   Top-5 --> Suppressor of cytokine signaling 3 inhibits antiviral IFN-beta signaling to enhance HIV-1 replication in macrophages. HIV-1 replication within macrophages of the CNS often results in cognitive and motor impairment, which is known as HIV-associated dementia (HAD) in its most severe form. IFN-beta suppresses viral replication within these cells during early CNS infection, but the effect is transient. HIV-1 eventually overcomes this protective innate immune response to resume replication through an unknown mechanism, initiating the progression toward HAD. In this article, we show that Suppressor of Cytokine Signaling (SOCS)3, a molecular inhibitor of IFN signaling, may allow HIV-1 to evade innate immunity within the CNS. We found that SOCS3 is elevated in an in vivo SIV/macaque model of HAD and that the pattern of expression correlates with recurrence of viral replication and onset of CNS disease. In vitro, the HIV-1 regulatory protein transactivator of transcription induces SOCS3 in human and murine macrophages in a NF-kappaB-dependent manner. SOCS3 expression attenuates the response of macrophages to IFN-beta at proximal levels of pathway activation and downstream antiviral gene expression and consequently overcomes the inhibitory effect of IFN-beta on HIV-1 replication. These studies indicate that SOCS3 expression, induced by stimuli present in the HIV-1-infected brain, such as transactivator of transcription, inhibits antiviral IFN-beta signaling to enhance HIV-1 replication in macrophages. This consequence of SOCS3 expression in vitro, supported by a correlation with increased viral load and onset of CNS disease in vivo, suggests that SOCS3 may allow HIV-1 to evade the protective innate immune response within the CNS, allowing the recurrence of viral replication and, ultimately, promoting progression toward HAD.\n",
      "\n",
      "~~~~~~~~~~~~~~~~~~~~~~~~~~~~~~~~~~~~~~~~~~~~~~~~~~~~~~~~~~~~~~~~~~~~~~~~~~~~~~~~~~~~~~~~~~~~~~~~~~~~\n",
      "L'affirmation ne correspond à aucun des top-5 textes retrouvés\n"
     ]
    }
   ],
   "source": [
    "example_id = 125\n",
    "print(f\"ID of the claim picked: {example_id}\")\n",
    "show_top_n_passages(example_id, results_texts, df_corpus, 5)"
   ]
  },
  {
   "cell_type": "markdown",
   "metadata": {},
   "source": [
    "##### 2.3.9 Évaluation (3 points)\n",
    "\n",
    "Vous devez maintenant implémenter la fonction \"_evaluate_\" qui, à partir des colonnes *Gold standard passage* et de vos top-N respectifs, calcule la précision top-N (N=1,3,5) sur l’ensemble de données en paramètre et l’affiche. \n",
    "\n",
    "Cette précision connue sous le nom \"precision at k (precision@k)\" se calcule de la manière suivante:\n",
    "\n",
    "\n",
    "$$\n",
    "\\text{precision@k} = \\frac{\\text{nombre d'éléments corrects}}{\\text{nombre total d'éléments k retrouvés}}\n",
    "$$\n",
    "\n",
    "\n",
    "Veillez à ce que la fonction soit générique. "
   ]
  },
  {
   "cell_type": "code",
   "execution_count": 109,
   "metadata": {},
   "outputs": [],
   "source": [
    "def evaluate(results_texts_df):\n",
    "    precision = {top: 0 for top in results_texts_df.columns[-3:]}\n",
    "    for i in range(results_texts_df.shape[0]):\n",
    "        for top in precision:\n",
    "            # Récupérer la liste des passages corrects pour l'entrée courante\n",
    "            correct_ids = results_texts_df.loc[i, \"gold standard passage\"]\n",
    "            correct_ids = [str(id) for id in correct_ids]\n",
    "\n",
    "            # Récupérer les passages prédits jusqu'à top-k\n",
    "            retrieved = results_texts_df.loc[i, top]\n",
    "            retrieved_ids = str(retrieved).split(\";\") if isinstance(retrieved, str) else [str(retrieved)]\n",
    "\n",
    "            # Calculer le nombre de résultats pertinents parmi les k premiers\n",
    "            relevant_hits = sum(1 for retrieved_id in retrieved_ids if retrieved_id in correct_ids)\n",
    "\n",
    "            # Calculer la précision@k\n",
    "            precision[top] += relevant_hits / len(retrieved_ids) if len(retrieved_ids) > 0 else 0 \n",
    "\n",
    "    # Moyenne sur tous les exemples\n",
    "    for top in precision:\n",
    "        precision[top] = precision[top] / results_texts_df.shape[0]\n",
    "\n",
    "    return precision"
   ]
  },
  {
   "cell_type": "markdown",
   "metadata": {},
   "source": [
    "##### 2.3.10 Affichage (1 point)\n",
    "\n",
    "Appliquez cette fonction pour calculer la précision des documents retrouvés en utilisant les titres (\"_title_\"), les résumés (\"_abstract_\") et la fusion des deux (\"_text_\")."
   ]
  },
  {
   "cell_type": "code",
   "execution_count": 110,
   "metadata": {},
   "outputs": [
    {
     "name": "stdout",
     "output_type": "stream",
     "text": [
      "Précision avec 'text': {'top_1': 0.48702101359703337, 'top_3': 0.22538112896580223, 'top_5': 0.15203955500618185}\n",
      "Précision avec 'title': {'top_1': 0.3226205191594561, 'top_3': 0.1635764318088168, 'top_5': 0.1117428924598278}\n",
      "Précision avec 'abstract': {'top_1': 0.46600741656365885, 'top_3': 0.21672847136382423, 'top_5': 0.14388133498145989}\n"
     ]
    }
   ],
   "source": [
    "# Évaluer et afficher la précision pour les textes\n",
    "precision_text = evaluate(results_texts_df)\n",
    "print(f\"Précision avec 'text': {precision_text}\")\n",
    "\n",
    "# Évaluer et afficher la précision pour les titres\n",
    "precision_titles = evaluate(results_titles_df)\n",
    "print(f\"Précision avec 'title': {precision_titles}\")\n",
    "\n",
    "# Évaluer et afficher la précision et les résumés\n",
    "precision_abstracts = evaluate(results_abstracts_df)\n",
    "print(f\"Précision avec 'abstract': {precision_abstracts}\")"
   ]
  },
  {
   "cell_type": "markdown",
   "metadata": {},
   "source": [
    "##### 2.3.11 Graphique (2 points)\n",
    "\n",
    "Tracez un graphique des valeurs de précisions des documents retrouvés (\"__title__\", \"__abstract__\", \"__text__\") pour différents N (1,3,5)."
   ]
  },
  {
   "cell_type": "code",
   "execution_count": 111,
   "metadata": {},
   "outputs": [
    {
     "data": {
      "image/png": "[encoded data removed]",
      "text/plain": [
       "<Figure size 640x480 with 1 Axes>"
      ]
     },
     "metadata": {},
     "output_type": "display_data"
    }
   ],
   "source": [
    "# Tracer les valeurs de chaque dictionnaire avec des couleurs différentes\n",
    "plt.plot(list(precision_text.keys()), list(precision_text.values()), label='Precision', color='blue')\n",
    "plt.plot(list(precision_titles.keys()), list(precision_titles.values()), label='Precision Titles', color='red')\n",
    "plt.plot(list(precision_abstracts.keys()), list(precision_abstracts.values()), label='Precision Abstracts', color='green')\n",
    "\n",
    "# Ajouter des étiquettes et un titre\n",
    "plt.xlabel(\"N\")\n",
    "plt.ylabel(\"Precision\")\n",
    "plt.title(\"Precision des top-N documents les plus pertinents\")\n",
    "\n",
    "# Ajouter une légende pour identifier les courbes\n",
    "plt.legend()\n",
    "\n",
    "# Afficher le graphique\n",
    "plt.show()"
   ]
  },
  {
   "cell_type": "markdown",
   "metadata": {
    "id": "vI_2JXRxAygz"
   },
   "source": [
    "### 3 Amélioration avec BM25 (20 points)"
   ]
  },
  {
   "cell_type": "markdown",
   "metadata": {},
   "source": [
    "BM25 (Best Matching 25) est un algorithme de recherche utilisé pour évaluer la pertinence des documents par rapport à une requête. Basé sur le modèle de récupération d'informations probabilistes, BM25 calcule un score de pertinence en tenant compte de la fréquence des termes de la requête dans chaque document et dans le corpus global mais aussi de la longueur des documents. \n",
    "\n",
    "BM25 est pertinent pour la recherche d'information car il offre un bon équilibre entre précision et rappel, il gère efficacement de grandes collections de documents et permet des ajustements pour différents types de corpus. Il est largement utilisé dans les moteurs de recherche et les systèmes de recommandation.\n",
    "\n",
    "Dans cette partie on vous demande de la tester au moyen de la librairie rank_bm25 pour cette tâche de recherche de texte qui justifie ou contredit une affirmation donnée. Vous allez utiliser le corpus et les affirmations et procéder comme indiqué dans la suite."
   ]
  },
  {
   "cell_type": "markdown",
   "metadata": {},
   "source": [
    "##### 3.1 Initialisation du modèle BM25 (3 points)\n",
    "Réutilisez les variables \"claims_preprocessed_joined\", \"texts_preprocessed_joined\", \"titles_preprocessed_joined\" et \"abstract_preprocessed_joined\" définies à la question `2.2.1` pour initialiser les modèles BM25 pour les documents (\"__titles__\", \"__abstracts__\" et \"__text__\"). Il faudra transformer chaque séquence (dont les jetons étaient joints pour former une seule chaîne) en une liste de jetons. Vous utiliserez la classe \"_BM250kapi_\" à ce niveau. "
   ]
  },
  {
   "cell_type": "code",
   "execution_count": 113,
   "metadata": {},
   "outputs": [],
   "source": [
    "\"\"\"\n",
    "Les paramètre b et k1:\n",
    "    - Les valeurs par défaut sont: b=0.75 and k1=1.2\n",
    "    - b amplifie/atténue l'effet de la différence de taille d'un document comparé à la moyenne des tailles des documents\n",
    "    - k1 permet de determiner la saturation d'un terme de la requête ie il nous permet de limiter l'effet qu'un terme peut avoir sur le score d'un document\n",
    "\"\"\"\n",
    "bm25_texts     = BM25Okapi([seq.split() for seq in texts_preprocessed_joined]) \n",
    "bm25_titles    = BM25Okapi([seq.split() for seq in titles_preprocessed_joined]) \n",
    "bm25_abstracts = BM25Okapi([seq.split() for seq in abstracts_preprocessed_joined]) "
   ]
  },
  {
   "cell_type": "markdown",
   "metadata": {},
   "source": [
    "##### 3.2 Utilisation du modèle BM25 (5 points)\n",
    "\n",
    "Retrouvez les identifiants des documents pour les cinq meilleures correspondances de \"_title_\", de \"_abstract_\" et de \"_text_\" en utilisant le score BM25 pour chaque affirmation (claim) traitée, et mettez à jour les résultats avec les identifiants de documents correspondants."
   ]
  },
  {
   "cell_type": "code",
   "execution_count": 114,
   "metadata": {},
   "outputs": [
    {
     "name": "stderr",
     "output_type": "stream",
     "text": [
      "100%|██████████| 809/809 [00:03<00:00, 260.59it/s]\n",
      "100%|██████████| 809/809 [00:05<00:00, 136.45it/s]\n",
      "100%|██████████| 809/809 [00:05<00:00, 143.40it/s]\n"
     ]
    }
   ],
   "source": [
    "bm25_results_titles, bm25_results_abstracts, bm25_results_texts = [], [], []\n",
    "\n",
    "# Tableau contenant chacun des mots des affirmations\n",
    "claims_bm25 = [seq.split() for seq in claims_preprocessed_joined]\n",
    "\n",
    "# Titles\n",
    "for claim in tqdm(claims_bm25):\n",
    "    scores = bm25_titles.get_scores(claim)\n",
    "    bm25_results_titles.append(np.argsort(-scores)[:5])\n",
    "\n",
    "# Abstracts\n",
    "for claim in tqdm(claims_bm25):\n",
    "    scores = bm25_abstracts.get_scores(claim)\n",
    "    bm25_results_abstracts.append(np.argsort(-scores)[:5])\n",
    "\n",
    "# Texts\n",
    "for claim in tqdm(claims_bm25):\n",
    "    scores = bm25_texts.get_scores(claim)\n",
    "    bm25_results_texts.append(np.argsort(-scores)[:5])\n",
    "\n",
    "doc_ids = df_corpus['doc_id'].values # recupérer les identifiants à partir de df_corpus\n",
    "results_titles    = np.array([doc_ids[row_indexes] for row_indexes in bm25_results_titles])\n",
    "results_abstracts = np.array([doc_ids[row_indexes] for row_indexes in bm25_results_abstracts])\n",
    "results_texts     = np.array([doc_ids[row_indexes] for row_indexes in bm25_results_texts])\n",
    "\n",
    "bm25_results_titles = results_titles\n",
    "bm25_results_abstracts = results_abstracts\n",
    "bm25_results = results_texts"
   ]
  },
  {
   "cell_type": "markdown",
   "metadata": {},
   "source": [
    "##### 3.3 Affichage des performances (4 points)\n",
    "\n",
    "Affichez les résultats des performances BM25 pour les configurations Top1, Top3 et Top5 avec \"_title_\", \"_asbtract_\" et \"_text_\"."
   ]
  },
  {
   "cell_type": "code",
   "execution_count": 115,
   "metadata": {},
   "outputs": [
    {
     "name": "stderr",
     "output_type": "stream",
     "text": [
      "100%|██████████| 809/809 [00:00<00:00, 5343.57it/s]\n"
     ]
    },
    {
     "name": "stdout",
     "output_type": "stream",
     "text": [
      "Performance avec 'title': {'top_1': 0.3226205191594561, 'top_3': 0.147507210548001, 'top_5': 0.09864029666254698}\n"
     ]
    },
    {
     "name": "stderr",
     "output_type": "stream",
     "text": [
      "100%|██████████| 809/809 [00:00<00:00, 5818.30it/s]\n"
     ]
    },
    {
     "name": "stdout",
     "output_type": "stream",
     "text": [
      "Performance avec 'abstract': {'top_1': 0.553770086526576, 'top_3': 0.23444581788216, 'top_5': 0.15673671199011271}\n"
     ]
    },
    {
     "name": "stderr",
     "output_type": "stream",
     "text": [
      "100%|██████████| 809/809 [00:00<00:00, 5909.93it/s]\n"
     ]
    },
    {
     "name": "stdout",
     "output_type": "stream",
     "text": [
      "Performance avec 'text': {'top_1': 0.5673671199011124, 'top_3': 0.23939019365471884, 'top_5': 0.1582200247218803}\n"
     ]
    }
   ],
   "source": [
    "# Titles\n",
    "bm_25_df_titles = results_texts_df.copy()\n",
    "fill_results(bm25_results_titles, bm_25_df_titles)\n",
    "perf_bm25_titles = evaluate(bm_25_df_titles)\n",
    "print(f\"Performance avec 'title': {perf_bm25_titles}\")\n",
    "\n",
    "# Abstracts\n",
    "bm_25_df_abstract = results_texts_df.copy()\n",
    "fill_results(bm25_results_abstracts, bm_25_df_abstract)\n",
    "perf_bm25_abstracts = evaluate(bm_25_df_abstract)\n",
    "print(f\"Performance avec 'abstract': {perf_bm25_abstracts}\")\n",
    "\n",
    "# Texts\n",
    "bm_25_df_texts = results_texts_df.copy()\n",
    "fill_results(bm25_results, bm_25_df_texts)\n",
    "perf_bm25 = evaluate(bm_25_df_texts)\n",
    "print(f\"Performance avec 'text': {perf_bm25}\")"
   ]
  },
  {
   "cell_type": "markdown",
   "metadata": {},
   "source": [
    "##### 3.4 Graphique (4 points)\n",
    "\n",
    "Dans un même graphique, affichez les performances pour les deux modèles (TF-IDF et BM25) dans la recherche des documents (text, title et abstract) pour les affirmations."
   ]
  },
  {
   "cell_type": "code",
   "execution_count": 116,
   "metadata": {},
   "outputs": [
    {
     "data": {
      "image/png": "[encoded data removed]",
      "text/plain": [
       "<Figure size 640x480 with 1 Axes>"
      ]
     },
     "metadata": {},
     "output_type": "display_data"
    }
   ],
   "source": [
    "# Créer une figure \n",
    "list_keys = precision_text.keys()\n",
    "plt.plot(list_keys, [precision_text[top] for top in list_keys], label='Bow TF-IDF Text Precision', color='blue')\n",
    "plt.plot(list_keys, [precision_titles[top] for top in list_keys], label='Bow TF-IDF Title Precision', color='black')\n",
    "plt.plot(list_keys, [precision_abstracts[top] for top in list_keys], label='Bow TF-IDF Abstract Precision', color='green')\n",
    "\n",
    "# Ajouter les performances BM25\n",
    "plt.plot(list_keys, [perf_bm25[top] for top in list_keys], label='BM25 Text Precision', color='red')\n",
    "plt.plot(list_keys, [perf_bm25_titles[top] for top in list_keys], label='BM25 Title Precision', color='darkred')\n",
    "plt.plot(list_keys, [perf_bm25_abstracts[top] for top in list_keys], label='BM25 Abstract Precision', color='orange')\n",
    "\n",
    "plt.xlabel(\"Top-N\")\n",
    "plt.ylabel(\"Precision\")\n",
    "plt.title(\"Précision pour les top-N documents les plus pertinents\")\n",
    "plt.legend()\n",
    "\n",
    "# Afficher la figure contenant les deux graphiques\n",
    "plt.tight_layout()\n",
    "plt.show()"
   ]
  },
  {
   "cell_type": "markdown",
   "metadata": {},
   "source": [
    "##### 3.5 Observation (4 points)\n",
    "\n",
    "Par rapport à vos résultats avec TF-IDF, observez-vous une amélioration ou une détérioration des performances, qu'est ce qui explique cela ? (Donnez au moins trois justifications)"
   ]
  },
  {
   "cell_type": "markdown",
   "metadata": {},
   "source": [
    "> Réponses possibles:\n",
    "\n",
    "- Observations: On a une meilleure performance qu'avec le modèle BOW\n",
    "\n",
    "- Justifications:\n",
    "    - Normalisation par la longueur : BM25 normalise la longueur des documents, équilibrant ainsi les termes entre documents longs et courts.\n",
    "    - Pondération non linéaire des termes fréquents : La saturation de la fréquence des termes dans BM25 réduit l'impact des termes extrêmement fréquents.\n",
    "    - Facteur de correction de longueur : Le paramètre b ajuste l'importance de la normalisation de la longueur, améliorant la personnalisation.\n",
    "    - Pondération dynamique : BM25 offre une pondération flexible basée sur la fréquence des termes et leur importance relative."
   ]
  },
  {
   "cell_type": "markdown",
   "metadata": {
    "id": "DVYiuH8aeB8x"
   },
   "source": [
    "## Livrables\n",
    "Vous devez remettre votre notebook sur Moodle et Gradescope en prenant le soin d'associer les numéros de questions avec vos réponses dans le rapport (fichier .pdf) grâce à l'outil que fournit Gradescope.\n",
    "\n",
    "\n",
    "## Évaluation \n",
    "Votre TP sera évalué selon les critères suivants :\n",
    "1. Exécution correcte du code et obtention des sorties attendues\n",
    "2. Réponses correctes aux questions d'analyse\n",
    "3. Qualité du code (noms significatifs, structure, performance, gestion d’exception, etc.)\n",
    "4. Commentaires clairs et informatifs\n"
   ]
  }
 ],
 "metadata": {
  "colab": {
   "collapsed_sections": [
    "1tMX8go24rB_",
    "4ItqD8yL-utW",
    "0kzLIzqD-vp7",
    "VIRjMFlY-wHL",
    "R41oj9nI-wwi",
    "3FibZKYkHi06"
   ],
   "name": "TP2 solution.ipynb",
   "provenance": []
  },
  "kernelspec": {
   "display_name": "Python 3",
   "language": "python",
   "name": "python3"
  },
  "language_info": {
   "codemirror_mode": {
    "name": "ipython",
    "version": 3
   },
   "file_extension": ".py",
   "mimetype": "text/x-python",
   "name": "python",
   "nbconvert_exporter": "python",
   "pygments_lexer": "ipython3",
   "version": "3.11.9"
  }
 },
 "nbformat": 4,
 "nbformat_minor": 1
}

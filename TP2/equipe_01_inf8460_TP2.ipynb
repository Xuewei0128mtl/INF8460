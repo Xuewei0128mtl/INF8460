{
 "cells": [
  {
   "cell_type": "markdown",
   "metadata": {},
   "source": [
    "##### INF8460 – Traitement automatique de la langue naturelle - Automne 2024\n",
    "\n",
    "## TP2: Plongements de mots"
   ]
  },
  {
   "cell_type": "markdown",
   "metadata": {},
   "source": [
    "## Identification de l'équipe:\n",
    "\n",
    "### Groupe de laboratoire: G01_B1\n",
    "\n",
    "### Equipe numéro : Eq01\n",
    "\n",
    "### Membres:\n",
    "\n",
    "- Zoé Paradis 2008732 (33% de contribution. nature de la contribution : Elle a réalisé tous les excercice du tp individuellement comme chaque coéquipière. Puis les codes réalisé ont été comparé avec les autres membres pour valider les réponses obtenues. Finalement, une version propre du tp a été réaliseé ensemble en combinant le code de tous les coéquipières.)\r\n",
    "- Mahacine Ettahri 2312965 (33% de contribution. nature de la contribution : Elle a réalisé tous les excercice du tp individuellement comme chaque coéquipière. Puis les codes réalisé ont été comparé avec les autres membres pour valider les réponses obtenues. Finalement, une version propre du tp a été réaliseé ensemble en combinant le code de tous les coéquipières.)\r\n",
    "- Xuewei Li 1879356 (33% de contribution, nature de la contribution : Elle a réalisé tous les excercice du tp individuellement comme chaque coéquipière. Puis les codes réalisé ont été comparé avec les autres membres pour valider les réponses obtenues. Finalement, une version propre du tp a été réaliseé ensemble en combinant le code de tous les coéquipières.)\n",
    "\n",
    "* nature de la contribution: Décrivez brièvement ce qui a été fait par chaque membre de l’équipe. Tous les membres sont censés contribuer au développement. Bien que chaque membre puisse effectuer différentes tâches, vous devez vous efforcer d’obtenir une répartition égale du travail. Soyez précis ! N'indiquez pas seulement : travail réparti équitablement"
   ]
  },
  {
   "cell_type": "markdown",
   "metadata": {},
   "source": [
    "### Objectif du TP\n",
    "\n",
    "L'objectif de ce TP est d'entraîner un modèle de plongements lexicaux qui intègre des notions de synonymie et d'antonymie en utilisant des réseaux de neurones. \n",
    "\n",
    "Contrairement aux plongements vus en cours comme GloVe ou Word2Vec, qui positionnent souvent les mots à proximité équivalente de leurs synonymes et antonymes, nous chercherons à faire distinguer à nos modèles les synonymes et antonymes, en rapprochant les mots de leurs synonymes et en les éloignant de leurs antonymes.\n",
    "\n",
    "### Jeux de données\n",
    "\n",
    "**Paires de synonymes et antonymes** (entraînement) : Les fichiers `train_synonyms.txt` et `train_antonymms.txt` contiennent les paires de synonymes et d'antonymes qui serviront à l'entraînement de nos modèles.\n",
    "- train_synonyms: ~640k paires de synonymes\n",
    "- train_antonyms: ~12k paires d'antonymes\n",
    "\n",
    "**SimLex-999** (test) : Le fichier `simlex_english.txt` contient 1000 paires de mots et leur similarité entre 0 et 10. Des antonymes auront une similarité de 0 et des mots proches auront une similarité plus élevée. Par exemples :\n",
    "\n",
    "- *nice* & *cruel* -> 0\n",
    "- *violent* & *angry* -> 5.9\n",
    "- *essential* & *necessary* -> 9.8\n",
    "\n",
    "### Développement du TP\n",
    "\n",
    "Le TP suivra les étapes suivantes:\n",
    "\n",
    "- Partie 1 : Familiarisation avec GloVe, modèle de plongements de mots pré-entraîné\n",
    "- Partie 2 : Évaluation de GloVe sur SimLex-999\n",
    "- Partie 3 : Mise en place de la méthode d'entraînement\n",
    "- Partie 4 : Entraînement de zéro (baseline)\n",
    "- Partie 5 : Entraînement utilisant GloVe pré-entraîné et conclusion\n",
    "\n",
    "Le TP est noté sur 89 points."
   ]
  },
  {
   "cell_type": "markdown",
   "metadata": {},
   "source": [
    "### Librairies autorisées\n",
    "\n",
    "+ numpy\n",
    "+ pandas\n",
    "+ torch\n",
    "+ matplotlib\n",
    "\n",
    "Si vous voulez utiliser une autre librairie, veuillez demander à votre chargé de lab.\n",
    "\n",
    "### Imports\n",
    "\n",
    "Les imports effectués dans la cellule suivante devraient être suffisants pour faire tout ce TP."
   ]
  },
  {
   "cell_type": "code",
   "execution_count": 68,
   "metadata": {},
   "outputs": [],
   "source": [
    "# !pip install torch"
   ]
  },
  {
   "cell_type": "code",
   "execution_count": 69,
   "metadata": {},
   "outputs": [],
   "source": [
    "from tqdm import tqdm\n",
    "import gc\n",
    "\n",
    "import numpy as np\n",
    "import pandas as pd\n",
    "import matplotlib.pyplot as plt\n",
    "from tqdm.notebook import tqdm\n",
    "import torch\n",
    "import time\n",
    "import torch.nn as nn\n",
    "import torch.nn.functional as F\n",
    "import torch.optim as optim\n",
    "from torch.utils.data import DataLoader"
   ]
  },
  {
   "cell_type": "markdown",
   "metadata": {},
   "source": [
    "### 1. GloVe (10 Points)"
   ]
  },
  {
   "cell_type": "markdown",
   "metadata": {},
   "source": [
    "Dans ce TP, nous allons utiliser le modèle pré-entraîné GloVe qui crée des plongements lexicaux de mots."
   ]
  },
  {
   "cell_type": "markdown",
   "metadata": {},
   "source": [
    "#### 1.1 Chargement du modèle\n",
    "\n",
    "La cellule suivante permet charger le modèle GloVe pré-entraîné. Le chargement du modèle peut prendre quelques minutes."
   ]
  },
  {
   "cell_type": "code",
   "execution_count": 70,
   "metadata": {},
   "outputs": [],
   "source": [
    "# # Décommenter pour télécharger les GloVe embeddings à partir de https://nlp.stanford.edu/projects/glove/\n",
    "# !wget http://nlp.stanford.edu/data/glove.42B.300d.zip -P /content\n",
    "# !unzip /content/glove.42B.300d.zip -d /content"
   ]
  },
  {
   "cell_type": "code",
   "execution_count": 71,
   "metadata": {},
   "outputs": [],
   "source": [
    "# https://downloads.cs.stanford.edu/nlp/data/glove.42B.300d.zip"
   ]
  },
  {
   "cell_type": "code",
   "execution_count": 72,
   "metadata": {},
   "outputs": [],
   "source": [
    "pretrained_model_path = 'glove.42B.300d.txt'\n",
    "\n",
    "data_root = 'data'\n",
    "\n",
    "train_synonyms_path = f\"{data_root}/train_synonyms.txt\"\n",
    "train_antonyms_path = f\"{data_root}/train_antonyms.txt\"\n",
    "\n",
    "eval_simlex = f'{data_root}/simlex_english.txt'"
   ]
  },
  {
   "cell_type": "code",
   "execution_count": 73,
   "metadata": {},
   "outputs": [],
   "source": [
    "def load_word_vectors(filepath, vocab=None):\n",
    "    \"\"\"\n",
    "    Télécharge le modèle pré-entraîné de plongements de mots en pytorch\n",
    "    \"\"\"\n",
    "    word_to_index = {}\n",
    "    embeddings = []\n",
    "    index = 0\n",
    "\n",
    "    with open(filepath, 'r', encoding='utf-8') as f:\n",
    "        for line in f:\n",
    "            split_line = line.split()\n",
    "            word = split_line[0]\n",
    "            if vocab is None or word in vocab:\n",
    "                embedding = np.array(split_line[1:], dtype=np.float32)\n",
    "                word_to_index[word] = index\n",
    "                embeddings.append(embedding)\n",
    "                index += 1\n",
    "    \n",
    "    embeddings = np.stack(embeddings)\n",
    "    embeddings = torch.from_numpy(embeddings)\n",
    "    return word_to_index, embeddings"
   ]
  },
  {
   "cell_type": "code",
   "execution_count": 74,
   "metadata": {},
   "outputs": [],
   "source": [
    "word_to_index, embeddings = load_word_vectors(pretrained_model_path)"
   ]
  },
  {
   "cell_type": "markdown",
   "metadata": {},
   "source": [
    "#### 1.2 Implémentez la fonction `cosine_similarity` avec pytorch et sans utiliser `torch.nn.CosineSimilarity` (2 points)"
   ]
  },
  {
   "cell_type": "code",
   "execution_count": 75,
   "metadata": {},
   "outputs": [],
   "source": [
    "def cosine_similarity(a, b):\n",
    "    \"\"\"\n",
    "    Calcule la matrice de similarité cosinus entre deux matrices\n",
    "\n",
    "    Args : \n",
    "        a   : torch.Tensor, shape=(n, d)\n",
    "        b   : torch.Tensor, shape=(m, d)\n",
    "\n",
    "    Returns:\n",
    "    torch.Tensor, shape=(n, m)\n",
    "    \"\"\"\n",
    "\n",
    "    # On normalise les deux matrices a et b (norme 2)\n",
    "    norm_a = torch.nn.functional.normalize(a)\n",
    "    norm_b = torch.nn.functional.normalize(b)\n",
    "\n",
    "    # On calcule le produit matriciel des deux matrices\n",
    "    return torch.matmul(norm_a, norm_b.T)"
   ]
  },
  {
   "cell_type": "code",
   "execution_count": 76,
   "metadata": {},
   "outputs": [
    {
     "data": {
      "text/plain": [
       "tensor([[1.0000, 1.0000, 0.9839, 0.9734],\n",
       "        [0.9839, 0.9839, 1.0000, 0.9987],\n",
       "        [0.9734, 0.9734, 0.9987, 1.0000]])"
      ]
     },
     "execution_count": 76,
     "metadata": {},
     "output_type": "execute_result"
    }
   ],
   "source": [
    "# On calcule la similarité cosinus sur un exemple\n",
    "x = torch.tensor([[1, 2], [3, 4], [5, 6]], dtype=torch.float32)\n",
    "y = torch.tensor([[1, 2], [1, 2], [3, 4],[5, 6]], dtype=torch.float32)\n",
    "\n",
    "cosine_similarity(x,y)"
   ]
  },
  {
   "cell_type": "markdown",
   "metadata": {},
   "source": [
    "#### 1.3 Complétez la fonction `n_closest_vect` qui retourne les n mots les plus proches d'un mot donné. (5 points)\n",
    "\n",
    "`n_closest_vect` prendra en entrée la matrice des plongements `embeddings`, le dictionnaire de correspondance entre les mots et les indices `word_to_index`, le plongement d'un mot `word` et le nombre `n` de mots attendus. La fonction devra retourner la liste des mots dont les plongements sont les plus proches du vecteur de référence et leur similarité cosinus.\n",
    "\n",
    "C'est-à-dire les n mots avec lesquels le mot a la plus grande similarité cosinus. Utilisez la fonction `cosine_similarity` que vous venez d'implémenter."
   ]
  },
  {
   "cell_type": "code",
   "execution_count": 77,
   "metadata": {},
   "outputs": [],
   "source": [
    "def n_closest_vect(embeddings, word_to_index, word, n=5):\n",
    "    \"\"\"\n",
    "    Trouve les n mots les plus proches du vecteur donné et leur similarité\n",
    "\n",
    "    Args : \n",
    "        embeddings      : torch.Tensor, shape=(vocab_size, embedding_dim)\n",
    "        Matrice de plongement de tous les mots\n",
    "\n",
    "        word_to_index   : dict\n",
    "        Dictionnaire qui relie un mot à son index dans le vocabulaire\n",
    "\n",
    "        word            : torch.Tensor, shape=(embedding_dim,)\n",
    "        Plongement du mot dont on cherche les n mots les plus proches\n",
    "\n",
    "        n               : int, number of closest words to return\n",
    "        Nombre de mots à retourner\n",
    "\n",
    "    Returns:\n",
    "    Liste de tuple contenant les n mots les plus similaires avec leur coefficient\n",
    "    de similarité\n",
    "    \"\"\"\n",
    "    # On construit un dictionnaire inverse de word_to_index\n",
    "    # clé = index et valeur = word\n",
    "    inverse_word_to_index = {v: k for k, v in word_to_index.items()}\n",
    "\n",
    "    # On calcule la matrice de similarité cosinus entre le mot spécifié et le reste des mots en utilisant les plongements 'embeddings'\n",
    "    matrix_similarity = cosine_similarity(embeddings, word.reshape(1,-1))\n",
    "    # On trie le vecteur de similarités par ordre décroissant et on récupère les indices des mots\n",
    "    sorted_similarities, indices = torch.sort(matrix_similarity.flatten(), descending=True)\n",
    "\n",
    "    # A partir des indices, on récupère les mots et les valeurs de similarités correspondantes\n",
    "    similar_words = []\n",
    "    for i in range(n):\n",
    "        index_item = indices[i].item()\n",
    "        similar_words.append((inverse_word_to_index[index_item], sorted_similarities[i].item()))\n",
    "\n",
    "    return similar_words"
   ]
  },
  {
   "cell_type": "code",
   "execution_count": 78,
   "metadata": {},
   "outputs": [
    {
     "name": "stdout",
     "output_type": "stream",
     "text": [
      "[('morning', 1.0), ('afternoon', 0.8665473461151123), ('evening', 0.7880069613456726), ('yesterday', 0.7614549398422241), ('sunday', 0.7548925876617432)]\n"
     ]
    }
   ],
   "source": [
    "# Exemple\n",
    "print(n_closest_vect(embeddings, word_to_index, embeddings[word_to_index['morning']]))"
   ]
  },
  {
   "cell_type": "markdown",
   "metadata": {},
   "source": [
    "Sortie attendue :\n",
    "```\n",
    "[('morning', 1.0), ('afternoon', 0.8665473461151123), ('evening', 0.7880070209503174), ('yesterday', 0.7614548206329346), ('sunday', 0.7548925876617432)]\n",
    "```"
   ]
  },
  {
   "cell_type": "markdown",
   "metadata": {},
   "source": [
    "#### 1.4 Quelle est la similarité cosinus entre 'fast' et 'slow' ? Entre 'fast' et 'rapid' ? Commentez les résultats et expliquez leur origine. (3 points)"
   ]
  },
  {
   "cell_type": "code",
   "execution_count": 79,
   "metadata": {},
   "outputs": [
    {
     "name": "stdout",
     "output_type": "stream",
     "text": [
      "similarité cosinus entre \"fast\" et \"slow\" : 0.7113726735115051\n",
      "similarité cosinus entre \"fast\" et \"rapid\" : 0.6445334553718567\n"
     ]
    }
   ],
   "source": [
    "print('similarité cosinus entre \"fast\" et \"slow\" :', cosine_similarity(embeddings[word_to_index['fast']].reshape(1,-1), embeddings[word_to_index['slow']].reshape(1,-1)).item())\n",
    "print('similarité cosinus entre \"fast\" et \"rapid\" :',cosine_similarity(embeddings[word_to_index['fast']].reshape(1,-1), embeddings[word_to_index['rapid']].reshape(1,-1)).item())"
   ]
  },
  {
   "cell_type": "raw",
   "metadata": {},
   "source": [
    "### Analyse\n",
    "Dans cette partie, les plongements GloVe sont utilisés pour représenter les mots. Ces plongements positionnent souvent les mots à proximité équivalente de leurs synonymes et antonymes et ne distinguent pas la différence entre les deux cas. Pour ces plongements, les synonymes et antonymes sont interchangeables dans le contexte. Ce qui fait, après avoir calculé la similarité cosinus, le mot 'fast' a une similarité élevée avec les deux mots ('slow' et 'rapid'). Contrairement à ce qui est attendu, la similarité de 'fast' est plus prononcée avec son antonyme 'slow'."
   ]
  },
  {
   "cell_type": "markdown",
   "metadata": {},
   "source": [
    "### 2. Évaluation (12 Points)\n",
    "\n",
    "#### Données\n",
    "\n",
    "Les cellules qui suivent permettent de télécharger les données et de se restreindre au vocabulaire qui nous sera utile, pour éviter de charger des plongements inutiles.\n",
    "\n",
    "Comme décrit dans l'introduction, nous avons 3 fichiers de données:\n",
    "- Des paires de synonymes pour l'entraînement (`train_synonyms.txt`) \n",
    "- Des paires d'antonymes pour l'entraînement (`train_antonymms.txt`)\n",
    "- Des paires de mots avec leur similarité pour l'évaluation (`simlex_english.txt`)"
   ]
  },
  {
   "cell_type": "code",
   "execution_count": 80,
   "metadata": {},
   "outputs": [],
   "source": [
    "def load_data(filepath):\n",
    "    \"\"\"\n",
    "    Télécharge les paires de synonymes et antonymes\n",
    "    \"\"\"\n",
    "    data = []\n",
    "    with open(filepath, 'r', encoding='utf-8') as f:\n",
    "        for line in f:\n",
    "            pair = line.strip().split()\n",
    "            assert pair[0].startswith('en_') and pair[0].startswith('en_')\n",
    "            data.append((pair[0][3:], pair[1][3:]))\n",
    "    return data\n",
    "\n",
    "def data_to_tensor(data, word_to_index):\n",
    "    indices = [word_to_index[word] for pair in data for word in pair if word in word_to_index]\n",
    "    return torch.tensor(indices).view(-1, 2)"
   ]
  },
  {
   "cell_type": "code",
   "execution_count": 81,
   "metadata": {},
   "outputs": [],
   "source": [
    "# Données d'entraînement\n",
    "train_synonyms = load_data(train_synonyms_path)\n",
    "train_antonyms = load_data(train_antonyms_path)\n",
    "\n",
    "# Données d'évaluation\n",
    "evaluation_simlex = pd.read_csv(eval_simlex, sep='\\t') # pd dataframe with columns 'word 1', 'word 2', 'score'\n",
    "\n",
    "# On se restreint au vocabulaire qu'on va utiliser pour éviter de charger des embeddings inutiles\n",
    "vocab = set([word for pair in train_synonyms + train_antonyms for word in pair])\n",
    "eval_vocab = set(evaluation_simlex['word 1']).union(set(evaluation_simlex['word 2']))\n",
    "vocab.update(eval_vocab)\n",
    "\n",
    "glove_word_to_index, glove_embeddings = load_word_vectors(pretrained_model_path, vocab)"
   ]
  },
  {
   "cell_type": "markdown",
   "metadata": {},
   "source": [
    "#### 2.1 Observation du jeu de données SimLex-999. (2 points)\n",
    "\n",
    "Affichez l'histogramme de fréquence des scores de similarité dans le jeu de données SimLex-999. Utilisez `bins=40`. Votre axe des x doit représenter le score de similarité et votre axe des y doit représenter la fréquence. Comment interpréter un score de 0?"
   ]
  },
  {
   "cell_type": "code",
   "execution_count": 82,
   "metadata": {},
   "outputs": [
    {
     "data": {
      "image/png": "[encoded data removed]",
      "text/plain": [
       "<Figure size 800x400 with 1 Axes>"
      ]
     },
     "metadata": {},
     "output_type": "display_data"
    }
   ],
   "source": [
    "# On affiche un histogramme de fréquences des scores de similarité\n",
    "plt.figure(figsize=(8, 4))\n",
    "plt.hist(evaluation_simlex['score'], bins=40, color='skyblue', edgecolor='black')\n",
    "\n",
    "plt.xlabel('Score de similarité')\n",
    "plt.ylabel('Fréquence')\n",
    "plt.title('Fréquences des scores de similarité dans le jeu de données SimLex-999')\n",
    "plt.tight_layout()"
   ]
  },
  {
   "cell_type": "raw",
   "metadata": {},
   "source": [
    "### Analyse : Comment interpréter un score de 0?\n",
    "Le jeu de données Simlex-999 est une évaluation intrinsèque dans laquelle un humain juge la similarité entre des paires de mots. En examinant les données, on remarque qu'un score de 0 a été attribué aux paires d'antonymes (par exemple 'hard' VS 'easy', 'short' VS 'long' etc...). On peut donc dire que ce score représente l'absence de similarité entre deux mots, ce qui est le cas pour un mot et son antonyme avec des sens complétement opposés et éloignés."
   ]
  },
  {
   "cell_type": "code",
   "execution_count": 83,
   "metadata": {},
   "outputs": [
    {
     "data": {
      "text/html": [
       "<div>\n",
       "<style scoped>\n",
       "    .dataframe tbody tr th:only-of-type {\n",
       "        vertical-align: middle;\n",
       "    }\n",
       "\n",
       "    .dataframe tbody tr th {\n",
       "        vertical-align: top;\n",
       "    }\n",
       "\n",
       "    .dataframe thead th {\n",
       "        text-align: right;\n",
       "    }\n",
       "</style>\n",
       "<table border=\"1\" class=\"dataframe\">\n",
       "  <thead>\n",
       "    <tr style=\"text-align: right;\">\n",
       "      <th></th>\n",
       "      <th>word 1</th>\n",
       "      <th>word 2</th>\n",
       "      <th>score</th>\n",
       "    </tr>\n",
       "  </thead>\n",
       "  <tbody>\n",
       "    <tr>\n",
       "      <th>0</th>\n",
       "      <td>old</td>\n",
       "      <td>new</td>\n",
       "      <td>0.0</td>\n",
       "    </tr>\n",
       "    <tr>\n",
       "      <th>4</th>\n",
       "      <td>hard</td>\n",
       "      <td>easy</td>\n",
       "      <td>0.0</td>\n",
       "    </tr>\n",
       "    <tr>\n",
       "      <th>7</th>\n",
       "      <td>short</td>\n",
       "      <td>long</td>\n",
       "      <td>0.0</td>\n",
       "    </tr>\n",
       "    <tr>\n",
       "      <th>10</th>\n",
       "      <td>wide</td>\n",
       "      <td>narrow</td>\n",
       "      <td>0.0</td>\n",
       "    </tr>\n",
       "    <tr>\n",
       "      <th>12</th>\n",
       "      <td>easy</td>\n",
       "      <td>difficult</td>\n",
       "      <td>0.0</td>\n",
       "    </tr>\n",
       "    <tr>\n",
       "      <th>...</th>\n",
       "      <td>...</td>\n",
       "      <td>...</td>\n",
       "      <td>...</td>\n",
       "    </tr>\n",
       "    <tr>\n",
       "      <th>859</th>\n",
       "      <td>destroy</td>\n",
       "      <td>construct</td>\n",
       "      <td>0.0</td>\n",
       "    </tr>\n",
       "    <tr>\n",
       "      <th>861</th>\n",
       "      <td>steal</td>\n",
       "      <td>buy</td>\n",
       "      <td>0.0</td>\n",
       "    </tr>\n",
       "    <tr>\n",
       "      <th>863</th>\n",
       "      <td>forget</td>\n",
       "      <td>know</td>\n",
       "      <td>0.0</td>\n",
       "    </tr>\n",
       "    <tr>\n",
       "      <th>882</th>\n",
       "      <td>begin</td>\n",
       "      <td>quit</td>\n",
       "      <td>0.0</td>\n",
       "    </tr>\n",
       "    <tr>\n",
       "      <th>887</th>\n",
       "      <td>take</td>\n",
       "      <td>leave</td>\n",
       "      <td>0.0</td>\n",
       "    </tr>\n",
       "  </tbody>\n",
       "</table>\n",
       "<p>64 rows × 3 columns</p>\n",
       "</div>"
      ],
      "text/plain": [
       "      word 1     word 2  score\n",
       "0        old        new    0.0\n",
       "4       hard       easy    0.0\n",
       "7      short       long    0.0\n",
       "10      wide     narrow    0.0\n",
       "12      easy  difficult    0.0\n",
       "..       ...        ...    ...\n",
       "859  destroy  construct    0.0\n",
       "861    steal        buy    0.0\n",
       "863   forget       know    0.0\n",
       "882    begin       quit    0.0\n",
       "887     take      leave    0.0\n",
       "\n",
       "[64 rows x 3 columns]"
      ]
     },
     "execution_count": 83,
     "metadata": {},
     "output_type": "execute_result"
    }
   ],
   "source": [
    "# Exemple : Scores 0 (Analyse)\n",
    "evaluation_simlex.loc[evaluation_simlex['score'] == 0]"
   ]
  },
  {
   "cell_type": "markdown",
   "metadata": {},
   "source": [
    "#### 2.2 Corrélation de Spearman\n",
    "\n",
    "\n",
    "La corrélation de Spearman est une mesure de la relation monotone entre deux variables $x$ et $y$. Elle est comprise entre -1 et 1. Plutôt que de comparer les valeurs brutes des variables, elle compare leurs rangs. Elle est calculée comme suit :\n",
    "$$\\rho (x, y) = 1 - \\frac{6 \\sum_{i=1}^n (r_{x_i} - r_{y_i})^2}{n(n^2 - 1)}$$\n",
    "où $r_{x_i}$ est le rang de la i-ème valeur de la variable x, $r_{y_i}$ est le rang de la i-ème valeur de la variable y, $n$ est le nombre total de paires d'observations $(x, y)$.\n",
    "\n",
    "Les rangs sont attribués en ordonnant les valeurs de chaque variable du plus petit au plus grand. La plus petite valeur reçoit le rang 1, la suivante le rang 2, et ainsi de suite.\n",
    "\n",
    "##### Expliquez pourquoi on utilise la corrélation de Spearman plutôt que la corrélation entre les valeurs des variables. (3 points)\n"
   ]
  },
  {
   "cell_type": "raw",
   "metadata": {},
   "source": [
    "### Analyse\n",
    "L'utilisation des rangs au lieu des valeurs brutes offre plusieurs avantages dont:\n",
    "* La robustesse face aux valeurs aberrantes/extrêmes : la corrélation de Spearman limite la valeur aberrante à la valeur de son rang. Par exemple, l'ensemble de données X={1,2,5,7} a les mêmes rangs que l'ensemble Y={1,2,5,1000}.\n",
    "* La détection des relations monotones (croissantes ou décroissantes), même non linéaires. Contrairement à la corrélation de Pearson qui évalue la relation linéaire entre deux variabes en utilisant les valeurs brûtes, la corrélation de Spearman, au moyen des rangs, offre plus de flexibilité et donc moins de contraintes sur la nature de la relation entre les variables x et y.\n",
    "* L'invariance sous toute transformation croissante monotone des données (par exemple les transformations LOG ou EXP), car les rangs eux-mêmes restent inchangés sous la transformation. Ainsi, on peut examiner la corrélation de Spearman pour les données transformées, tout en étant sûrs que cette dernière a la même valeur pour les données originales.\n",
    "* La possibilité d'utilisation pour les variables qualitatives."
   ]
  },
  {
   "cell_type": "markdown",
   "metadata": {},
   "source": [
    "#### 2.3 Implémentation de la corrélation de Spearman (2 points)\n",
    "\n",
    "Complétez la fonction suivante pour calculer la corrélation de Spearman entre deux listes de valeurs."
   ]
  },
  {
   "cell_type": "code",
   "execution_count": 84,
   "metadata": {},
   "outputs": [],
   "source": [
    "def ranklist(x):\n",
    "    \"\"\"\n",
    "    Calcule les rangs des éléments d'une liste.\n",
    "\n",
    "    Args:\n",
    "        x : list of float\n",
    "\n",
    "    Returns:\n",
    "    La liste des rangs des éléments de la liste en entrée. \n",
    "    \"\"\"\n",
    "    # On initialise deux dictionnaires avec clé = élément de x, valeur = 0\n",
    "    sorted_dict, count_dict = dict.fromkeys(x,0), dict.fromkeys(x,0)\n",
    "\n",
    "    # On parcours la liste triée (ordre croissant) des éléments de x\n",
    "    # On calcule pour chaque élément son rang cumulatif et sa fréquence (le nombre d'apparition)\n",
    "    # Rang cumulatif : si par exemple item = 3 apparaît aux positions 2 et 5, son rang cumulatif = 3 + 6\n",
    "    for idx,item in enumerate(sorted(x)):\n",
    "        sorted_dict[item] += (idx+1)\n",
    "        count_dict[item] = x.count(item)\n",
    "\n",
    "    # On calcule le rang moyen pour chaque élément\n",
    "    # Ceci est utilisé surtout pour attribuer le même rang à toutes les apparitions d'un élément qui apparaît plus qu'une fois\n",
    "    return np.array([sorted_dict[i] / count_dict[i] for i in x])\n",
    "    \n",
    "def spearman_rank_correlation(x, y):\n",
    "    \"\"\"\n",
    "    Calcule la corrélation de Spearman entre deux listes de valeurs.\n",
    "\n",
    "    Args:\n",
    "        x   : list of float\n",
    "        y   : list of float\n",
    "\n",
    "    Returns:\n",
    "    La corrélation de Spearman entre les deux listes (float). \n",
    "    \"\"\"\n",
    "    n = len(x)\n",
    "    return 1 - np.sum((ranklist(x) - ranklist(y))**2)*6 / n / (n**2-1)"
   ]
  },
  {
   "cell_type": "code",
   "execution_count": 85,
   "metadata": {},
   "outputs": [
    {
     "name": "stdout",
     "output_type": "stream",
     "text": [
      "[4.  1.5 3.  1.5]\n",
      "[4.  1.5 3.  1.5]\n"
     ]
    }
   ],
   "source": [
    "# Exemple : Rank\n",
    "x = [40, 10, 20, 10]\n",
    "y = [40, 5, 10, 5]\n",
    "print(ranklist(x))\n",
    "print(ranklist(y))"
   ]
  },
  {
   "cell_type": "markdown",
   "metadata": {},
   "source": [
    "#### 2.4 Évaluation du modèle GloVe (2 points)\n",
    "\n",
    "\n",
    "Retrouvez les plongements du modèle GloVe de tous les mots du jeu de données SimLex-999, puis calculez la similarité cosinus entre les paires.\n",
    "\n",
    "Calculez ensuite la corrélation de Spearman entre les scores de simlex et les similarités cosinus obtenues et affichez-la."
   ]
  },
  {
   "cell_type": "code",
   "execution_count": 86,
   "metadata": {},
   "outputs": [
    {
     "data": {
      "text/plain": [
       "0.2916370157732884"
      ]
     },
     "execution_count": 86,
     "metadata": {},
     "output_type": "execute_result"
    }
   ],
   "source": [
    "similarity_paires = []\n",
    "\n",
    "# On récupère pour chaque paire de mots les plongements GloVe et on calcule la similarité\n",
    "for word1, word2 in zip(evaluation_simlex['word 1'], evaluation_simlex['word 2']):\n",
    "    embedding_word1 = glove_embeddings[glove_word_to_index[word1]].reshape(1, -1)\n",
    "    embedding_word2 = glove_embeddings[glove_word_to_index[word2]].reshape(1, -1)\n",
    "    similarity_paires.append(cosine_similarity(embedding_word1, embedding_word2).item())\n",
    "\n",
    "# On utilise les similarités calculées pour calculer la corrélation de Spearman avec les scores de simlex\n",
    "spearman_rank_correlation(similarity_paires, list(evaluation_simlex['score']))"
   ]
  },
  {
   "cell_type": "markdown",
   "metadata": {},
   "source": [
    "Résultat attendu: 0.29"
   ]
  },
  {
   "cell_type": "markdown",
   "metadata": {},
   "source": [
    "#### 2.5 Interprétation du résultat (3 points)\n",
    "\n",
    "Qu'est ce que ce nombre représente et que peut-on en conclure sur la qualité des plongements GloVe (2 conclusions) ?"
   ]
  },
  {
   "cell_type": "raw",
   "metadata": {},
   "source": [
    "### Analyse\n",
    "* Le nombre 0.29 représente l'importance de la corrélation entre les scores réels des paires de mots et la similarité cosinus calculée à partir des plongements GloVe. Ce nombre est faible, ce qui indique que les deux éléments sont faiblement corrélés.La qualité des plongements est donc insuffisante et incapable de capturer correctement les relations entre les mots.\n",
    "* Une justification possible du résultat réside dans l'incapacité des plongements GloVe de distinguer la différence entre synonymes et antonymes. Selon cette représentation, les deux mots sont similaires au mot cible dans le même sens. Cependant, les scores attribués aux mots dans l'ensemble d'évaluation sont très élevés pour les synonymes et nuls pour les antonymes.\n",
    "* Une deuxième justification réside dans le fait que les plongements préentrainés sont des représentations non contextualisées des mots. Si ces derniers ont été réentraînés avec du contexte, ils auraient plus de capacité à dinstinguer les vraies distances sémantiques entre les mots."
   ]
  },
  {
   "cell_type": "markdown",
   "metadata": {},
   "source": [
    "### 3. Description de la méthode contrastive (33 Points)\n",
    "\n",
    "Nous allons maintenant implémenter une méthode contrastive de plongements de mots. Elle vise à améliorer les plongements lexicaux de mots en tenant compte des synonymes et antonymes. \n",
    "\n",
    "Notre modèle se basera simplement sur une matrice de plongements de mots, qui associe à chaque mot un vecteur de plongement.\n",
    "\n",
    "L'idée est d'entraîner ce modèle à rapprocher les plongements de synonymes et d'éloigner ceux d'antonymes.\n",
    "\n",
    "La cellule suivante définit le modèle et ses attributs."
   ]
  },
  {
   "cell_type": "code",
   "execution_count": 87,
   "metadata": {},
   "outputs": [],
   "source": [
    "class ContrastiveWordEmbeddingModel(nn.Module):\n",
    "    def __init__(self, embeddings, device='cpu', margin_plus=0.6, margin_minus=0., regularization=1e-9):\n",
    "        super(ContrastiveWordEmbeddingModel, self).__init__()\n",
    "        \n",
    "        self.device = device\n",
    "\n",
    "        # Hyperparamètres pour les fonctions de coût\n",
    "        self.margin_plus = margin_plus\n",
    "        self.margin_minus = margin_minus\n",
    "        self.regularization = regularization\n",
    "        \n",
    "        # Initialisation des plongements de mots\n",
    "        self.embeddings = nn.Embedding.from_pretrained(embeddings.detach().clone(), freeze=False).to(self.device)\n",
    "        self.original_embeddings = nn.Embedding.from_pretrained(embeddings.detach().clone(), freeze=True).to(self.device)"
   ]
  },
  {
   "cell_type": "markdown",
   "metadata": {},
   "source": [
    "#### 3.1 Création des négatifs\n",
    "\n",
    "Pendant l'entraînement, au lieu de traiter tout le jeu d'entraînement d'un coup, nous allons avoir des lots (batchs) de paires de synonymes $B_S$ et d'antonymes $B_A$.\n",
    "\n",
    "Dans un lot de synonymes, on définit le négatif d'un mot comme le mot du lot le plus proche qui n'est pas dans la même paire. Intuitivement, c'est le mot que le modèle devrait confondre le plus avec le synonyme. Similairement, dans un lot d'antonymes, on définit le négatif d'un mot comme le mot du lot le plus éloigné qui n'est pas dans la même paire.\n",
    "\n",
    "On répète ce processus pour chaque mot de chaque paire de synonymes et d'antonymes.\n",
    "\n",
    "*Attention, un mot peut apparaître plusieurs fois dans un lot avec des synonymes ou antonymes différents, et il ne peut être le négatif d'aucun de ses synonymes, ou antonymes.*\n",
    "\n",
    "##### 3.1.1 Exemple pour illustrer l'implémentation\n",
    "\n",
    "Prenons un exemple avec un lot $B_S$ de synonymes de taille 3. On veut construire le lot de négatifs $T_S$\n",
    "\n",
    "$B_S$:\n",
    "- (arbre, plante)\n",
    "- (voiture, véhicule)\n",
    "- (arbre, buisson)\n",
    "\n",
    "On a 5 mots uniques dans le lot: arbre, plante, voiture, véhicule, buisson. Supposons que la matrice de similarité cosinus soit la suivante :\n",
    "\n",
    "|       | arbre | plante | voiture | véhicule | buisson |\n",
    "|-------|-------|--------|--------|----------|---------|\n",
    "| arbre | 1     | 0.8    | 0.1    | 0.2      | 0.9     |\n",
    "| plante| 0.8   | 1      | 0.3    | 0.4      | 0.7     |\n",
    "| voiture| 0.1  | 0.3    | 1      | 0.9      | 0.2     |\n",
    "| véhicule| 0.2 | 0.4    | 0.9    | 1        | 0.3     |\n",
    "| buisson| 0.9  | 0.7    | 0.2    | 0.3      | 1       |\n",
    "\n",
    "\n",
    "On commence par calculer les voisins de chaque mot du lot $B_S$. Le voisin d'un mot $m$ est défini comme tout mot qui apparait dans au moins une paire avec $m$ dans $B_S$. Un mot est aussi considéré comme son propre voisin.\n",
    "\n",
    "- voisins de arbre : arbre, plante, buisson\n",
    "- voisins de plante : plante, arbre\n",
    "- voisins de voiture : voiture, véhicule\n",
    "- voisins de véhicule : véhicule, voiture\n",
    "- voisins de buisson : buisson, arbre\n",
    "\n",
    "Après avoir masqué les voisins, la matrice est :\n",
    "\n",
    "|       | arbre | plante | voiture | véhicule | buisson |\n",
    "|-------|-------|--------|--------|----------|---------|\n",
    "| arbre | -inf  | -inf   | 0.1    | 0.2      | -inf    |\n",
    "| plante| -inf  | -inf   | 0.3    | 0.4      | 0.7     |\n",
    "| voiture| 0.1  | 0.3    | -inf   | -inf     | 0.2     |\n",
    "| véhicule| 0.2 | 0.4    | -inf   | -inf     | 0.3     |\n",
    "| buisson| -inf | 0.7    | 0.2    | 0.3      | -inf    |\n",
    "\n",
    "Pour calculer les négatifs, on prend le maximum de chaque ligne (donc le mot le plus similaire qui n'est pas un voisin) :\n",
    "\n",
    "Ici,\n",
    "- le négatif d'arbre est véhicule\n",
    "- le négatif de plante est buisson\n",
    "- le négatif de voiture est plante\n",
    "- le négatif de véhicule est plante\n",
    "- le négatif de buisson est plante\n",
    "\n",
    "En reprenant le batch $B_S$:\n",
    "- (arbre, plante)\n",
    "- (voiture, véhicule)\n",
    "- (arbre, buisson)\n",
    "\n",
    "$T_S$ sera composé de paires composées du négatif de chaque élément de $B_S$ :\n",
    "\n",
    "$B_S$ -> $T_S$\n",
    "- (arbre, plante) $\\rightarrow$ (véhicule, buisson), car le négatif d'arbre est véhicule et le négatif de plante est buisson\n",
    "- (voiture, véhicule) $\\rightarrow$ (plante, plante), car le négatif de voiture est plante et le négatif de véhicule est plante\n",
    "- (arbre, buisson) $\\rightarrow$ (véhicule, plante), car le négatif d'arbre est véhicule et le négatif de buisson est plante\n",
    "\n",
    "$T_S$ sera donc : \n",
    "- (véhicule, buisson)\n",
    "- (plante, plante)\n",
    "- (véhicule, plante)"
   ]
  },
  {
   "cell_type": "markdown",
   "metadata": {},
   "source": [
    "##### 3.1.2 Implémentez la fonction `prepare_neighbors` qui renvoit la liste des voisins de chaque mot dans le lot. (4 points)\n",
    "\n",
    "Les voisins d'un mot $m$ sont tous les mots du lot qui apparaissent dans au moins une paire avec $m$. Utilisez les bons indices (indice dans la matrice d'embeddings et indice dans le lot). Le résultat est une liste de liste de voisins, où `neighbors[i]` est la liste des voisins du mot `i` dans le lot."
   ]
  },
  {
   "cell_type": "code",
   "execution_count": 88,
   "metadata": {},
   "outputs": [],
   "source": [
    "def prepare_neighbors(index_pairs, unique_idx, index_to_idx):\n",
    "    \"\"\"\n",
    "    Prépare les voisins pour chaque mot dans les paires de mots.\n",
    "    \n",
    "    Args : \n",
    "        index_pairs     : torch.Tensor de seconde dimension 2\n",
    "        Tensor contenant les indices des embeddings des mots dans le vocabulaire. \n",
    "        Des indices qui sont reliés ensemble par une ligne dans ce tenseur ont \n",
    "        une relation sémantique entre eux (synonymes ou antonymes).\n",
    "\n",
    "        unique_idx      : set\n",
    "        Ensemble de tous les indices qui sont mentionnés dans la liste `index_pairs`.\n",
    "        \n",
    "        index_to_idx    : dict\n",
    "        Dictionnaire associant un indice mentionné dans `index_pairs` à son indice dans\n",
    "        la liste qui sera retournée. Par exemple, si dans ce dictionnaire, la clé 4 est\n",
    "        associée à la valeur 12, cela veut dire que les voisins du mot 4 dans le vocabulaire\n",
    "        seront retournés à l'indice 12 dans la liste de retour.\n",
    "\n",
    "    Returns:\n",
    "    Une liste où chaque élément est une liste des indices des voisins pour chaque mot (l'indice dans la liste correspond à l'indice unique).\n",
    "    \"\"\"\n",
    "\n",
    "    # On crée une copie du tensor des indices\n",
    "    index_pairs_ = index_pairs.clone()\n",
    "\n",
    "    # On remplace chaque index par idx (indice dans la liste)\n",
    "    index_pairs_.apply_(lambda x : index_to_idx[x])\n",
    "    # Pour chaque paire, on crée une deuxième instance inversée\n",
    "    # On concatène par la suite les versions inversées avec les versions originales\n",
    "    # Exemple : [[1, 2], [3, 4]] donne [[1, 2], [3, 4], [2, 1], [4, 3]]\n",
    "    index_pairs_ = torch.cat((index_pairs_, torch.flip(index_pairs_, dims=[1]))).tolist()\n",
    "    # On trie les paires par ordre décroissant\n",
    "    index_pairs_ = sorted(index_pairs_)\n",
    "    # On crée un dictionnaire tel que clé = idx, valeur = []\n",
    "    index_pairs_dict = {i: [] for i in range(len(unique_idx))}\n",
    "\n",
    "    # Pour chaque paire, on récupère l'élément dont la clé = premier élément de la paire\n",
    "    # On ajoute à sa valeur (liste) dans le dictionnaire les éléments de la paire\n",
    "    # Exemple : paire [1, 2] donne {1:[1,2]}\n",
    "    for i in index_pairs_:        \n",
    "        index_pairs_dict[i[0]].extend(i)\n",
    "    \n",
    "    return list(index_pairs_dict.values())"
   ]
  },
  {
   "cell_type": "code",
   "execution_count": 89,
   "metadata": {},
   "outputs": [
    {
     "name": "stdout",
     "output_type": "stream",
     "text": [
      "[[0, 2], [1, 4], [2, 0, 2, 3], [3, 2], [4, 1]]\n"
     ]
    }
   ],
   "source": [
    "# Exemple\n",
    "\n",
    "index_pairs = torch.tensor([[0, 12], [12, 31], [53, 4]])\n",
    "unique_idx = {0, 4, 12, 31, 53}\n",
    "index_to_idx = {0: 0, 4: 1, 12: 2, 31: 3, 53: 4}\n",
    "\n",
    "print(prepare_neighbors(index_pairs, unique_idx, index_to_idx))"
   ]
  },
  {
   "cell_type": "markdown",
   "metadata": {},
   "source": [
    "Réponse attendue\n",
    "\n",
    "`[[0, 2], [1, 4], [2, 0, 2, 3], [3, 2], [4, 1]]`"
   ]
  },
  {
   "cell_type": "markdown",
   "metadata": {},
   "source": [
    "##### 3.1.3 Implémentez la fonction `select_negatives` qui renvoit un dictionnaire qui associe à chaque élément son négatif. (4 points)\n",
    "\n",
    "Pour chaque élément du lot, on cherche le voisin le plus proche qui n'est pas le voisin de l'autre élément de la paire.\n",
    "\n",
    "Utilisez un masque pour cacher, dans la matrice de similarité, les voisins.\n",
    "\n",
    "La fonction utilise un paramètre `synonym` qui indique si on travaille sur un lot de synonymes ou d'antonymes. En cas de synonymes, on cherche le voisin le plus proche qui n'est pas un voisin de l'autre élément de la paire. En cas d'antonymes, on cherche le voisin le plus éloigné qui n'est pas un voisin de l'autre élément de la paire."
   ]
  },
  {
   "cell_type": "code",
   "execution_count": 90,
   "metadata": {},
   "outputs": [],
   "source": [
    "def select_negatives(indices, similarity_matrix, neighbors, synonym=True):\n",
    "    \"\"\"\n",
    "    Sélectionne les exemples négatifs à partir de la matrice de similarité et des voisins.\n",
    "\n",
    "    Args : \n",
    "        indices             : torch.Tensor (vocab_size)\n",
    "        Indices des mots présents dans le vocabulaires\n",
    "        \n",
    "        similarity_matrix   : torch.Tensor (vocab_size, vocab_size)\n",
    "        Matrice de similarité entre tous les mots présents dans le vocabulaire.\n",
    "        \n",
    "        neighbors           : list of lists\n",
    "        Liste des voisins de chaque mot. Par exemple, le premier élément de la liste\n",
    "        contiendra tous les voisins du mot 0 dans le vocabulaire.\n",
    "\n",
    "        synonym             : bool, optional (default=True)\n",
    "        Indique si l'on cherche des négatifs pour les synonymes (True) ou pour les antonymes (False).\n",
    "\n",
    "    Returns:\n",
    "    Dictionnaire mappant les mots avec leurs indices de négatifs {mot_index: négatif_index}.\n",
    "    \"\"\"\n",
    "    # On mappe la valeur True avec -inf et la fonction max, et on fait le contraire pour False\n",
    "    # Objectif : le masque -inf et la fonction max seront utilisés pour la sélection des négatifs dans le cas de synonymes\n",
    "    inf_dict = {True:float('-inf'), False:float('inf')}  \n",
    "    minmax_dict = {True:torch.max, False:torch.min}  \n",
    "\n",
    "    dict_select_negatives= {}\n",
    "    for pair in neighbors:\n",
    "        # Pour chaque mot (premier élément de la liste de voisins), on met à jour la matrice de similarité\n",
    "        # en attribuant -inf/inf aux cellules correspondant au mot et ses voisins pour les ignorer\n",
    "        similarity_matrix[pair[0], pair] = inf_dict[synonym]\n",
    "        # On sélectionne par la suite les négatifs en appliquant min ou max selon la valeurs de synonym\n",
    "        dict_select_negatives[pair[0]] = minmax_dict[synonym](similarity_matrix[pair[0]], dim=0)[1].item()\n",
    "\n",
    "    return dict_select_negatives"
   ]
  },
  {
   "cell_type": "code",
   "execution_count": 91,
   "metadata": {},
   "outputs": [
    {
     "name": "stdout",
     "output_type": "stream",
     "text": [
      "{0: 1, 1: 3, 2: 4, 3: 1, 4: 2}\n"
     ]
    }
   ],
   "source": [
    "# Exemple : synonymes\n",
    "\n",
    "indices = torch.tensor([0, 1, 2, 3, 4])\n",
    "neighbors = [[0, 2], [1, 4], [2, 0, 2, 3], [3, 2], [4, 1]]\n",
    "\n",
    "similarity_matrix = torch.tensor([\n",
    "    [ 1.0000, -0.4263, -0.7167, -0.9838, -0.5823],\n",
    "    [-0.4263,  1.0000, -0.1600,  0.5088, -0.3708],\n",
    "    [-0.7167, -0.1600,  1.0000,  0.7247,  0.5631],\n",
    "    [-0.9838,  0.5088,  0.7247,  1.0000,  0.4394],\n",
    "    [-0.5823, -0.3708,  0.5631,  0.4394,  1.0000]\n",
    "    ])\n",
    "\n",
    "print(select_negatives(indices, similarity_matrix, neighbors, synonym=True))"
   ]
  },
  {
   "cell_type": "markdown",
   "metadata": {},
   "source": [
    "Réponse attendue\n",
    "\n",
    "`{0: 1, 1: 3, 2: 4, 3: 1, 4: 2}`"
   ]
  },
  {
   "cell_type": "code",
   "execution_count": 92,
   "metadata": {},
   "outputs": [
    {
     "name": "stdout",
     "output_type": "stream",
     "text": [
      "{0: 3, 1: 0, 2: 1, 3: 0, 4: 0}\n"
     ]
    }
   ],
   "source": [
    "# Exemple : antonymes\n",
    "\n",
    "indices = torch.tensor([0, 1, 2, 3, 4])\n",
    "neighbors = [[0, 2], [1, 4], [2, 0, 2, 3], [3, 2], [4, 1]]\n",
    "\n",
    "similarity_matrix = torch.tensor([\n",
    "    [ 1.0000, -0.4263, -0.7167, -0.9838, -0.5823],\n",
    "    [-0.4263,  1.0000, -0.1600,  0.5088, -0.3708],\n",
    "    [-0.7167, -0.1600,  1.0000,  0.7247,  0.5631],\n",
    "    [-0.9838,  0.5088,  0.7247,  1.0000,  0.4394],\n",
    "    [-0.5823, -0.3708,  0.5631,  0.4394,  1.0000]\n",
    "    ])\n",
    "\n",
    "print(select_negatives(indices, similarity_matrix, neighbors, synonym=False))"
   ]
  },
  {
   "cell_type": "markdown",
   "metadata": {},
   "source": [
    "##### 3.1.4 Implémentez la fonction `run_negative_extraction` qui prépare les paires de synonymes et d'antonymes et appelle `prepare_neighbors` et `select_negatives`. (4 points)\n",
    "\n",
    "Préparez les indices uniques des mots du batch, calculez la similarité des mots, et appelez `prepare_neighbors` et `select_negatives`."
   ]
  },
  {
   "cell_type": "code",
   "execution_count": 93,
   "metadata": {},
   "outputs": [],
   "source": [
    "def run_negative_extraction(model, index_pairs, synonym=True):\n",
    "    \"\"\"\n",
    "    Extrait les exemples négatifs pour un ensemble de paires de mots.\n",
    "\n",
    "    Args :\n",
    "        index_pairs : torch.Tensor de seconde dimension 2\n",
    "        Contient les indices des mots.\n",
    "\n",
    "        synonym     : bool, optional (default=True)\n",
    "        Indique si l'on cherche des négatifs pour les synonymes (True) ou pour les antonymes (False).\n",
    "\n",
    "    Returns:\n",
    "    Dictionnaire mappant les indices des mots avec leurs indices de négatifs {mot_index: négatif_index}.\n",
    "    \"\"\"\n",
    "    # On construit unique_idx et index_to_idx\n",
    "    unique_idx = sorted(set(index_pairs.unique().tolist()))\n",
    "    index_to_idx = {v: k for k, v in enumerate(unique_idx)}\n",
    "    # On appelle la fonction 'prepare_neighbors' pour obtenir les voisins\n",
    "    neighbors = prepare_neighbors(index_pairs, unique_idx, index_to_idx)\n",
    "    \n",
    "    # On récupère les plongements à partir du modèle\n",
    "    word_matrix = model.embeddings(torch.tensor(unique_idx))\n",
    "    # On appelle la fonction 'select_negatives'\n",
    "    return select_negatives(torch.arange(len(unique_idx)), \n",
    "                            cosine_similarity(word_matrix, word_matrix), \n",
    "                            neighbors, synonym = synonym)"
   ]
  },
  {
   "cell_type": "code",
   "execution_count": 94,
   "metadata": {},
   "outputs": [
    {
     "name": "stdout",
     "output_type": "stream",
     "text": [
      "{0: 4, 1: 3, 2: 4, 3: 1, 4: 2}\n"
     ]
    }
   ],
   "source": [
    "# Exemple\n",
    "model = ContrastiveWordEmbeddingModel(embeddings)\n",
    "index_pairs = torch.tensor([[0, 12], [12, 31], [53, 4]])\n",
    "print(run_negative_extraction(model, index_pairs, synonym=True))"
   ]
  },
  {
   "cell_type": "markdown",
   "metadata": {},
   "source": [
    "#### 3.2 Fonctions de coût\n",
    "\n",
    "Pour chaque paire de synonymes $(x^l, x^r)$ *pour x left et x right* dans le lot $B_S$, nous trouvons un négatif $(t^l, t^r)$ ce qui constitue le lot $T_S$:\n",
    "- $ t^l $ est le mot dans le lot le plus proche de $ x^l $ mais qui n'est pas $ x^r $.\n",
    "- $ t^r $ est le mot dans le lot le plus proche de $ x^r $ mais qui n'est pas $ x^l $.\n",
    "\n",
    "De même, pour chaque paire d'antonymes $(x^l, x^r)$ dans le lot $B_A$, nous trouvons un négatif $(t^l, t^r)$ ce qui constitue le lot $T_A$:\n",
    "- $ t^l $ est le mot dans le lot le plus éloigné de $ x^l $ mais qui n'est pas $ x^r $.\n",
    "- $ t^r $ est le mot dans le lot le plus éloigné de $ x^r $ mais qui n'est pas $ x^l $.\n",
    "\n",
    "\n",
    "Comparer un mot à son synonyme (ou antonyme) et à son négatif permet d'entraîner le modèle sur des exemples difficiles qui forcent le modèle à apprendre des représentations plus robustes.\n",
    "\n",
    "Il y aura trois fonctions de coût :\n",
    "1. **Attraction** : Attire les synonymes plus proches les uns des autres.\n",
    "2. **Répulsion** : Repousse les antonymes plus loin les uns des autres.\n",
    "3. **Régularisation** : Évite que les plongements ne s'éloignent trop de ceux du modèle pré-entraîné.\n",
    "\n",
    "Les fonctions de coût sont définies comme suit, en sommant sur `i`, les paires de synonymes et d'antonymes dans les lots $B_S$ et $B_A$ :\n",
    "\n",
    "1. **Attraction** :\n",
    "$$ S(B_S, T_S) = \\sum_{i=1}^{|B_S|} \\left[ \\max \\left(0, \\delta_{syn} + x_i^l t_i^l - x_i^l x_i^r \\right) + \\max \\left( 0, \\delta_{syn} + x_i^r t_i^r - x_i^l x_i^r \\right) \\right] $$\n",
    "\n",
    "1. **Répulsion** :\n",
    "$$ A(B_A, T_A) = \\sum_{i=1}^{|B_A|} \\left[ \\max \\left(0, \\delta_{ant} + x_i^l x_i^r - x_i^l t_i^l \\right) + \\max \\left( 0, \\delta_{ant} + x_i^r x_i^l - x_i^r t_i^r \\right) \\right] $$\n",
    "\n",
    "1. **Régularisation** :\n",
    "$$ R(B_S, B_A) = \\sum_{x_i \\in V(B_S \\cup B_A)} \\lambda_{reg} \\| \\hat{x}_i - x_i \\|^2 $$\n",
    "\n",
    "La fonction de coût totale est la somme de ces trois termes :\n",
    "$$ C(B_S, T_S, B_A, T_A) = S(B_S, T_S) + A(B_A, T_A) + R(B_S, B_A) $$\n",
    "\n",
    "$\\delta_{syn}$, $\\delta_{ant}$ et $\\lambda_{reg}$ sont des hyperparamètres."
   ]
  },
  {
   "cell_type": "markdown",
   "metadata": {},
   "source": [
    "Avec l'exemple précédent, prenons\n",
    "> + $x_i^l$ : voiture\n",
    "> + $x_i^r$: véhicule\n",
    "> + $t_i^l$: plante\n",
    "> \n",
    "> On veut que voiture et véhicule aient un plus grand produit scalaire que voiture et plante, donc que $\\delta_{syn} + x_i^l t_i^l - x_i^l x_i^r <0$, et donc que $S$ soit minimisé. De même pour la deuxième partie de l'équation, symmétrique, avec le 2nd élément du couple."
   ]
  },
  {
   "cell_type": "markdown",
   "metadata": {},
   "source": [
    "##### 3.2.1 Implémentez la fonction `synonym_cost` qui calcule la fonction de coût d'attraction (sur les paires de synonymes). (5 points)\n",
    "\n",
    "$$ S(B_S, T_S) = \\sum_{i=1}^{|B_S|} \\left[ \\max \\left(0, \\delta_{syn} + x_i^l t_i^l - x_i^l x_i^r \\right) + \\max \\left( 0, \\delta_{syn} + x_i^r t_i^r - x_i^l x_i^r \\right) \\right] $$\n",
    "\n",
    "Le membre de gauche pénalise si le mot de gauche est plus éloigné de son négatif que de son synonyme. De même, le membre de droite pénalise si le mot de gauche est plus éloigné de son négatif que de son synonyme.\n"
   ]
  },
  {
   "cell_type": "code",
   "execution_count": 95,
   "metadata": {},
   "outputs": [],
   "source": [
    "def synonym_cost(model, synonym_pairs, synonym_negatives):\n",
    "    \"\"\"\n",
    "    Calcule le coût d'attraction pour les paires de synonymes.\n",
    "\n",
    "    synonym_pairs: liste de tuples d'indices de paires de synonymes\n",
    "    synonym_negatives: dictionnaire de mots avec leurs négatifs {mot_index: négatif_index}\n",
    "\n",
    "    Returns:\n",
    "    torch.Tensor, coût total pour les paires de synonymes\n",
    "    \"\"\"\n",
    "\n",
    "    # On construit unique_idx et index_to_idx\n",
    "    unique_idx = sorted(synonym_pairs.unique().tolist())\n",
    "    index_to_idx = {v: k for k, v in enumerate(unique_idx)}\n",
    "    # On récupère à partir du modèle, la matrice des plongements pour les indices des paires en entrée\n",
    "    word_matrix = model.embeddings(torch.tensor(unique_idx))\n",
    "    # On crée un dictionnaire tel que clé = idx du mot, valeur = plongement\n",
    "    word_matrix_dict = {i:j for i,j in enumerate(word_matrix)}\n",
    "\n",
    "    # On récupère le paramètre delta à partir du modèle\n",
    "    delta = model.margin_plus\n",
    "    # On définit la fonction word_matrix_matmul qui calcule le produit de deux plongements correspondants aux indices id1 et id2\n",
    "    word_matrix_matmul = lambda id1, id2 : torch.matmul(word_matrix_dict[id1], word_matrix_dict[id2])\n",
    "  \n",
    "    synonyme_cost = 0\n",
    "    for id_, (left_index, right_index) in enumerate(synonym_pairs.tolist()):\n",
    "        # Pour caque indice de la paire, on récupère son indice de liste (idx)\n",
    "        left_idx = index_to_idx[left_index]\n",
    "        right_idx = index_to_idx[right_index]\n",
    "        # On récupère pour chaque élément de la paire son négatif\n",
    "        left_nega_idx = synonym_negatives[left_idx]\n",
    "        right_nega_idx = synonym_negatives[right_idx]\n",
    "\n",
    "        # On calcule la formule du coût pour la paire courrante\n",
    "        left_cost = torch.relu(delta + word_matrix_matmul(left_idx, left_nega_idx) - word_matrix_matmul(left_idx, right_idx))\n",
    "        right_cost = torch.relu(delta + word_matrix_matmul(right_idx, right_nega_idx) - word_matrix_matmul(left_idx, right_idx))\n",
    "\n",
    "        # On ajoute les valeurs calculées à la valeur de coût globale\n",
    "        synonyme_cost += (left_cost + right_cost)\n",
    "        \n",
    "    return synonyme_cost"
   ]
  },
  {
   "cell_type": "code",
   "execution_count": 96,
   "metadata": {},
   "outputs": [
    {
     "name": "stdout",
     "output_type": "stream",
     "text": [
      "{0: 4, 1: 3, 2: 4, 3: 1, 4: 2}\n",
      "tensor(32.0728, grad_fn=<AddBackward0>)\n"
     ]
    }
   ],
   "source": [
    "# Exemple\n",
    "synonym_pairs = torch.tensor([[0, 12], [12, 31], [53, 4]])\n",
    "synonym_negatives = run_negative_extraction(model, synonym_pairs, synonym=True)\n",
    "print(synonym_negatives)\n",
    "print(synonym_cost(model, synonym_pairs, synonym_negatives))"
   ]
  },
  {
   "cell_type": "markdown",
   "metadata": {},
   "source": [
    "##### 3.2.2 Implémentez la fonction `antonym_cost` qui calcule la fonction de coût de répulsion (sur les paires d'antonymes). (5 points)\n",
    "\n",
    "$$ A(B_A, T_A) = \\sum_{i=1}^{|B_A|} \\left[ \\max \\left(0, \\delta_{ant} + x_i^l x_i^r - x_i^l t_i^l \\right) + \\max \\left( 0, \\delta_{ant} + x_i^r x_i^l - x_i^r t_i^r \\right) \\right] $$\n",
    "\n",
    "Le membre de gauche pénalise si le mot de gauche est plus éloigné de son antonyme que de son négatif. De même, le membre de droite pénalise si le mot de gauche est plus éloigné de son antonyme que de son négatif."
   ]
  },
  {
   "cell_type": "code",
   "execution_count": 97,
   "metadata": {},
   "outputs": [],
   "source": [
    "def antonym_cost(model, antonym_pairs, antonym_negatives):\n",
    "    \"\"\"\n",
    "    Calcule le coût de répulsion pour les paires d'antonymes.\n",
    "\n",
    "    antonym_pairs: liste de tuples d'indices de paires d'antonymes\n",
    "    antonym_negatives: dictionnaire de mots avec leurs négatifs {mot_index: négatif_index}\n",
    "\n",
    "    Returns:\n",
    "    torch.Tensor, coût total pour les paires d'antonymes\n",
    "    \"\"\"\n",
    "    unique_idx = sorted(antonym_pairs.unique().tolist())\n",
    "    index_to_idx = {v: k for k, v in enumerate(unique_idx)}\n",
    "    word_matrix = model.embeddings(torch.tensor(unique_idx))\n",
    "    word_matrix_dict = {i:j for i,j in enumerate(word_matrix)}\n",
    "    \n",
    "    delta = model.margin_minus\n",
    "    \n",
    "    word_matrix_matmul = lambda id1, id2 : torch.matmul(word_matrix_dict[id1], word_matrix_dict[id2])\n",
    "    \n",
    "    antonym_cost = 0\n",
    "    for id_, (left_index, right_index) in enumerate(antonym_pairs.tolist()):\n",
    "        left_idx = index_to_idx[left_index]\n",
    "        right_idx = index_to_idx[right_index]\n",
    "        left_nega_idx = antonym_negatives[left_idx]\n",
    "        right_nega_idx = antonym_negatives[right_idx]\n",
    "        \n",
    "        left_cost = torch.relu(delta + word_matrix_matmul(left_idx, right_idx) - word_matrix_matmul(left_idx, left_nega_idx))\n",
    "        right_cost = torch.relu(delta + word_matrix_matmul(right_idx, left_idx) - word_matrix_matmul(right_idx, right_nega_idx))\n",
    "        \n",
    "        antonym_cost += (left_cost + right_cost)\n",
    "        \n",
    "    return antonym_cost"
   ]
  },
  {
   "cell_type": "code",
   "execution_count": 98,
   "metadata": {},
   "outputs": [
    {
     "name": "stdout",
     "output_type": "stream",
     "text": [
      "{0: 1, 1: 0, 2: 1, 3: 0, 4: 3}\n",
      "tensor(15.0521, grad_fn=<AddBackward0>)\n"
     ]
    }
   ],
   "source": [
    "# Exemple\n",
    "antonym_pairs = torch.tensor([[0, 12], [12, 31], [53, 4]])\n",
    "antonym_negatives = run_negative_extraction(model, antonym_pairs, synonym=False)\n",
    "print(antonym_negatives)\n",
    "print(antonym_cost(model, antonym_pairs, antonym_negatives))"
   ]
  },
  {
   "cell_type": "markdown",
   "metadata": {},
   "source": [
    "##### 3.2.3 Implémentez la fonction `regularization_cost` qui calcule la fonction de coût de régularisation. (4 points)\n",
    "\n",
    "$$ R(B_S, B_A) = \\sum_{x_i \\in V(B_S \\cup B_A)} \\lambda_{reg} \\| \\hat{x}_i - x_i \\|^2 $$"
   ]
  },
  {
   "cell_type": "code",
   "execution_count": 99,
   "metadata": {},
   "outputs": [],
   "source": [
    "def regularization_cost(model, synonym_pairs, antonym_pairs):\n",
    "    \"\"\"\n",
    "    Calcule le coût de régularisation pour les paires de synonymes et antonymes.\n",
    "\n",
    "    synonym_pairs: liste de tuples d'indices de paires de synonymes\n",
    "    antonym_pairs: liste de tuples d'indices de paires d'antonymes\n",
    "\n",
    "    Returns:\n",
    "    torch.Tensor, coût total de régularisation\n",
    "    \"\"\"\n",
    "    sum_=0\n",
    "\n",
    "    # On combine les paires de synonymes et d'antonymes dans un seul tensor\n",
    "    all_pairs = torch.cat((synonym_pairs,antonym_pairs))\n",
    "\n",
    "    # On construit unique_idx et index_to_idx\n",
    "    unique_idx = sorted(all_pairs.unique().tolist())\n",
    "    index_to_idx = {v: k for k, v in enumerate(unique_idx)}\n",
    "\n",
    "    # A partir du modèle, on récupère les plongements initiaux et on mappe chaque indice de mot à son plongement\n",
    "    word_matrix_original = model.original_embeddings(torch.tensor(unique_idx))\n",
    "    word_matrix_original_dict = {i:j for i,j in enumerate(word_matrix_original)}\n",
    "\n",
    "    # A partir du modèle, on récupère les plongements appris et on mappe chaque indice de mot à son plongement\n",
    "    word_matrix = model.embeddings(torch.tensor(unique_idx))\n",
    "    word_matrix_dict = {i:j for i,j in enumerate(word_matrix)}\n",
    "\n",
    "    # On crée une copie des paires et on remplace chaque indice 'réel' par son indice de liste\n",
    "    all_pairs_ = all_pairs.clone()\n",
    "    all_pairs_.apply_(lambda x : index_to_idx[x])\n",
    "\n",
    "    # On crée une liste d'éléments uniques au lieu de paires\n",
    "    flattened_pairs = torch.unique(torch.flatten(all_pairs_))\n",
    "\n",
    "    # Pour chaque mot, on calcule la norme entre le plongement original et celui prédit\n",
    "    for _, idx in enumerate(flattened_pairs.tolist()):        \n",
    "        original = word_matrix_original_dict[idx]\n",
    "        predict = word_matrix_dict[idx]\n",
    "        sum_ += (torch.norm(original - predict, p=2))**2\n",
    "    \n",
    "    return model.regularization * sum_"
   ]
  },
  {
   "cell_type": "code",
   "execution_count": 100,
   "metadata": {},
   "outputs": [
    {
     "data": {
      "text/plain": [
       "tensor(0., grad_fn=<MulBackward0>)"
      ]
     },
     "execution_count": 100,
     "metadata": {},
     "output_type": "execute_result"
    }
   ],
   "source": [
    "synonym_pairs = torch.tensor([(0, 12), (12, 31), (53, 4)])\n",
    "antonym_pairs = torch.tensor([(0, 16), (16, 20), (34, 5)])\n",
    "regularization_cost(model, synonym_pairs, antonym_pairs)"
   ]
  },
  {
   "cell_type": "markdown",
   "metadata": {},
   "source": [
    "#### 3.3 Mise en place\n",
    "##### 3.3.1 Implémentez la fonction `forward` qui utilise les fonctions définies plus tôt pour calculer le coût total. (4 points)\n",
    "\n",
    "La fonction prend en entrée un lot de synonymes et un lot d'antonymes, c'est-à-dire des paires de synonymes et des paires d'antonymes.\n",
    "\n",
    "Vous devez trouver les négatifs de tous les mots des lots au moyen de votre fonction  run_negative_extraction puis calculer la fonction de coût totale."
   ]
  },
  {
   "cell_type": "code",
   "execution_count": 101,
   "metadata": {},
   "outputs": [],
   "source": [
    "def forward(model, synonym_pairs, antonym_pairs):\n",
    "    \"\"\"\n",
    "    Fonction forward pour calculer le coût total.\n",
    "\n",
    "    Args : \n",
    "        synonym_pairs   : \n",
    "        Liste de tuples d'indices de paires de synonymes\n",
    "\n",
    "        antonym_pairs   : \n",
    "        Liste de tuples d'indices de paires d'antonymes\n",
    "\n",
    "    Returns:\n",
    "    Tenseur contenant le coût total (attraction, répulsion et régularisation)\n",
    "    \"\"\"\n",
    "    # On récupère les négatifs\n",
    "    antonym_negatives = run_negative_extraction(model, antonym_pairs, synonym=False)\n",
    "    synonym_negatives = run_negative_extraction(model, synonym_pairs, synonym=True)\n",
    "\n",
    "    # On calcule la fonction de coût total    \n",
    "    total_cost = synonym_cost(model, synonym_pairs, synonym_negatives) + antonym_cost(model, antonym_pairs, antonym_negatives) + regularization_cost(model, synonym_pairs, antonym_pairs)\n",
    "    \n",
    "    return total_cost"
   ]
  },
  {
   "cell_type": "code",
   "execution_count": 102,
   "metadata": {},
   "outputs": [
    {
     "data": {
      "text/plain": [
       "tensor(44.3266, grad_fn=<AddBackward0>)"
      ]
     },
     "execution_count": 102,
     "metadata": {},
     "output_type": "execute_result"
    }
   ],
   "source": [
    "# Exemple\n",
    "synonym_pairs = torch.tensor([(0, 12), (12, 31), (53, 4)])\n",
    "antonym_pairs = torch.tensor([(0, 16), (16, 20), (34, 5)])\n",
    "forward(model, synonym_pairs, antonym_pairs)"
   ]
  },
  {
   "cell_type": "markdown",
   "metadata": {},
   "source": [
    "#### 3.3.2 Évaluation (3 points)\n",
    "\n",
    "Utilisez la fonction `spearman_rank_correlation` pour compléter la fonction d'évaluation `evaluate` qui exécute le modèle sur le jeu d'évaluation et calcule la corrélation de Spearman entre les scores prédits et réels.\n",
    "\n",
    "Utilisez `torch.no_grad()` pour éviter de stocker les gradients."
   ]
  },
  {
   "cell_type": "code",
   "execution_count": 103,
   "metadata": {},
   "outputs": [],
   "source": [
    "def evaluate(model, eval_data, word_to_index):\n",
    "    \"\"\"\n",
    "    Calclue les prédictions du modèle sur le jeu d'évaluation puis la corrélation de Spearman entre les scores prédits et réels.\n",
    "\n",
    "    model: modèle de plongements de mots\n",
    "    eval_data: pd.DataFrame\n",
    "    word_to_index: dict\n",
    "\n",
    "    Returns:\n",
    "    float, la corrélation de Spearman entre les scores prédits par le modèle et réels.\n",
    "    \"\"\"\n",
    "    model.eval()\n",
    "    device = model.device\n",
    "    word_pairs = list(zip(eval_data['word 1'], eval_data['word 2']))\n",
    "    eval_indices = [(word_to_index[w1], word_to_index[w2]) for w1, w2 in word_pairs if w1 in word_to_index and w2 in word_to_index]\n",
    "    \n",
    "    # On définit la fonction wordTensor qui retourne, à partir du modèle, le plongement de l'indice en paramètre\n",
    "    wordTensor = lambda idx : model.embeddings(torch.tensor([idx]))\n",
    "    \n",
    "    # On calcule la similarité cosinus entre les paires de mots d'évaluation\n",
    "    with torch.no_grad():\n",
    "        scores_prédits = [cosine_similarity(wordTensor(a),wordTensor(b)).item() for a,b in eval_indices]\n",
    "    \n",
    "    # On calcule la corrélation de Spearman entre la similarité cosinus et les scores réels\n",
    "    return spearman_rank_correlation(scores_prédits, list(eval_data['score']))"
   ]
  },
  {
   "cell_type": "code",
   "execution_count": 104,
   "metadata": {},
   "outputs": [
    {
     "data": {
      "text/plain": [
       "0.2916370157732884"
      ]
     },
     "execution_count": 104,
     "metadata": {},
     "output_type": "execute_result"
    }
   ],
   "source": [
    "# Exemple\n",
    "device = 'cuda' if torch.cuda.is_available() else 'cpu'\n",
    "glove = ContrastiveWordEmbeddingModel(glove_embeddings, device = device)\n",
    "evaluate(glove, evaluation_simlex, glove_word_to_index)"
   ]
  },
  {
   "cell_type": "markdown",
   "metadata": {},
   "source": [
    "### 4. Entraînement de zéro (16 Points)\n",
    "\n",
    "Nous allons maintenant entraîner le modèle de zéro, sans utiliser les plongements GloVe pré-entraînés. Ensuite, dans la partie 5, nous entraînerons le modèle en l'initialisant avec les plongements GloVe pré-entraînés."
   ]
  },
  {
   "cell_type": "code",
   "execution_count": 105,
   "metadata": {},
   "outputs": [],
   "source": [
    "# Hyperparamètres, optimiseur et DataLoader\n",
    "\n",
    "BATCH_SIZE = 64\n",
    "NUM_EPOCHS = 20\n",
    "LEARNING_RATE = 5e-3\n",
    "\n",
    "device = 'cuda' if torch.cuda.is_available() else 'cpu'\n",
    "\n",
    "torch.cuda.empty_cache()\n",
    "gc.collect()\n",
    "\n",
    "train_syn_tensor = data_to_tensor(train_synonyms, glove_word_to_index)\n",
    "train_ant_tensor = data_to_tensor(train_antonyms, glove_word_to_index)\n",
    "\n",
    "syn_data_loader = DataLoader(train_syn_tensor, batch_size=BATCH_SIZE, shuffle=True, drop_last=True)\n",
    "ant_data_loader = DataLoader(train_ant_tensor, batch_size=BATCH_SIZE, shuffle=True, drop_last=True)"
   ]
  },
  {
   "cell_type": "markdown",
   "metadata": {},
   "source": [
    "#### 4.1 Complétez la cellule suivante pour créer le modèle de zéro `model_zero`, à partir d'une matrice de plongements aléatoire. (1 point)"
   ]
  },
  {
   "cell_type": "code",
   "execution_count": 106,
   "metadata": {},
   "outputs": [],
   "source": [
    "model_zero = None\n",
    "random_seed = 0\n",
    "random_generator = torch.Generator(device=device).manual_seed(random_seed)\n",
    "\n",
    "embeddings_size = glove_embeddings.size()\n",
    "random_init_embeddings = torch.randn(embeddings_size, generator=random_generator, device = device).to(device)\n",
    "\n",
    "# On initialise le modèle de zéro avec les plongements aléatoires\n",
    "model_zero = ContrastiveWordEmbeddingModel(embeddings = random_init_embeddings, device = device)\n",
    "optimizer = optim.Adam(model_zero.parameters(), lr=LEARNING_RATE)"
   ]
  },
  {
   "cell_type": "markdown",
   "metadata": {},
   "source": [
    "#### 4.2 Entraînez le modèle sur le jeu des paires de synonymes et d'antonymes. (6 points)\n",
    "\n",
    "N'oubliez pas que l'entraînement se fait sur les synonymes et antonymes et que l'évaluation se fait sur SimLex-999.\n",
    "\n",
    "À défaut d'avoir un jeu de validation, on observe les résultats sur le corpus de test : SimLex-999. Ceci n’est fait qu’à titre illustratif pour voir l'évolution de l'apprentissage. Il ne faut pas faire de choix pour l’entrainement à partir des résultats sur le corpus de test.\n",
    "\n",
    "*Note : Les jeux de synonymes et d'antonymes n'ont pas la même taille. Une époque (epoch) correspond à une itération sur le jeu de données le plus petit.*"
   ]
  },
  {
   "cell_type": "code",
   "execution_count": 107,
   "metadata": {},
   "outputs": [
    {
     "name": "stdout",
     "output_type": "stream",
     "text": [
      "Before training, Spearman Correlation: -0.02651944\n",
      "Epoch 1, Loss: 10896.3525, Computational time : 29.6 s\n",
      "Epoch 1, Spearman Correlation: 0.01932304\n",
      "Epoch 2, Loss: 8356.6367, Computational time : 27.8 s\n",
      "Epoch 2, Spearman Correlation: 0.05936119\n",
      "Epoch 3, Loss: 6573.2710, Computational time : 30.0 s\n",
      "Epoch 3, Spearman Correlation: 0.08493067\n",
      "Epoch 4, Loss: 5761.5640, Computational time : 27.2 s\n",
      "Epoch 4, Spearman Correlation: 0.09898919\n",
      "Epoch 5, Loss: 5413.4932, Computational time : 27.5 s\n",
      "Epoch 5, Spearman Correlation: 0.10601235\n",
      "Epoch 6, Loss: 5173.6450, Computational time : 26.7 s\n",
      "Epoch 6, Spearman Correlation: 0.11094855\n",
      "Epoch 7, Loss: 4983.2554, Computational time : 26.5 s\n",
      "Epoch 7, Spearman Correlation: 0.11141494\n",
      "Epoch 8, Loss: 4832.3291, Computational time : 26.7 s\n",
      "Epoch 8, Spearman Correlation: 0.12058700\n",
      "Epoch 9, Loss: 4669.8062, Computational time : 27.1 s\n",
      "Epoch 9, Spearman Correlation: 0.12773055\n",
      "Epoch 10, Loss: 4504.8086, Computational time : 26.5 s\n",
      "Epoch 10, Spearman Correlation: 0.13574810\n",
      "Epoch 11, Loss: 4377.6938, Computational time : 26.4 s\n",
      "Epoch 11, Spearman Correlation: 0.13685892\n",
      "Epoch 12, Loss: 4259.9839, Computational time : 26.6 s\n",
      "Epoch 12, Spearman Correlation: 0.13915759\n",
      "Epoch 13, Loss: 4089.6038, Computational time : 26.4 s\n",
      "Epoch 13, Spearman Correlation: 0.14493407\n",
      "Epoch 14, Loss: 4010.9756, Computational time : 27.1 s\n",
      "Epoch 14, Spearman Correlation: 0.15241494\n",
      "Epoch 15, Loss: 3868.0735, Computational time : 26.6 s\n",
      "Epoch 15, Spearman Correlation: 0.16426333\n",
      "Epoch 16, Loss: 3771.2373, Computational time : 27.0 s\n",
      "Epoch 16, Spearman Correlation: 0.16797179\n",
      "Epoch 17, Loss: 3635.0801, Computational time : 27.0 s\n",
      "Epoch 17, Spearman Correlation: 0.17013875\n",
      "Epoch 18, Loss: 3509.0303, Computational time : 26.8 s\n",
      "Epoch 18, Spearman Correlation: 0.17355570\n",
      "Epoch 19, Loss: 3402.8071, Computational time : 26.7 s\n",
      "Epoch 19, Spearman Correlation: 0.17705934\n",
      "Epoch 20, Loss: 3256.3159, Computational time : 26.8 s\n",
      "Epoch 20, Spearman Correlation: 0.17959663\n"
     ]
    }
   ],
   "source": [
    "spearman_corr = evaluate(model_zero, evaluation_simlex, glove_word_to_index)\n",
    "print(f'Before training, Spearman Correlation: {spearman_corr:.8f}')\n",
    "\n",
    "loss_train = []\n",
    "spearman_corrs = []\n",
    "\n",
    "for epoch in range(NUM_EPOCHS): \n",
    "    t0 = time.time()\n",
    "    loss_epoch = []\n",
    "    # On active les gradients\n",
    "    model_zero.train()\n",
    "    i = 0\n",
    "    for inputs_syn, inputs_ant in zip(syn_data_loader, ant_data_loader):\n",
    "        # On réinitialise les gradients\n",
    "        optimizer.zero_grad() \n",
    "        # On calcule le coût\n",
    "        loss = forward(model_zero, inputs_syn, inputs_ant)\n",
    "        loss_epoch.append(loss)\n",
    "        # On calcule le gradient du coût par rapport aux entrées\n",
    "        loss.backward()\n",
    "        # On met à jour les paramètres\n",
    "        optimizer.step()\n",
    "\n",
    "    loss_epoch_avg = sum(loss_epoch) / len(loss_epoch)\n",
    "    loss_train.append(loss_epoch_avg)\n",
    "    print(f'Epoch {epoch + 1}, Loss: {loss_epoch_avg:.4f}, Computational time : {time.time()-t0:.1f} s')\n",
    "    spearman_corr = evaluate(model_zero, evaluation_simlex, glove_word_to_index)\n",
    "    spearman_corrs.append(spearman_corr)\n",
    "    print(f'Epoch {epoch + 1}, Spearman Correlation: {spearman_corr:.8f}')"
   ]
  },
  {
   "cell_type": "markdown",
   "metadata": {},
   "source": [
    "#### 4.3 Courbes d'entraînement du modèle de zéro (4 points)\n",
    "\n",
    "Affichez la perte moyenne sur le jeu d'entraînement et la corrélation de Spearman sur le jeu de validation à chaque époque."
   ]
  },
  {
   "cell_type": "code",
   "execution_count": 108,
   "metadata": {},
   "outputs": [
    {
     "data": {
      "image/png": "[encoded data removed]",
      "text/plain": [
       "<Figure size 1000x400 with 2 Axes>"
      ]
     },
     "metadata": {},
     "output_type": "display_data"
    }
   ],
   "source": [
    "# On récupère les épochs, la perte d'entraînement et la corrélation de spearman pour chaque époque\n",
    "epochs = [epoch + 1 for epoch in range(NUM_EPOCHS)]\n",
    "loss_train_array = [elem.item() for elem in loss_train]\n",
    "spearman_corrs_array = [elem.item() for elem in spearman_corrs]\n",
    "\n",
    "fig, axes = plt.subplots(nrows=1, ncols=2, figsize=(10, 4))\n",
    "\n",
    "axes[0].plot(epochs, loss_train_array, color = 'red')\n",
    "axes[0].set_xlabel('Epochs')\n",
    "axes[0].set_ylabel('Perte moyenne')\n",
    "axes[0].set_title('Perte moyenne sur l\\'ensemble d\\'entraînement')\n",
    "\n",
    "axes[1].plot(epochs, spearman_corrs_array, color = 'green')\n",
    "axes[1].set_xlabel('Epochs')\n",
    "axes[1].set_ylabel('Corrélation de Spearman')\n",
    "axes[1].set_title('Corrélation de Spearman sur l\\'ensemble d\\'évaluation')\n",
    "\n",
    "plt.tight_layout()\n",
    "plt.show()"
   ]
  },
  {
   "cell_type": "markdown",
   "metadata": {},
   "source": [
    "#### 4.4 Évaluation du modèle de zéro et comparaison avec GloVe (5 points)\n",
    "\n",
    "Comparez le modèle de zéro après l'entraînement à GloVe (résultat de la partie 2.4) en termes de corrélation de Spearman sur le jeu de validation. Quelle méthode est la plus performante ? Pourquoi ?\n"
   ]
  },
  {
   "cell_type": "code",
   "execution_count": 109,
   "metadata": {},
   "outputs": [
    {
     "name": "stdout",
     "output_type": "stream",
     "text": [
      "Résultats avec GloVe :  0.2916370157732884\n",
      "Résultats après entraînement du modèle de Zéro :  0.17959663471086318\n"
     ]
    }
   ],
   "source": [
    "# Résultat de la partie 2.4\n",
    "print('Résultats avec GloVe : ', spearman_rank_correlation(similarity_paires, list(evaluation_simlex['score'])))\n",
    "# Résultat après entraînement du modèle de Zéro\n",
    "print('Résultats après entraînement du modèle de Zéro : ', evaluate(model_zero, evaluation_simlex, glove_word_to_index))"
   ]
  },
  {
   "cell_type": "raw",
   "metadata": {},
   "source": [
    "On constate que même après l'entraînement du modèle de zéro, la corrélation obtenue est faible et ne dépasse pas la corrélation initiale obtenue avec les plongements GloVe. La représentation GloVe est donc plus performante en terme de corrélation de Spearman sur le jeu de validation. On peut expliquer ceci par le fait que le modèle de zéro a été initialisé par une matrice de plongements complètement aléatoire qui n'a aucune connaissance sur les mots et leurs similarités. Certes le modèle a pu apprendre certaines de ces caractéristiques durant l'entraînement (corrélation améliorée) mais la durée d'entraînement n'était pas suffisante pour dépasser la performance des plogenements GloVe qui ont quand même une connaissance sur les mots représentés."
   ]
  },
  {
   "cell_type": "markdown",
   "metadata": {},
   "source": [
    "### 5. Intérêt de GloVe (18 Points)\n",
    "\n",
    "Dans la section précédente, nous avons entraîné un modèle de zéro.\n",
    "\n",
    "Nous allons maintenant évaluer si initialiser le modèle avec les plongements de GloVe permet d'améliorer les performances."
   ]
  },
  {
   "cell_type": "markdown",
   "metadata": {},
   "source": [
    "#### 5.1 Initialisation avec GloVe (6 points)\n",
    "\n",
    "Entraînez le modèle `model_fine_tuned`, mais cette fois en ititialisant directement avec les plongements du modèle pré-entraîné GloVe.\n",
    "\n",
    "On utilisera Adam comme optimiseur."
   ]
  },
  {
   "cell_type": "code",
   "execution_count": 115,
   "metadata": {},
   "outputs": [],
   "source": [
    "model_fine_tuned = None\n",
    "\n",
    "BATCH_SIZE = 64\n",
    "NUM_EPOCHS = 20\n",
    "LEARNING_RATE = 5e-3\n",
    "\n",
    "device = 'cuda' if torch.cuda.is_available() else 'cpu'\n",
    "\n",
    "torch.cuda.empty_cache()\n",
    "gc.collect()\n",
    "\n",
    "train_syn_tensor = data_to_tensor(train_synonyms, glove_word_to_index)\n",
    "train_ant_tensor = data_to_tensor(train_antonyms, glove_word_to_index)\n",
    "\n",
    "syn_data_loader = DataLoader(train_syn_tensor, batch_size=BATCH_SIZE, shuffle=True, drop_last=True)\n",
    "ant_data_loader = DataLoader(train_ant_tensor, batch_size=BATCH_SIZE, shuffle=True, drop_last=True)\n",
    "\n",
    "model_fine_tuned = ContrastiveWordEmbeddingModel(embeddings = glove_embeddings, device = device)\n",
    "\n",
    "optimizer = optim.Adam(model_fine_tuned.parameters(), lr=LEARNING_RATE)"
   ]
  },
  {
   "cell_type": "code",
   "execution_count": 116,
   "metadata": {},
   "outputs": [
    {
     "name": "stdout",
     "output_type": "stream",
     "text": [
      "Before training, Spearman Correlation: 0.29163702\n",
      "Epoch 1, Loss: 2658.3413, Computational time : 27.5 s\n",
      "Epoch 1, Spearman Correlation: 0.36909701\n",
      "Epoch 2, Loss: 1394.5586, Computational time : 26.9 s\n",
      "Epoch 2, Spearman Correlation: 0.43578635\n",
      "Epoch 3, Loss: 839.2177, Computational time : 27.1 s\n",
      "Epoch 3, Spearman Correlation: 0.46397192\n",
      "Epoch 4, Loss: 639.4882, Computational time : 27.5 s\n",
      "Epoch 4, Spearman Correlation: 0.47759471\n",
      "Epoch 5, Loss: 539.1479, Computational time : 27.4 s\n",
      "Epoch 5, Spearman Correlation: 0.48281466\n",
      "Epoch 6, Loss: 472.6017, Computational time : 27.0 s\n",
      "Epoch 6, Spearman Correlation: 0.48316049\n",
      "Epoch 7, Loss: 438.9108, Computational time : 27.2 s\n",
      "Epoch 7, Spearman Correlation: 0.48080038\n",
      "Epoch 8, Loss: 405.5722, Computational time : 26.9 s\n",
      "Epoch 8, Spearman Correlation: 0.48427171\n",
      "Epoch 9, Loss: 385.7013, Computational time : 27.4 s\n",
      "Epoch 9, Spearman Correlation: 0.48894701\n",
      "Epoch 10, Loss: 361.7512, Computational time : 27.1 s\n",
      "Epoch 10, Spearman Correlation: 0.48454978\n",
      "Epoch 11, Loss: 344.9447, Computational time : 26.8 s\n",
      "Epoch 11, Spearman Correlation: 0.48625787\n",
      "Epoch 12, Loss: 330.7403, Computational time : 26.9 s\n",
      "Epoch 12, Spearman Correlation: 0.48629227\n",
      "Epoch 13, Loss: 311.1048, Computational time : 26.9 s\n",
      "Epoch 13, Spearman Correlation: 0.48829633\n",
      "Epoch 14, Loss: 306.3073, Computational time : 26.8 s\n",
      "Epoch 14, Spearman Correlation: 0.48392982\n",
      "Epoch 15, Loss: 288.6184, Computational time : 26.9 s\n",
      "Epoch 15, Spearman Correlation: 0.48701113\n",
      "Epoch 16, Loss: 269.2758, Computational time : 26.9 s\n",
      "Epoch 16, Spearman Correlation: 0.48310418\n",
      "Epoch 17, Loss: 259.6773, Computational time : 27.5 s\n",
      "Epoch 17, Spearman Correlation: 0.48590866\n",
      "Epoch 18, Loss: 255.0931, Computational time : 27.0 s\n",
      "Epoch 18, Spearman Correlation: 0.48531519\n",
      "Epoch 19, Loss: 251.4981, Computational time : 27.3 s\n",
      "Epoch 19, Spearman Correlation: 0.47976053\n",
      "Epoch 20, Loss: 245.6184, Computational time : 27.8 s\n",
      "Epoch 20, Spearman Correlation: 0.48371036\n"
     ]
    }
   ],
   "source": [
    "spearman_corr = evaluate(model_fine_tuned, evaluation_simlex, glove_word_to_index)\n",
    "print(f'Before training, Spearman Correlation: {spearman_corr:.8f}')\n",
    "\n",
    "loss_train_tuned = []\n",
    "spearman_corrs_tuned = []\n",
    "\n",
    "for epoch in range(NUM_EPOCHS): \n",
    "    t0 = time.time()\n",
    "    loss_epoch_tuned = []\n",
    "    model_fine_tuned.train()\n",
    "    i = 0\n",
    "    for inputs_syn, inputs_ant in zip(syn_data_loader, ant_data_loader):\n",
    "        optimizer.zero_grad() \n",
    "        loss = forward(model_fine_tuned, inputs_syn, inputs_ant)\n",
    "        loss_epoch_tuned.append(loss)\n",
    "        loss.backward()\n",
    "        optimizer.step()\n",
    "\n",
    "    loss_epoch_avg = sum(loss_epoch_tuned) / len(loss_epoch_tuned)\n",
    "    loss_train_tuned.append(loss_epoch_avg)\n",
    "    print(f'Epoch {epoch + 1}, Loss: {loss_epoch_avg:.4f}, Computational time : {time.time()-t0:.1f} s')\n",
    "    spearman_corr = evaluate(model_fine_tuned, evaluation_simlex, glove_word_to_index)\n",
    "    spearman_corrs_tuned.append(spearman_corr)\n",
    "    print(f'Epoch {epoch + 1}, Spearman Correlation: {spearman_corr:.8f}') "
   ]
  },
  {
   "cell_type": "markdown",
   "metadata": {},
   "source": [
    "#### 5.2 Courbes d'entraînement (4 points)\n",
    "\n",
    "Affichez la perte moyenne sur le jeu d'entraînement et la corrélation de Spearman sur le jeu de validation à chaque époque."
   ]
  },
  {
   "cell_type": "code",
   "execution_count": 117,
   "metadata": {},
   "outputs": [
    {
     "data": {
      "image/png": "[encoded data removed]",
      "text/plain": [
       "<Figure size 1000x400 with 2 Axes>"
      ]
     },
     "metadata": {},
     "output_type": "display_data"
    }
   ],
   "source": [
    "epochs = [epoch + 1 for epoch in range(NUM_EPOCHS)]\n",
    "loss_train_tuned_array = [elem.item() for elem in loss_train_tuned]\n",
    "spearman_corrs_tuned_array = [elem.item() for elem in spearman_corrs_tuned]\n",
    "\n",
    "fig, axes = plt.subplots(nrows=1, ncols=2, figsize=(10, 4))\n",
    "\n",
    "axes[0].plot(epochs, loss_train_tuned_array, color = 'red')\n",
    "axes[0].set_xlabel('Epochs')\n",
    "axes[0].set_ylabel('Perte moyenne')\n",
    "axes[0].set_title('Perte moyenne sur l\\'ensemble d\\'entraînement')\n",
    "\n",
    "axes[1].plot(epochs, spearman_corrs_tuned_array, color = 'green')\n",
    "axes[1].set_xlabel('Epochs')\n",
    "axes[1].set_ylabel('Corrélation de Spearman')\n",
    "axes[1].set_title('Corrélation de Spearman sur l\\'ensemble d\\'évaluation')\n",
    "\n",
    "plt.tight_layout()\n",
    "plt.show()"
   ]
  },
  {
   "cell_type": "markdown",
   "metadata": {},
   "source": [
    "#### 5.3 Vérification sur un exemple (3 points)\n",
    "\n",
    "Avec le modèle `model_fine_tuned`, calculez la similarité cosinus entre 'fast' et 'slow' et entre 'fast' et 'rapid'. Commentez les résultats en les comparant avec ceux de la partie 1.4."
   ]
  },
  {
   "cell_type": "code",
   "execution_count": 119,
   "metadata": {},
   "outputs": [
    {
     "name": "stdout",
     "output_type": "stream",
     "text": [
      "**Modèle fine-tuned**\n",
      "Fast-Slow :  0.14490196108818054  Fast-Rapid :  0.36047542095184326\n",
      "**GloVe**\n",
      "Fast-Slow :  0.7113726735115051  Fast-Rapid :  0.6445334553718567\n"
     ]
    }
   ],
   "source": [
    "def word_pair_to_similarity(w1, w2, embeddings):\n",
    "    return cosine_similarity(embeddings[word_to_index[w1]].reshape(1,-1), embeddings[word_to_index[w2]].reshape(1,-1)).item()\n",
    "\n",
    "ww1 = ('fast' , 'slow' )\n",
    "ww2 = ('fast' , 'rapid')\n",
    "\n",
    "emb = model_fine_tuned.embeddings.weight.data\n",
    "print('**Modèle fine-tuned**')\n",
    "print('Fast-Slow : ',word_pair_to_similarity(*ww1, emb), ' Fast-Rapid : ', word_pair_to_similarity(*ww2, emb))\n",
    "\n",
    "emb = embeddings\n",
    "print('**GloVe**')\n",
    "print('Fast-Slow : ',word_pair_to_similarity(*ww1, emb), ' Fast-Rapid : ', word_pair_to_similarity(*ww2, emb))"
   ]
  },
  {
   "cell_type": "raw",
   "metadata": {},
   "source": [
    "On remarque que les plongements obtenus après l'entraînement du modèle permettent de distinguer que fast et rapid (synonymes) sont similaires et donc proches alors que fast et slow (antonymes) sont moins similaires et donc éloignés dans l'espace vectoriel. Ceci n'était pas le cas avec les plongements de la question 1.4 qui reflètaient que fast-rapid et fast-slow sont similaires dont le même sens. Les plongements résultants du modèle sont capables de faire la distinction suite au traitement de la fonction de coût 'forward' qui attire les synonymes et repousse les antonymes."
   ]
  },
  {
   "cell_type": "markdown",
   "metadata": {},
   "source": [
    "#### 5.4 Analyse, comparaison, conclusion (5 points)\n",
    "\n",
    "Comparez les performances des trois modèles (GloVe, zéro, fine-tuned). Quelle méthode est la plus performante ? Pourquoi ?\n"
   ]
  },
  {
   "cell_type": "code",
   "execution_count": 120,
   "metadata": {},
   "outputs": [
    {
     "name": "stdout",
     "output_type": "stream",
     "text": [
      "Résultats avec GloVe :  0.2916370157732884\n",
      "Résultats après entraînement du modèle de Zéro :  0.17959663471086318\n",
      "Résultats après entraînement du modèle Fine-tuned :  0.4837103636702835\n"
     ]
    }
   ],
   "source": [
    "print('Résultats avec GloVe : ', spearman_rank_correlation(similarity_paires, list(evaluation_simlex['score'])))\n",
    "print('Résultats après entraînement du modèle de Zéro : ', evaluate(model_zero, evaluation_simlex, glove_word_to_index))\n",
    "print('Résultats après entraînement du modèle Fine-tuned : ', evaluate(model_fine_tuned, evaluation_simlex, glove_word_to_index))"
   ]
  },
  {
   "cell_type": "raw",
   "metadata": {},
   "source": [
    "La méthode la plus performante est le modèle fine-tuned, avec une corrélation de Spearman de 0,48 sur l'ensemble d'évaluation, nettement supérieure à celles obtenues avec les plongements GloVe initiaux et le modèle de zéro.\n",
    "Sur l'ensemble d'évaluation, la différence entre les paires de synonymes et celles d'antonymes est claire et marquée (score très élevé pour les synonymes contre score nul pour les antonymes) :\n",
    "* Le modèle fine-tuned (méthode 3) est initialisé avec les plongements GloVe, qui fournissent une bonne représentation initiale des mots. En utilisant une fonction de coût qui favorise l'attraction des synonymes et la répulsion des antonymes, il améliore la qualité des plongements initiaux, augmentant ainsi leur capacité à représenter la nature de la relation entre synonymes et antonymes.\n",
    "* Les plongements GloVe (méthode 1) traitent de manière équivalente la proximité entre synonymes et antonymes, ce qui explique leur performance inférieure sur l'ensemble d'évaluation.\n",
    "* Finalement, le modèle zéro (méthode 2) est initialisé avec une matrice aléatoire, sans aucune connaissance préalable des mots. Même avec la fonction de coût, il n'est pas suffisamment entraîné pour atteindre une performance acceptable."
   ]
  },
  {
   "cell_type": "markdown",
   "metadata": {},
   "source": [
    "## Livrables\n",
    "Vous devez remettre votre notebook sur Moodle et Gradescope en ipynb et pdf. Pour Gradescope vous devez associer les numéros de questions avec vos réponses dans le pdf grâce à l'outil que fournit Gradescope.\n",
    "\n",
    "\n",
    "## Évaluation \n",
    "Votre TP sera évalué selon les critères suivants :\n",
    "1. Exécution correcte du code et obtention des sorties attendues\n",
    "2. Réponses correctes aux questions d'analyse\n",
    "3. Qualité du code (noms significatifs, structure, performance, gestion d’exception, etc.)\n",
    "4. Commentaires clairs et informatifs"
   ]
  }
 ],
 "metadata": {
  "kernelspec": {
   "display_name": "Python 3 (ipykernel)",
   "language": "python",
   "name": "python3"
  },
  "language_info": {
   "codemirror_mode": {
    "name": "ipython",
    "version": 3
   },
   "file_extension": ".py",
   "mimetype": "text/x-python",
   "name": "python",
   "nbconvert_exporter": "python",
   "pygments_lexer": "ipython3",
   "version": "3.11.7"
  }
 },
 "nbformat": 4,
 "nbformat_minor": 4
}
